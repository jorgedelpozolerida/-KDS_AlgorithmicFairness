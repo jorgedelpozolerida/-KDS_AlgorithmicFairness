{
 "cells": [
  {
   "attachments": {},
   "cell_type": "markdown",
   "metadata": {},
   "source": [
    "# Assignment 1\n",
    "Authors: Kamil Kojs, János Máté and Jorge del Pozo Lérida"
   ]
  },
  {
   "attachments": {},
   "cell_type": "markdown",
   "metadata": {},
   "source": [
    "CHECKLIST: Overall\n",
    "\n",
    "* [ ] Assignment: Concise discussion of the results\n",
    "* [ ] Plots: Labels and titles clear and readable?\n",
    "* [ ] Code: can run the whole notebook? Modular, concise, and documented\n",
    "code?"
   ]
  },
  {
   "attachments": {},
   "cell_type": "markdown",
   "metadata": {},
   "source": [
    "### Dataset\n",
    "US Census data from https://github.com/zykls/folktables. \n",
    "\n",
    "We use data of individuals from the state California in 2018. \n",
    "More details on the dataset can be found in the accompanying\n",
    "paper at https://arxiv.org/pdf/2108.04884.pdf."
   ]
  },
  {
   "cell_type": "code",
   "execution_count": 57,
   "metadata": {},
   "outputs": [],
   "source": [
    "from folktables.acs import adult_filter\n",
    "from folktables import ACSDataSource\n",
    "import numpy as np\n",
    "import pandas as pd\n",
    "from sklearn.model_selection import train_test_split\n",
    "pd.set_option('display.max_columns', None)\n",
    "\n",
    "\n",
    "data_source = ACSDataSource(survey_year='2018', horizon='1-Year', survey='person')\n",
    "acs_data = data_source.get_data(states=[\"CA\"], download=True)\n",
    "\n",
    "feature_names = ['AGEP', # Age\n",
    "                 \"CIT\", # Citizenship status\n",
    "                 'COW', # Class of worker\n",
    "                 \"ENG\", # Ability to speak English\n",
    "                 'SCHL', # Educational attainment\n",
    "                 'MAR', # Marital status\n",
    "                 \"HINS1\", # Insurance through a current or former employer or union\n",
    "                 \"HINS2\", # Insurance purchased directly from an insurance company\n",
    "                 \"HINS4\", # Medicaid\n",
    "                 \"RAC1P\", # Recoded detailed race code\n",
    "                 'SEX']\n",
    "\n",
    "target_name = \"PINCP\" # Total person's income\n",
    "\n",
    "def data_processing(data, features, target_name:str, threshold: float = 35000):\n",
    "    df = data\n",
    "    ### Adult Filter (STARTS) (from Foltktables)\n",
    "    df = df[~df[\"SEX\"].isnull()]\n",
    "    df = df[~df[\"RAC1P\"].isnull()]\n",
    "    df = df[df['AGEP'] > 16]\n",
    "    df = df[df['PINCP'] > 100]\n",
    "    df = df[df['WKHP'] > 0]\n",
    "    df = df[df['PWGTP'] >= 1]\n",
    "    ### Adult Filter (ENDS)\n",
    "    ### Groups of interest\n",
    "    sex = df[\"SEX\"].values\n",
    "    ### Target\n",
    "    df[\"target\"] = df[target_name] > threshold\n",
    "    target = df[\"target\"].values\n",
    "    df = df[features + [\"target\", target_name]] ##we want to keep df before one_hot encoding to make Bias Analysis\n",
    "    df_processed = df[features].copy()\n",
    "    cols = [ \"HINS1\", \"HINS2\", \"HINS4\", \"CIT\", \"COW\", \"SCHL\", \"MAR\", \"SEX\", \"RAC1P\"]\n",
    "    df_processed = pd.get_dummies(df_processed, prefix=None, prefix_sep='_', dummy_na=False, columns=cols, drop_first=True)\n",
    "    df_processed = pd.get_dummies(df_processed, prefix=None, prefix_sep='_', dummy_na=True, columns=[\"ENG\"], drop_first=True)\n",
    "    return df_processed, df, target, sex"
   ]
  },
  {
   "attachments": {},
   "cell_type": "markdown",
   "metadata": {},
   "source": [
    "## Task1: Classifiers and fairness considerations"
   ]
  },
  {
   "attachments": {},
   "cell_type": "markdown",
   "metadata": {},
   "source": [
    "CHECKLIST: Task 1\n",
    "* [ ] Part 1: Discussion feature engineering and scaling steps\n",
    "* [ ] Part 1: Correct implementation of one-hot-encoding (if used for model)\n",
    "* [ ] Part 1: Build and train relevant models\n",
    "* [ ] Part 2: Code of statistical parity, equalized odds and equalized outcome\n",
    "* [ ] Part 2: Plot comparing the three metrics\n",
    "* [ ] Part 3: Discussion on accuracy changes and how other measures were\n",
    "affected by the intervention?"
   ]
  },
  {
   "cell_type": "code",
   "execution_count": 58,
   "metadata": {},
   "outputs": [],
   "source": [
    "from sklearn.preprocessing import MinMaxScaler\n",
    "from sklearn.ensemble import RandomForestClassifier\n",
    "from sklearn.metrics import accuracy_score\n",
    "import shap\n",
    "import plotly.express as px\n",
    "import pandas as pd\n",
    "import random\n",
    "import matplotlib.pyplot as plt\n",
    "\n",
    "mm_scaler = MinMaxScaler()"
   ]
  },
  {
   "cell_type": "code",
   "execution_count": 59,
   "metadata": {},
   "outputs": [
    {
     "data": {
      "text/html": [
       "<div>\n",
       "<style scoped>\n",
       "    .dataframe tbody tr th:only-of-type {\n",
       "        vertical-align: middle;\n",
       "    }\n",
       "\n",
       "    .dataframe tbody tr th {\n",
       "        vertical-align: top;\n",
       "    }\n",
       "\n",
       "    .dataframe thead th {\n",
       "        text-align: right;\n",
       "    }\n",
       "</style>\n",
       "<table border=\"1\" class=\"dataframe\">\n",
       "  <thead>\n",
       "    <tr style=\"text-align: right;\">\n",
       "      <th></th>\n",
       "      <th>AGEP</th>\n",
       "      <th>HINS1_2</th>\n",
       "      <th>HINS2_2</th>\n",
       "      <th>HINS4_2</th>\n",
       "      <th>CIT_2</th>\n",
       "      <th>CIT_3</th>\n",
       "      <th>CIT_4</th>\n",
       "      <th>CIT_5</th>\n",
       "      <th>COW_2.0</th>\n",
       "      <th>COW_3.0</th>\n",
       "      <th>COW_4.0</th>\n",
       "      <th>COW_5.0</th>\n",
       "      <th>COW_6.0</th>\n",
       "      <th>COW_7.0</th>\n",
       "      <th>COW_8.0</th>\n",
       "      <th>SCHL_2.0</th>\n",
       "      <th>SCHL_3.0</th>\n",
       "      <th>SCHL_4.0</th>\n",
       "      <th>SCHL_5.0</th>\n",
       "      <th>SCHL_6.0</th>\n",
       "      <th>SCHL_7.0</th>\n",
       "      <th>SCHL_8.0</th>\n",
       "      <th>SCHL_9.0</th>\n",
       "      <th>SCHL_10.0</th>\n",
       "      <th>SCHL_11.0</th>\n",
       "      <th>SCHL_12.0</th>\n",
       "      <th>SCHL_13.0</th>\n",
       "      <th>SCHL_14.0</th>\n",
       "      <th>SCHL_15.0</th>\n",
       "      <th>SCHL_16.0</th>\n",
       "      <th>SCHL_17.0</th>\n",
       "      <th>SCHL_18.0</th>\n",
       "      <th>SCHL_19.0</th>\n",
       "      <th>SCHL_20.0</th>\n",
       "      <th>SCHL_21.0</th>\n",
       "      <th>SCHL_22.0</th>\n",
       "      <th>SCHL_23.0</th>\n",
       "      <th>SCHL_24.0</th>\n",
       "      <th>MAR_2</th>\n",
       "      <th>MAR_3</th>\n",
       "      <th>MAR_4</th>\n",
       "      <th>MAR_5</th>\n",
       "      <th>SEX_2</th>\n",
       "      <th>RAC1P_2</th>\n",
       "      <th>RAC1P_3</th>\n",
       "      <th>RAC1P_4</th>\n",
       "      <th>RAC1P_5</th>\n",
       "      <th>RAC1P_6</th>\n",
       "      <th>RAC1P_7</th>\n",
       "      <th>RAC1P_8</th>\n",
       "      <th>RAC1P_9</th>\n",
       "      <th>ENG_2.0</th>\n",
       "      <th>ENG_3.0</th>\n",
       "      <th>ENG_4.0</th>\n",
       "      <th>ENG_nan</th>\n",
       "    </tr>\n",
       "  </thead>\n",
       "  <tbody>\n",
       "    <tr>\n",
       "      <th>0</th>\n",
       "      <td>30</td>\n",
       "      <td>1</td>\n",
       "      <td>1</td>\n",
       "      <td>0</td>\n",
       "      <td>0</td>\n",
       "      <td>0</td>\n",
       "      <td>0</td>\n",
       "      <td>0</td>\n",
       "      <td>0</td>\n",
       "      <td>0</td>\n",
       "      <td>0</td>\n",
       "      <td>0</td>\n",
       "      <td>1</td>\n",
       "      <td>0</td>\n",
       "      <td>0</td>\n",
       "      <td>0</td>\n",
       "      <td>0</td>\n",
       "      <td>0</td>\n",
       "      <td>0</td>\n",
       "      <td>0</td>\n",
       "      <td>0</td>\n",
       "      <td>0</td>\n",
       "      <td>0</td>\n",
       "      <td>0</td>\n",
       "      <td>0</td>\n",
       "      <td>0</td>\n",
       "      <td>0</td>\n",
       "      <td>1</td>\n",
       "      <td>0</td>\n",
       "      <td>0</td>\n",
       "      <td>0</td>\n",
       "      <td>0</td>\n",
       "      <td>0</td>\n",
       "      <td>0</td>\n",
       "      <td>0</td>\n",
       "      <td>0</td>\n",
       "      <td>0</td>\n",
       "      <td>0</td>\n",
       "      <td>0</td>\n",
       "      <td>0</td>\n",
       "      <td>0</td>\n",
       "      <td>0</td>\n",
       "      <td>0</td>\n",
       "      <td>0</td>\n",
       "      <td>0</td>\n",
       "      <td>0</td>\n",
       "      <td>0</td>\n",
       "      <td>0</td>\n",
       "      <td>0</td>\n",
       "      <td>1</td>\n",
       "      <td>0</td>\n",
       "      <td>0</td>\n",
       "      <td>0</td>\n",
       "      <td>0</td>\n",
       "      <td>0</td>\n",
       "    </tr>\n",
       "    <tr>\n",
       "      <th>6</th>\n",
       "      <td>21</td>\n",
       "      <td>1</td>\n",
       "      <td>0</td>\n",
       "      <td>1</td>\n",
       "      <td>0</td>\n",
       "      <td>0</td>\n",
       "      <td>0</td>\n",
       "      <td>0</td>\n",
       "      <td>0</td>\n",
       "      <td>0</td>\n",
       "      <td>1</td>\n",
       "      <td>0</td>\n",
       "      <td>0</td>\n",
       "      <td>0</td>\n",
       "      <td>0</td>\n",
       "      <td>0</td>\n",
       "      <td>0</td>\n",
       "      <td>0</td>\n",
       "      <td>0</td>\n",
       "      <td>0</td>\n",
       "      <td>0</td>\n",
       "      <td>0</td>\n",
       "      <td>0</td>\n",
       "      <td>0</td>\n",
       "      <td>0</td>\n",
       "      <td>0</td>\n",
       "      <td>0</td>\n",
       "      <td>0</td>\n",
       "      <td>0</td>\n",
       "      <td>1</td>\n",
       "      <td>0</td>\n",
       "      <td>0</td>\n",
       "      <td>0</td>\n",
       "      <td>0</td>\n",
       "      <td>0</td>\n",
       "      <td>0</td>\n",
       "      <td>0</td>\n",
       "      <td>0</td>\n",
       "      <td>0</td>\n",
       "      <td>0</td>\n",
       "      <td>0</td>\n",
       "      <td>1</td>\n",
       "      <td>0</td>\n",
       "      <td>0</td>\n",
       "      <td>0</td>\n",
       "      <td>0</td>\n",
       "      <td>0</td>\n",
       "      <td>0</td>\n",
       "      <td>0</td>\n",
       "      <td>0</td>\n",
       "      <td>0</td>\n",
       "      <td>0</td>\n",
       "      <td>0</td>\n",
       "      <td>0</td>\n",
       "      <td>1</td>\n",
       "    </tr>\n",
       "    <tr>\n",
       "      <th>7</th>\n",
       "      <td>65</td>\n",
       "      <td>1</td>\n",
       "      <td>1</td>\n",
       "      <td>1</td>\n",
       "      <td>0</td>\n",
       "      <td>0</td>\n",
       "      <td>0</td>\n",
       "      <td>0</td>\n",
       "      <td>1</td>\n",
       "      <td>0</td>\n",
       "      <td>0</td>\n",
       "      <td>0</td>\n",
       "      <td>0</td>\n",
       "      <td>0</td>\n",
       "      <td>0</td>\n",
       "      <td>0</td>\n",
       "      <td>0</td>\n",
       "      <td>0</td>\n",
       "      <td>0</td>\n",
       "      <td>0</td>\n",
       "      <td>0</td>\n",
       "      <td>0</td>\n",
       "      <td>0</td>\n",
       "      <td>0</td>\n",
       "      <td>0</td>\n",
       "      <td>0</td>\n",
       "      <td>0</td>\n",
       "      <td>0</td>\n",
       "      <td>0</td>\n",
       "      <td>0</td>\n",
       "      <td>0</td>\n",
       "      <td>0</td>\n",
       "      <td>0</td>\n",
       "      <td>0</td>\n",
       "      <td>0</td>\n",
       "      <td>1</td>\n",
       "      <td>0</td>\n",
       "      <td>0</td>\n",
       "      <td>0</td>\n",
       "      <td>0</td>\n",
       "      <td>0</td>\n",
       "      <td>1</td>\n",
       "      <td>0</td>\n",
       "      <td>0</td>\n",
       "      <td>0</td>\n",
       "      <td>0</td>\n",
       "      <td>0</td>\n",
       "      <td>0</td>\n",
       "      <td>0</td>\n",
       "      <td>0</td>\n",
       "      <td>0</td>\n",
       "      <td>0</td>\n",
       "      <td>0</td>\n",
       "      <td>0</td>\n",
       "      <td>0</td>\n",
       "    </tr>\n",
       "    <tr>\n",
       "      <th>10</th>\n",
       "      <td>33</td>\n",
       "      <td>1</td>\n",
       "      <td>1</td>\n",
       "      <td>0</td>\n",
       "      <td>0</td>\n",
       "      <td>0</td>\n",
       "      <td>0</td>\n",
       "      <td>0</td>\n",
       "      <td>0</td>\n",
       "      <td>0</td>\n",
       "      <td>0</td>\n",
       "      <td>0</td>\n",
       "      <td>0</td>\n",
       "      <td>0</td>\n",
       "      <td>0</td>\n",
       "      <td>0</td>\n",
       "      <td>0</td>\n",
       "      <td>0</td>\n",
       "      <td>0</td>\n",
       "      <td>0</td>\n",
       "      <td>0</td>\n",
       "      <td>0</td>\n",
       "      <td>0</td>\n",
       "      <td>0</td>\n",
       "      <td>0</td>\n",
       "      <td>0</td>\n",
       "      <td>0</td>\n",
       "      <td>1</td>\n",
       "      <td>0</td>\n",
       "      <td>0</td>\n",
       "      <td>0</td>\n",
       "      <td>0</td>\n",
       "      <td>0</td>\n",
       "      <td>0</td>\n",
       "      <td>0</td>\n",
       "      <td>0</td>\n",
       "      <td>0</td>\n",
       "      <td>0</td>\n",
       "      <td>0</td>\n",
       "      <td>1</td>\n",
       "      <td>0</td>\n",
       "      <td>0</td>\n",
       "      <td>0</td>\n",
       "      <td>0</td>\n",
       "      <td>0</td>\n",
       "      <td>0</td>\n",
       "      <td>0</td>\n",
       "      <td>0</td>\n",
       "      <td>0</td>\n",
       "      <td>0</td>\n",
       "      <td>0</td>\n",
       "      <td>0</td>\n",
       "      <td>0</td>\n",
       "      <td>0</td>\n",
       "      <td>0</td>\n",
       "    </tr>\n",
       "    <tr>\n",
       "      <th>13</th>\n",
       "      <td>18</td>\n",
       "      <td>1</td>\n",
       "      <td>0</td>\n",
       "      <td>1</td>\n",
       "      <td>0</td>\n",
       "      <td>0</td>\n",
       "      <td>0</td>\n",
       "      <td>0</td>\n",
       "      <td>1</td>\n",
       "      <td>0</td>\n",
       "      <td>0</td>\n",
       "      <td>0</td>\n",
       "      <td>0</td>\n",
       "      <td>0</td>\n",
       "      <td>0</td>\n",
       "      <td>0</td>\n",
       "      <td>0</td>\n",
       "      <td>0</td>\n",
       "      <td>0</td>\n",
       "      <td>0</td>\n",
       "      <td>0</td>\n",
       "      <td>0</td>\n",
       "      <td>0</td>\n",
       "      <td>0</td>\n",
       "      <td>0</td>\n",
       "      <td>0</td>\n",
       "      <td>0</td>\n",
       "      <td>0</td>\n",
       "      <td>0</td>\n",
       "      <td>0</td>\n",
       "      <td>0</td>\n",
       "      <td>0</td>\n",
       "      <td>1</td>\n",
       "      <td>0</td>\n",
       "      <td>0</td>\n",
       "      <td>0</td>\n",
       "      <td>0</td>\n",
       "      <td>0</td>\n",
       "      <td>0</td>\n",
       "      <td>0</td>\n",
       "      <td>0</td>\n",
       "      <td>1</td>\n",
       "      <td>1</td>\n",
       "      <td>0</td>\n",
       "      <td>0</td>\n",
       "      <td>0</td>\n",
       "      <td>0</td>\n",
       "      <td>0</td>\n",
       "      <td>0</td>\n",
       "      <td>0</td>\n",
       "      <td>0</td>\n",
       "      <td>0</td>\n",
       "      <td>0</td>\n",
       "      <td>0</td>\n",
       "      <td>1</td>\n",
       "    </tr>\n",
       "    <tr>\n",
       "      <th>...</th>\n",
       "      <td>...</td>\n",
       "      <td>...</td>\n",
       "      <td>...</td>\n",
       "      <td>...</td>\n",
       "      <td>...</td>\n",
       "      <td>...</td>\n",
       "      <td>...</td>\n",
       "      <td>...</td>\n",
       "      <td>...</td>\n",
       "      <td>...</td>\n",
       "      <td>...</td>\n",
       "      <td>...</td>\n",
       "      <td>...</td>\n",
       "      <td>...</td>\n",
       "      <td>...</td>\n",
       "      <td>...</td>\n",
       "      <td>...</td>\n",
       "      <td>...</td>\n",
       "      <td>...</td>\n",
       "      <td>...</td>\n",
       "      <td>...</td>\n",
       "      <td>...</td>\n",
       "      <td>...</td>\n",
       "      <td>...</td>\n",
       "      <td>...</td>\n",
       "      <td>...</td>\n",
       "      <td>...</td>\n",
       "      <td>...</td>\n",
       "      <td>...</td>\n",
       "      <td>...</td>\n",
       "      <td>...</td>\n",
       "      <td>...</td>\n",
       "      <td>...</td>\n",
       "      <td>...</td>\n",
       "      <td>...</td>\n",
       "      <td>...</td>\n",
       "      <td>...</td>\n",
       "      <td>...</td>\n",
       "      <td>...</td>\n",
       "      <td>...</td>\n",
       "      <td>...</td>\n",
       "      <td>...</td>\n",
       "      <td>...</td>\n",
       "      <td>...</td>\n",
       "      <td>...</td>\n",
       "      <td>...</td>\n",
       "      <td>...</td>\n",
       "      <td>...</td>\n",
       "      <td>...</td>\n",
       "      <td>...</td>\n",
       "      <td>...</td>\n",
       "      <td>...</td>\n",
       "      <td>...</td>\n",
       "      <td>...</td>\n",
       "      <td>...</td>\n",
       "    </tr>\n",
       "    <tr>\n",
       "      <th>378801</th>\n",
       "      <td>38</td>\n",
       "      <td>0</td>\n",
       "      <td>1</td>\n",
       "      <td>1</td>\n",
       "      <td>0</td>\n",
       "      <td>0</td>\n",
       "      <td>0</td>\n",
       "      <td>1</td>\n",
       "      <td>0</td>\n",
       "      <td>0</td>\n",
       "      <td>0</td>\n",
       "      <td>0</td>\n",
       "      <td>0</td>\n",
       "      <td>0</td>\n",
       "      <td>0</td>\n",
       "      <td>0</td>\n",
       "      <td>0</td>\n",
       "      <td>0</td>\n",
       "      <td>0</td>\n",
       "      <td>0</td>\n",
       "      <td>0</td>\n",
       "      <td>0</td>\n",
       "      <td>0</td>\n",
       "      <td>0</td>\n",
       "      <td>0</td>\n",
       "      <td>0</td>\n",
       "      <td>0</td>\n",
       "      <td>0</td>\n",
       "      <td>0</td>\n",
       "      <td>0</td>\n",
       "      <td>0</td>\n",
       "      <td>0</td>\n",
       "      <td>0</td>\n",
       "      <td>0</td>\n",
       "      <td>0</td>\n",
       "      <td>1</td>\n",
       "      <td>0</td>\n",
       "      <td>0</td>\n",
       "      <td>0</td>\n",
       "      <td>0</td>\n",
       "      <td>0</td>\n",
       "      <td>0</td>\n",
       "      <td>0</td>\n",
       "      <td>0</td>\n",
       "      <td>0</td>\n",
       "      <td>0</td>\n",
       "      <td>0</td>\n",
       "      <td>1</td>\n",
       "      <td>0</td>\n",
       "      <td>0</td>\n",
       "      <td>0</td>\n",
       "      <td>0</td>\n",
       "      <td>0</td>\n",
       "      <td>0</td>\n",
       "      <td>0</td>\n",
       "    </tr>\n",
       "    <tr>\n",
       "      <th>378802</th>\n",
       "      <td>39</td>\n",
       "      <td>0</td>\n",
       "      <td>1</td>\n",
       "      <td>1</td>\n",
       "      <td>0</td>\n",
       "      <td>0</td>\n",
       "      <td>0</td>\n",
       "      <td>1</td>\n",
       "      <td>0</td>\n",
       "      <td>0</td>\n",
       "      <td>0</td>\n",
       "      <td>0</td>\n",
       "      <td>0</td>\n",
       "      <td>0</td>\n",
       "      <td>0</td>\n",
       "      <td>0</td>\n",
       "      <td>0</td>\n",
       "      <td>0</td>\n",
       "      <td>0</td>\n",
       "      <td>0</td>\n",
       "      <td>0</td>\n",
       "      <td>0</td>\n",
       "      <td>0</td>\n",
       "      <td>0</td>\n",
       "      <td>0</td>\n",
       "      <td>0</td>\n",
       "      <td>0</td>\n",
       "      <td>0</td>\n",
       "      <td>0</td>\n",
       "      <td>0</td>\n",
       "      <td>0</td>\n",
       "      <td>0</td>\n",
       "      <td>0</td>\n",
       "      <td>0</td>\n",
       "      <td>0</td>\n",
       "      <td>1</td>\n",
       "      <td>0</td>\n",
       "      <td>0</td>\n",
       "      <td>0</td>\n",
       "      <td>0</td>\n",
       "      <td>0</td>\n",
       "      <td>0</td>\n",
       "      <td>1</td>\n",
       "      <td>0</td>\n",
       "      <td>0</td>\n",
       "      <td>0</td>\n",
       "      <td>0</td>\n",
       "      <td>1</td>\n",
       "      <td>0</td>\n",
       "      <td>0</td>\n",
       "      <td>0</td>\n",
       "      <td>0</td>\n",
       "      <td>0</td>\n",
       "      <td>0</td>\n",
       "      <td>0</td>\n",
       "    </tr>\n",
       "    <tr>\n",
       "      <th>378807</th>\n",
       "      <td>61</td>\n",
       "      <td>0</td>\n",
       "      <td>1</td>\n",
       "      <td>1</td>\n",
       "      <td>0</td>\n",
       "      <td>0</td>\n",
       "      <td>0</td>\n",
       "      <td>0</td>\n",
       "      <td>0</td>\n",
       "      <td>0</td>\n",
       "      <td>0</td>\n",
       "      <td>0</td>\n",
       "      <td>0</td>\n",
       "      <td>0</td>\n",
       "      <td>0</td>\n",
       "      <td>0</td>\n",
       "      <td>0</td>\n",
       "      <td>0</td>\n",
       "      <td>0</td>\n",
       "      <td>0</td>\n",
       "      <td>0</td>\n",
       "      <td>0</td>\n",
       "      <td>0</td>\n",
       "      <td>0</td>\n",
       "      <td>0</td>\n",
       "      <td>0</td>\n",
       "      <td>0</td>\n",
       "      <td>0</td>\n",
       "      <td>0</td>\n",
       "      <td>0</td>\n",
       "      <td>0</td>\n",
       "      <td>0</td>\n",
       "      <td>1</td>\n",
       "      <td>0</td>\n",
       "      <td>0</td>\n",
       "      <td>0</td>\n",
       "      <td>0</td>\n",
       "      <td>0</td>\n",
       "      <td>0</td>\n",
       "      <td>0</td>\n",
       "      <td>0</td>\n",
       "      <td>0</td>\n",
       "      <td>0</td>\n",
       "      <td>0</td>\n",
       "      <td>0</td>\n",
       "      <td>0</td>\n",
       "      <td>0</td>\n",
       "      <td>0</td>\n",
       "      <td>0</td>\n",
       "      <td>0</td>\n",
       "      <td>0</td>\n",
       "      <td>0</td>\n",
       "      <td>0</td>\n",
       "      <td>0</td>\n",
       "      <td>1</td>\n",
       "    </tr>\n",
       "    <tr>\n",
       "      <th>378811</th>\n",
       "      <td>69</td>\n",
       "      <td>1</td>\n",
       "      <td>1</td>\n",
       "      <td>1</td>\n",
       "      <td>0</td>\n",
       "      <td>0</td>\n",
       "      <td>1</td>\n",
       "      <td>0</td>\n",
       "      <td>0</td>\n",
       "      <td>0</td>\n",
       "      <td>0</td>\n",
       "      <td>0</td>\n",
       "      <td>0</td>\n",
       "      <td>1</td>\n",
       "      <td>0</td>\n",
       "      <td>0</td>\n",
       "      <td>0</td>\n",
       "      <td>0</td>\n",
       "      <td>0</td>\n",
       "      <td>0</td>\n",
       "      <td>0</td>\n",
       "      <td>0</td>\n",
       "      <td>0</td>\n",
       "      <td>0</td>\n",
       "      <td>0</td>\n",
       "      <td>0</td>\n",
       "      <td>0</td>\n",
       "      <td>0</td>\n",
       "      <td>0</td>\n",
       "      <td>0</td>\n",
       "      <td>0</td>\n",
       "      <td>0</td>\n",
       "      <td>0</td>\n",
       "      <td>0</td>\n",
       "      <td>0</td>\n",
       "      <td>0</td>\n",
       "      <td>0</td>\n",
       "      <td>1</td>\n",
       "      <td>0</td>\n",
       "      <td>0</td>\n",
       "      <td>0</td>\n",
       "      <td>0</td>\n",
       "      <td>0</td>\n",
       "      <td>0</td>\n",
       "      <td>0</td>\n",
       "      <td>0</td>\n",
       "      <td>0</td>\n",
       "      <td>1</td>\n",
       "      <td>0</td>\n",
       "      <td>0</td>\n",
       "      <td>0</td>\n",
       "      <td>1</td>\n",
       "      <td>0</td>\n",
       "      <td>0</td>\n",
       "      <td>0</td>\n",
       "    </tr>\n",
       "    <tr>\n",
       "      <th>378813</th>\n",
       "      <td>40</td>\n",
       "      <td>1</td>\n",
       "      <td>1</td>\n",
       "      <td>1</td>\n",
       "      <td>0</td>\n",
       "      <td>0</td>\n",
       "      <td>1</td>\n",
       "      <td>0</td>\n",
       "      <td>0</td>\n",
       "      <td>0</td>\n",
       "      <td>0</td>\n",
       "      <td>0</td>\n",
       "      <td>0</td>\n",
       "      <td>0</td>\n",
       "      <td>0</td>\n",
       "      <td>0</td>\n",
       "      <td>0</td>\n",
       "      <td>0</td>\n",
       "      <td>0</td>\n",
       "      <td>0</td>\n",
       "      <td>0</td>\n",
       "      <td>0</td>\n",
       "      <td>0</td>\n",
       "      <td>0</td>\n",
       "      <td>0</td>\n",
       "      <td>0</td>\n",
       "      <td>0</td>\n",
       "      <td>0</td>\n",
       "      <td>0</td>\n",
       "      <td>0</td>\n",
       "      <td>1</td>\n",
       "      <td>0</td>\n",
       "      <td>0</td>\n",
       "      <td>0</td>\n",
       "      <td>0</td>\n",
       "      <td>0</td>\n",
       "      <td>0</td>\n",
       "      <td>0</td>\n",
       "      <td>0</td>\n",
       "      <td>0</td>\n",
       "      <td>0</td>\n",
       "      <td>0</td>\n",
       "      <td>0</td>\n",
       "      <td>0</td>\n",
       "      <td>0</td>\n",
       "      <td>0</td>\n",
       "      <td>0</td>\n",
       "      <td>0</td>\n",
       "      <td>0</td>\n",
       "      <td>1</td>\n",
       "      <td>0</td>\n",
       "      <td>1</td>\n",
       "      <td>0</td>\n",
       "      <td>0</td>\n",
       "      <td>0</td>\n",
       "    </tr>\n",
       "  </tbody>\n",
       "</table>\n",
       "<p>195665 rows × 55 columns</p>\n",
       "</div>"
      ],
      "text/plain": [
       "        AGEP  HINS1_2  HINS2_2  HINS4_2  CIT_2  CIT_3  CIT_4  CIT_5  COW_2.0  \\\n",
       "0         30        1        1        0      0      0      0      0        0   \n",
       "6         21        1        0        1      0      0      0      0        0   \n",
       "7         65        1        1        1      0      0      0      0        1   \n",
       "10        33        1        1        0      0      0      0      0        0   \n",
       "13        18        1        0        1      0      0      0      0        1   \n",
       "...      ...      ...      ...      ...    ...    ...    ...    ...      ...   \n",
       "378801    38        0        1        1      0      0      0      1        0   \n",
       "378802    39        0        1        1      0      0      0      1        0   \n",
       "378807    61        0        1        1      0      0      0      0        0   \n",
       "378811    69        1        1        1      0      0      1      0        0   \n",
       "378813    40        1        1        1      0      0      1      0        0   \n",
       "\n",
       "        COW_3.0  COW_4.0  COW_5.0  COW_6.0  COW_7.0  COW_8.0  SCHL_2.0  \\\n",
       "0             0        0        0        1        0        0         0   \n",
       "6             0        1        0        0        0        0         0   \n",
       "7             0        0        0        0        0        0         0   \n",
       "10            0        0        0        0        0        0         0   \n",
       "13            0        0        0        0        0        0         0   \n",
       "...         ...      ...      ...      ...      ...      ...       ...   \n",
       "378801        0        0        0        0        0        0         0   \n",
       "378802        0        0        0        0        0        0         0   \n",
       "378807        0        0        0        0        0        0         0   \n",
       "378811        0        0        0        0        1        0         0   \n",
       "378813        0        0        0        0        0        0         0   \n",
       "\n",
       "        SCHL_3.0  SCHL_4.0  SCHL_5.0  SCHL_6.0  SCHL_7.0  SCHL_8.0  SCHL_9.0  \\\n",
       "0              0         0         0         0         0         0         0   \n",
       "6              0         0         0         0         0         0         0   \n",
       "7              0         0         0         0         0         0         0   \n",
       "10             0         0         0         0         0         0         0   \n",
       "13             0         0         0         0         0         0         0   \n",
       "...          ...       ...       ...       ...       ...       ...       ...   \n",
       "378801         0         0         0         0         0         0         0   \n",
       "378802         0         0         0         0         0         0         0   \n",
       "378807         0         0         0         0         0         0         0   \n",
       "378811         0         0         0         0         0         0         0   \n",
       "378813         0         0         0         0         0         0         0   \n",
       "\n",
       "        SCHL_10.0  SCHL_11.0  SCHL_12.0  SCHL_13.0  SCHL_14.0  SCHL_15.0  \\\n",
       "0               0          0          0          0          1          0   \n",
       "6               0          0          0          0          0          0   \n",
       "7               0          0          0          0          0          0   \n",
       "10              0          0          0          0          1          0   \n",
       "13              0          0          0          0          0          0   \n",
       "...           ...        ...        ...        ...        ...        ...   \n",
       "378801          0          0          0          0          0          0   \n",
       "378802          0          0          0          0          0          0   \n",
       "378807          0          0          0          0          0          0   \n",
       "378811          0          0          0          0          0          0   \n",
       "378813          0          0          0          0          0          0   \n",
       "\n",
       "        SCHL_16.0  SCHL_17.0  SCHL_18.0  SCHL_19.0  SCHL_20.0  SCHL_21.0  \\\n",
       "0               0          0          0          0          0          0   \n",
       "6               1          0          0          0          0          0   \n",
       "7               0          0          0          0          0          0   \n",
       "10              0          0          0          0          0          0   \n",
       "13              0          0          0          1          0          0   \n",
       "...           ...        ...        ...        ...        ...        ...   \n",
       "378801          0          0          0          0          0          0   \n",
       "378802          0          0          0          0          0          0   \n",
       "378807          0          0          0          1          0          0   \n",
       "378811          0          0          0          0          0          0   \n",
       "378813          0          1          0          0          0          0   \n",
       "\n",
       "        SCHL_22.0  SCHL_23.0  SCHL_24.0  MAR_2  MAR_3  MAR_4  MAR_5  SEX_2  \\\n",
       "0               0          0          0      0      0      0      0      0   \n",
       "6               0          0          0      0      0      0      1      0   \n",
       "7               1          0          0      0      0      0      1      0   \n",
       "10              0          0          0      0      1      0      0      0   \n",
       "13              0          0          0      0      0      0      1      1   \n",
       "...           ...        ...        ...    ...    ...    ...    ...    ...   \n",
       "378801          1          0          0      0      0      0      0      0   \n",
       "378802          1          0          0      0      0      0      0      1   \n",
       "378807          0          0          0      0      0      0      0      0   \n",
       "378811          0          0          1      0      0      0      0      0   \n",
       "378813          0          0          0      0      0      0      0      0   \n",
       "\n",
       "        RAC1P_2  RAC1P_3  RAC1P_4  RAC1P_5  RAC1P_6  RAC1P_7  RAC1P_8  \\\n",
       "0             0        0        0        0        0        0        1   \n",
       "6             0        0        0        0        0        0        0   \n",
       "7             0        0        0        0        0        0        0   \n",
       "10            0        0        0        0        0        0        0   \n",
       "13            0        0        0        0        0        0        0   \n",
       "...         ...      ...      ...      ...      ...      ...      ...   \n",
       "378801        0        0        0        0        1        0        0   \n",
       "378802        0        0        0        0        1        0        0   \n",
       "378807        0        0        0        0        0        0        0   \n",
       "378811        0        0        0        0        1        0        0   \n",
       "378813        0        0        0        0        0        0        1   \n",
       "\n",
       "        RAC1P_9  ENG_2.0  ENG_3.0  ENG_4.0  ENG_nan  \n",
       "0             0        0        0        0        0  \n",
       "6             0        0        0        0        1  \n",
       "7             0        0        0        0        0  \n",
       "10            0        0        0        0        0  \n",
       "13            0        0        0        0        1  \n",
       "...         ...      ...      ...      ...      ...  \n",
       "378801        0        0        0        0        0  \n",
       "378802        0        0        0        0        0  \n",
       "378807        0        0        0        0        1  \n",
       "378811        0        1        0        0        0  \n",
       "378813        0        1        0        0        0  \n",
       "\n",
       "[195665 rows x 55 columns]"
      ]
     },
     "execution_count": 59,
     "metadata": {},
     "output_type": "execute_result"
    }
   ],
   "source": [
    "data, data_original, target, group = data_processing(acs_data, feature_names, target_name)\n",
    "data"
   ]
  },
  {
   "cell_type": "code",
   "execution_count": 60,
   "metadata": {},
   "outputs": [
    {
     "data": {
      "text/html": [
       "<div>\n",
       "<style scoped>\n",
       "    .dataframe tbody tr th:only-of-type {\n",
       "        vertical-align: middle;\n",
       "    }\n",
       "\n",
       "    .dataframe tbody tr th {\n",
       "        vertical-align: top;\n",
       "    }\n",
       "\n",
       "    .dataframe thead th {\n",
       "        text-align: right;\n",
       "    }\n",
       "</style>\n",
       "<table border=\"1\" class=\"dataframe\">\n",
       "  <thead>\n",
       "    <tr style=\"text-align: right;\">\n",
       "      <th></th>\n",
       "      <th>AGEP</th>\n",
       "      <th>HINS1_2</th>\n",
       "      <th>HINS2_2</th>\n",
       "      <th>HINS4_2</th>\n",
       "      <th>CIT_2</th>\n",
       "      <th>CIT_3</th>\n",
       "      <th>CIT_4</th>\n",
       "      <th>CIT_5</th>\n",
       "      <th>COW_2.0</th>\n",
       "      <th>COW_3.0</th>\n",
       "      <th>COW_4.0</th>\n",
       "      <th>COW_5.0</th>\n",
       "      <th>COW_6.0</th>\n",
       "      <th>COW_7.0</th>\n",
       "      <th>COW_8.0</th>\n",
       "      <th>SCHL_2.0</th>\n",
       "      <th>SCHL_3.0</th>\n",
       "      <th>SCHL_4.0</th>\n",
       "      <th>SCHL_5.0</th>\n",
       "      <th>SCHL_6.0</th>\n",
       "      <th>SCHL_7.0</th>\n",
       "      <th>SCHL_8.0</th>\n",
       "      <th>SCHL_9.0</th>\n",
       "      <th>SCHL_10.0</th>\n",
       "      <th>SCHL_11.0</th>\n",
       "      <th>SCHL_12.0</th>\n",
       "      <th>SCHL_13.0</th>\n",
       "      <th>SCHL_14.0</th>\n",
       "      <th>SCHL_15.0</th>\n",
       "      <th>SCHL_16.0</th>\n",
       "      <th>SCHL_17.0</th>\n",
       "      <th>SCHL_18.0</th>\n",
       "      <th>SCHL_19.0</th>\n",
       "      <th>SCHL_20.0</th>\n",
       "      <th>SCHL_21.0</th>\n",
       "      <th>SCHL_22.0</th>\n",
       "      <th>SCHL_23.0</th>\n",
       "      <th>SCHL_24.0</th>\n",
       "      <th>MAR_2</th>\n",
       "      <th>MAR_3</th>\n",
       "      <th>MAR_4</th>\n",
       "      <th>MAR_5</th>\n",
       "      <th>SEX_2</th>\n",
       "      <th>RAC1P_2</th>\n",
       "      <th>RAC1P_3</th>\n",
       "      <th>RAC1P_4</th>\n",
       "      <th>RAC1P_5</th>\n",
       "      <th>RAC1P_6</th>\n",
       "      <th>RAC1P_7</th>\n",
       "      <th>RAC1P_8</th>\n",
       "      <th>RAC1P_9</th>\n",
       "      <th>ENG_2.0</th>\n",
       "      <th>ENG_3.0</th>\n",
       "      <th>ENG_4.0</th>\n",
       "      <th>ENG_nan</th>\n",
       "    </tr>\n",
       "  </thead>\n",
       "  <tbody>\n",
       "    <tr>\n",
       "      <th>0</th>\n",
       "      <td>0.168831</td>\n",
       "      <td>1</td>\n",
       "      <td>1</td>\n",
       "      <td>0</td>\n",
       "      <td>0</td>\n",
       "      <td>0</td>\n",
       "      <td>0</td>\n",
       "      <td>0</td>\n",
       "      <td>0</td>\n",
       "      <td>0</td>\n",
       "      <td>0</td>\n",
       "      <td>0</td>\n",
       "      <td>1</td>\n",
       "      <td>0</td>\n",
       "      <td>0</td>\n",
       "      <td>0</td>\n",
       "      <td>0</td>\n",
       "      <td>0</td>\n",
       "      <td>0</td>\n",
       "      <td>0</td>\n",
       "      <td>0</td>\n",
       "      <td>0</td>\n",
       "      <td>0</td>\n",
       "      <td>0</td>\n",
       "      <td>0</td>\n",
       "      <td>0</td>\n",
       "      <td>0</td>\n",
       "      <td>1</td>\n",
       "      <td>0</td>\n",
       "      <td>0</td>\n",
       "      <td>0</td>\n",
       "      <td>0</td>\n",
       "      <td>0</td>\n",
       "      <td>0</td>\n",
       "      <td>0</td>\n",
       "      <td>0</td>\n",
       "      <td>0</td>\n",
       "      <td>0</td>\n",
       "      <td>0</td>\n",
       "      <td>0</td>\n",
       "      <td>0</td>\n",
       "      <td>0</td>\n",
       "      <td>0</td>\n",
       "      <td>0</td>\n",
       "      <td>0</td>\n",
       "      <td>0</td>\n",
       "      <td>0</td>\n",
       "      <td>0</td>\n",
       "      <td>0</td>\n",
       "      <td>1</td>\n",
       "      <td>0</td>\n",
       "      <td>0</td>\n",
       "      <td>0</td>\n",
       "      <td>0</td>\n",
       "      <td>0</td>\n",
       "    </tr>\n",
       "    <tr>\n",
       "      <th>6</th>\n",
       "      <td>0.051948</td>\n",
       "      <td>1</td>\n",
       "      <td>0</td>\n",
       "      <td>1</td>\n",
       "      <td>0</td>\n",
       "      <td>0</td>\n",
       "      <td>0</td>\n",
       "      <td>0</td>\n",
       "      <td>0</td>\n",
       "      <td>0</td>\n",
       "      <td>1</td>\n",
       "      <td>0</td>\n",
       "      <td>0</td>\n",
       "      <td>0</td>\n",
       "      <td>0</td>\n",
       "      <td>0</td>\n",
       "      <td>0</td>\n",
       "      <td>0</td>\n",
       "      <td>0</td>\n",
       "      <td>0</td>\n",
       "      <td>0</td>\n",
       "      <td>0</td>\n",
       "      <td>0</td>\n",
       "      <td>0</td>\n",
       "      <td>0</td>\n",
       "      <td>0</td>\n",
       "      <td>0</td>\n",
       "      <td>0</td>\n",
       "      <td>0</td>\n",
       "      <td>1</td>\n",
       "      <td>0</td>\n",
       "      <td>0</td>\n",
       "      <td>0</td>\n",
       "      <td>0</td>\n",
       "      <td>0</td>\n",
       "      <td>0</td>\n",
       "      <td>0</td>\n",
       "      <td>0</td>\n",
       "      <td>0</td>\n",
       "      <td>0</td>\n",
       "      <td>0</td>\n",
       "      <td>1</td>\n",
       "      <td>0</td>\n",
       "      <td>0</td>\n",
       "      <td>0</td>\n",
       "      <td>0</td>\n",
       "      <td>0</td>\n",
       "      <td>0</td>\n",
       "      <td>0</td>\n",
       "      <td>0</td>\n",
       "      <td>0</td>\n",
       "      <td>0</td>\n",
       "      <td>0</td>\n",
       "      <td>0</td>\n",
       "      <td>1</td>\n",
       "    </tr>\n",
       "    <tr>\n",
       "      <th>7</th>\n",
       "      <td>0.623377</td>\n",
       "      <td>1</td>\n",
       "      <td>1</td>\n",
       "      <td>1</td>\n",
       "      <td>0</td>\n",
       "      <td>0</td>\n",
       "      <td>0</td>\n",
       "      <td>0</td>\n",
       "      <td>1</td>\n",
       "      <td>0</td>\n",
       "      <td>0</td>\n",
       "      <td>0</td>\n",
       "      <td>0</td>\n",
       "      <td>0</td>\n",
       "      <td>0</td>\n",
       "      <td>0</td>\n",
       "      <td>0</td>\n",
       "      <td>0</td>\n",
       "      <td>0</td>\n",
       "      <td>0</td>\n",
       "      <td>0</td>\n",
       "      <td>0</td>\n",
       "      <td>0</td>\n",
       "      <td>0</td>\n",
       "      <td>0</td>\n",
       "      <td>0</td>\n",
       "      <td>0</td>\n",
       "      <td>0</td>\n",
       "      <td>0</td>\n",
       "      <td>0</td>\n",
       "      <td>0</td>\n",
       "      <td>0</td>\n",
       "      <td>0</td>\n",
       "      <td>0</td>\n",
       "      <td>0</td>\n",
       "      <td>1</td>\n",
       "      <td>0</td>\n",
       "      <td>0</td>\n",
       "      <td>0</td>\n",
       "      <td>0</td>\n",
       "      <td>0</td>\n",
       "      <td>1</td>\n",
       "      <td>0</td>\n",
       "      <td>0</td>\n",
       "      <td>0</td>\n",
       "      <td>0</td>\n",
       "      <td>0</td>\n",
       "      <td>0</td>\n",
       "      <td>0</td>\n",
       "      <td>0</td>\n",
       "      <td>0</td>\n",
       "      <td>0</td>\n",
       "      <td>0</td>\n",
       "      <td>0</td>\n",
       "      <td>0</td>\n",
       "    </tr>\n",
       "    <tr>\n",
       "      <th>10</th>\n",
       "      <td>0.207792</td>\n",
       "      <td>1</td>\n",
       "      <td>1</td>\n",
       "      <td>0</td>\n",
       "      <td>0</td>\n",
       "      <td>0</td>\n",
       "      <td>0</td>\n",
       "      <td>0</td>\n",
       "      <td>0</td>\n",
       "      <td>0</td>\n",
       "      <td>0</td>\n",
       "      <td>0</td>\n",
       "      <td>0</td>\n",
       "      <td>0</td>\n",
       "      <td>0</td>\n",
       "      <td>0</td>\n",
       "      <td>0</td>\n",
       "      <td>0</td>\n",
       "      <td>0</td>\n",
       "      <td>0</td>\n",
       "      <td>0</td>\n",
       "      <td>0</td>\n",
       "      <td>0</td>\n",
       "      <td>0</td>\n",
       "      <td>0</td>\n",
       "      <td>0</td>\n",
       "      <td>0</td>\n",
       "      <td>1</td>\n",
       "      <td>0</td>\n",
       "      <td>0</td>\n",
       "      <td>0</td>\n",
       "      <td>0</td>\n",
       "      <td>0</td>\n",
       "      <td>0</td>\n",
       "      <td>0</td>\n",
       "      <td>0</td>\n",
       "      <td>0</td>\n",
       "      <td>0</td>\n",
       "      <td>0</td>\n",
       "      <td>1</td>\n",
       "      <td>0</td>\n",
       "      <td>0</td>\n",
       "      <td>0</td>\n",
       "      <td>0</td>\n",
       "      <td>0</td>\n",
       "      <td>0</td>\n",
       "      <td>0</td>\n",
       "      <td>0</td>\n",
       "      <td>0</td>\n",
       "      <td>0</td>\n",
       "      <td>0</td>\n",
       "      <td>0</td>\n",
       "      <td>0</td>\n",
       "      <td>0</td>\n",
       "      <td>0</td>\n",
       "    </tr>\n",
       "    <tr>\n",
       "      <th>13</th>\n",
       "      <td>0.012987</td>\n",
       "      <td>1</td>\n",
       "      <td>0</td>\n",
       "      <td>1</td>\n",
       "      <td>0</td>\n",
       "      <td>0</td>\n",
       "      <td>0</td>\n",
       "      <td>0</td>\n",
       "      <td>1</td>\n",
       "      <td>0</td>\n",
       "      <td>0</td>\n",
       "      <td>0</td>\n",
       "      <td>0</td>\n",
       "      <td>0</td>\n",
       "      <td>0</td>\n",
       "      <td>0</td>\n",
       "      <td>0</td>\n",
       "      <td>0</td>\n",
       "      <td>0</td>\n",
       "      <td>0</td>\n",
       "      <td>0</td>\n",
       "      <td>0</td>\n",
       "      <td>0</td>\n",
       "      <td>0</td>\n",
       "      <td>0</td>\n",
       "      <td>0</td>\n",
       "      <td>0</td>\n",
       "      <td>0</td>\n",
       "      <td>0</td>\n",
       "      <td>0</td>\n",
       "      <td>0</td>\n",
       "      <td>0</td>\n",
       "      <td>1</td>\n",
       "      <td>0</td>\n",
       "      <td>0</td>\n",
       "      <td>0</td>\n",
       "      <td>0</td>\n",
       "      <td>0</td>\n",
       "      <td>0</td>\n",
       "      <td>0</td>\n",
       "      <td>0</td>\n",
       "      <td>1</td>\n",
       "      <td>1</td>\n",
       "      <td>0</td>\n",
       "      <td>0</td>\n",
       "      <td>0</td>\n",
       "      <td>0</td>\n",
       "      <td>0</td>\n",
       "      <td>0</td>\n",
       "      <td>0</td>\n",
       "      <td>0</td>\n",
       "      <td>0</td>\n",
       "      <td>0</td>\n",
       "      <td>0</td>\n",
       "      <td>1</td>\n",
       "    </tr>\n",
       "    <tr>\n",
       "      <th>...</th>\n",
       "      <td>...</td>\n",
       "      <td>...</td>\n",
       "      <td>...</td>\n",
       "      <td>...</td>\n",
       "      <td>...</td>\n",
       "      <td>...</td>\n",
       "      <td>...</td>\n",
       "      <td>...</td>\n",
       "      <td>...</td>\n",
       "      <td>...</td>\n",
       "      <td>...</td>\n",
       "      <td>...</td>\n",
       "      <td>...</td>\n",
       "      <td>...</td>\n",
       "      <td>...</td>\n",
       "      <td>...</td>\n",
       "      <td>...</td>\n",
       "      <td>...</td>\n",
       "      <td>...</td>\n",
       "      <td>...</td>\n",
       "      <td>...</td>\n",
       "      <td>...</td>\n",
       "      <td>...</td>\n",
       "      <td>...</td>\n",
       "      <td>...</td>\n",
       "      <td>...</td>\n",
       "      <td>...</td>\n",
       "      <td>...</td>\n",
       "      <td>...</td>\n",
       "      <td>...</td>\n",
       "      <td>...</td>\n",
       "      <td>...</td>\n",
       "      <td>...</td>\n",
       "      <td>...</td>\n",
       "      <td>...</td>\n",
       "      <td>...</td>\n",
       "      <td>...</td>\n",
       "      <td>...</td>\n",
       "      <td>...</td>\n",
       "      <td>...</td>\n",
       "      <td>...</td>\n",
       "      <td>...</td>\n",
       "      <td>...</td>\n",
       "      <td>...</td>\n",
       "      <td>...</td>\n",
       "      <td>...</td>\n",
       "      <td>...</td>\n",
       "      <td>...</td>\n",
       "      <td>...</td>\n",
       "      <td>...</td>\n",
       "      <td>...</td>\n",
       "      <td>...</td>\n",
       "      <td>...</td>\n",
       "      <td>...</td>\n",
       "      <td>...</td>\n",
       "    </tr>\n",
       "    <tr>\n",
       "      <th>378801</th>\n",
       "      <td>0.272727</td>\n",
       "      <td>0</td>\n",
       "      <td>1</td>\n",
       "      <td>1</td>\n",
       "      <td>0</td>\n",
       "      <td>0</td>\n",
       "      <td>0</td>\n",
       "      <td>1</td>\n",
       "      <td>0</td>\n",
       "      <td>0</td>\n",
       "      <td>0</td>\n",
       "      <td>0</td>\n",
       "      <td>0</td>\n",
       "      <td>0</td>\n",
       "      <td>0</td>\n",
       "      <td>0</td>\n",
       "      <td>0</td>\n",
       "      <td>0</td>\n",
       "      <td>0</td>\n",
       "      <td>0</td>\n",
       "      <td>0</td>\n",
       "      <td>0</td>\n",
       "      <td>0</td>\n",
       "      <td>0</td>\n",
       "      <td>0</td>\n",
       "      <td>0</td>\n",
       "      <td>0</td>\n",
       "      <td>0</td>\n",
       "      <td>0</td>\n",
       "      <td>0</td>\n",
       "      <td>0</td>\n",
       "      <td>0</td>\n",
       "      <td>0</td>\n",
       "      <td>0</td>\n",
       "      <td>0</td>\n",
       "      <td>1</td>\n",
       "      <td>0</td>\n",
       "      <td>0</td>\n",
       "      <td>0</td>\n",
       "      <td>0</td>\n",
       "      <td>0</td>\n",
       "      <td>0</td>\n",
       "      <td>0</td>\n",
       "      <td>0</td>\n",
       "      <td>0</td>\n",
       "      <td>0</td>\n",
       "      <td>0</td>\n",
       "      <td>1</td>\n",
       "      <td>0</td>\n",
       "      <td>0</td>\n",
       "      <td>0</td>\n",
       "      <td>0</td>\n",
       "      <td>0</td>\n",
       "      <td>0</td>\n",
       "      <td>0</td>\n",
       "    </tr>\n",
       "    <tr>\n",
       "      <th>378802</th>\n",
       "      <td>0.285714</td>\n",
       "      <td>0</td>\n",
       "      <td>1</td>\n",
       "      <td>1</td>\n",
       "      <td>0</td>\n",
       "      <td>0</td>\n",
       "      <td>0</td>\n",
       "      <td>1</td>\n",
       "      <td>0</td>\n",
       "      <td>0</td>\n",
       "      <td>0</td>\n",
       "      <td>0</td>\n",
       "      <td>0</td>\n",
       "      <td>0</td>\n",
       "      <td>0</td>\n",
       "      <td>0</td>\n",
       "      <td>0</td>\n",
       "      <td>0</td>\n",
       "      <td>0</td>\n",
       "      <td>0</td>\n",
       "      <td>0</td>\n",
       "      <td>0</td>\n",
       "      <td>0</td>\n",
       "      <td>0</td>\n",
       "      <td>0</td>\n",
       "      <td>0</td>\n",
       "      <td>0</td>\n",
       "      <td>0</td>\n",
       "      <td>0</td>\n",
       "      <td>0</td>\n",
       "      <td>0</td>\n",
       "      <td>0</td>\n",
       "      <td>0</td>\n",
       "      <td>0</td>\n",
       "      <td>0</td>\n",
       "      <td>1</td>\n",
       "      <td>0</td>\n",
       "      <td>0</td>\n",
       "      <td>0</td>\n",
       "      <td>0</td>\n",
       "      <td>0</td>\n",
       "      <td>0</td>\n",
       "      <td>1</td>\n",
       "      <td>0</td>\n",
       "      <td>0</td>\n",
       "      <td>0</td>\n",
       "      <td>0</td>\n",
       "      <td>1</td>\n",
       "      <td>0</td>\n",
       "      <td>0</td>\n",
       "      <td>0</td>\n",
       "      <td>0</td>\n",
       "      <td>0</td>\n",
       "      <td>0</td>\n",
       "      <td>0</td>\n",
       "    </tr>\n",
       "    <tr>\n",
       "      <th>378807</th>\n",
       "      <td>0.571429</td>\n",
       "      <td>0</td>\n",
       "      <td>1</td>\n",
       "      <td>1</td>\n",
       "      <td>0</td>\n",
       "      <td>0</td>\n",
       "      <td>0</td>\n",
       "      <td>0</td>\n",
       "      <td>0</td>\n",
       "      <td>0</td>\n",
       "      <td>0</td>\n",
       "      <td>0</td>\n",
       "      <td>0</td>\n",
       "      <td>0</td>\n",
       "      <td>0</td>\n",
       "      <td>0</td>\n",
       "      <td>0</td>\n",
       "      <td>0</td>\n",
       "      <td>0</td>\n",
       "      <td>0</td>\n",
       "      <td>0</td>\n",
       "      <td>0</td>\n",
       "      <td>0</td>\n",
       "      <td>0</td>\n",
       "      <td>0</td>\n",
       "      <td>0</td>\n",
       "      <td>0</td>\n",
       "      <td>0</td>\n",
       "      <td>0</td>\n",
       "      <td>0</td>\n",
       "      <td>0</td>\n",
       "      <td>0</td>\n",
       "      <td>1</td>\n",
       "      <td>0</td>\n",
       "      <td>0</td>\n",
       "      <td>0</td>\n",
       "      <td>0</td>\n",
       "      <td>0</td>\n",
       "      <td>0</td>\n",
       "      <td>0</td>\n",
       "      <td>0</td>\n",
       "      <td>0</td>\n",
       "      <td>0</td>\n",
       "      <td>0</td>\n",
       "      <td>0</td>\n",
       "      <td>0</td>\n",
       "      <td>0</td>\n",
       "      <td>0</td>\n",
       "      <td>0</td>\n",
       "      <td>0</td>\n",
       "      <td>0</td>\n",
       "      <td>0</td>\n",
       "      <td>0</td>\n",
       "      <td>0</td>\n",
       "      <td>1</td>\n",
       "    </tr>\n",
       "    <tr>\n",
       "      <th>378811</th>\n",
       "      <td>0.675325</td>\n",
       "      <td>1</td>\n",
       "      <td>1</td>\n",
       "      <td>1</td>\n",
       "      <td>0</td>\n",
       "      <td>0</td>\n",
       "      <td>1</td>\n",
       "      <td>0</td>\n",
       "      <td>0</td>\n",
       "      <td>0</td>\n",
       "      <td>0</td>\n",
       "      <td>0</td>\n",
       "      <td>0</td>\n",
       "      <td>1</td>\n",
       "      <td>0</td>\n",
       "      <td>0</td>\n",
       "      <td>0</td>\n",
       "      <td>0</td>\n",
       "      <td>0</td>\n",
       "      <td>0</td>\n",
       "      <td>0</td>\n",
       "      <td>0</td>\n",
       "      <td>0</td>\n",
       "      <td>0</td>\n",
       "      <td>0</td>\n",
       "      <td>0</td>\n",
       "      <td>0</td>\n",
       "      <td>0</td>\n",
       "      <td>0</td>\n",
       "      <td>0</td>\n",
       "      <td>0</td>\n",
       "      <td>0</td>\n",
       "      <td>0</td>\n",
       "      <td>0</td>\n",
       "      <td>0</td>\n",
       "      <td>0</td>\n",
       "      <td>0</td>\n",
       "      <td>1</td>\n",
       "      <td>0</td>\n",
       "      <td>0</td>\n",
       "      <td>0</td>\n",
       "      <td>0</td>\n",
       "      <td>0</td>\n",
       "      <td>0</td>\n",
       "      <td>0</td>\n",
       "      <td>0</td>\n",
       "      <td>0</td>\n",
       "      <td>1</td>\n",
       "      <td>0</td>\n",
       "      <td>0</td>\n",
       "      <td>0</td>\n",
       "      <td>1</td>\n",
       "      <td>0</td>\n",
       "      <td>0</td>\n",
       "      <td>0</td>\n",
       "    </tr>\n",
       "    <tr>\n",
       "      <th>378813</th>\n",
       "      <td>0.298701</td>\n",
       "      <td>1</td>\n",
       "      <td>1</td>\n",
       "      <td>1</td>\n",
       "      <td>0</td>\n",
       "      <td>0</td>\n",
       "      <td>1</td>\n",
       "      <td>0</td>\n",
       "      <td>0</td>\n",
       "      <td>0</td>\n",
       "      <td>0</td>\n",
       "      <td>0</td>\n",
       "      <td>0</td>\n",
       "      <td>0</td>\n",
       "      <td>0</td>\n",
       "      <td>0</td>\n",
       "      <td>0</td>\n",
       "      <td>0</td>\n",
       "      <td>0</td>\n",
       "      <td>0</td>\n",
       "      <td>0</td>\n",
       "      <td>0</td>\n",
       "      <td>0</td>\n",
       "      <td>0</td>\n",
       "      <td>0</td>\n",
       "      <td>0</td>\n",
       "      <td>0</td>\n",
       "      <td>0</td>\n",
       "      <td>0</td>\n",
       "      <td>0</td>\n",
       "      <td>1</td>\n",
       "      <td>0</td>\n",
       "      <td>0</td>\n",
       "      <td>0</td>\n",
       "      <td>0</td>\n",
       "      <td>0</td>\n",
       "      <td>0</td>\n",
       "      <td>0</td>\n",
       "      <td>0</td>\n",
       "      <td>0</td>\n",
       "      <td>0</td>\n",
       "      <td>0</td>\n",
       "      <td>0</td>\n",
       "      <td>0</td>\n",
       "      <td>0</td>\n",
       "      <td>0</td>\n",
       "      <td>0</td>\n",
       "      <td>0</td>\n",
       "      <td>0</td>\n",
       "      <td>1</td>\n",
       "      <td>0</td>\n",
       "      <td>1</td>\n",
       "      <td>0</td>\n",
       "      <td>0</td>\n",
       "      <td>0</td>\n",
       "    </tr>\n",
       "  </tbody>\n",
       "</table>\n",
       "<p>195665 rows × 55 columns</p>\n",
       "</div>"
      ],
      "text/plain": [
       "            AGEP  HINS1_2  HINS2_2  HINS4_2  CIT_2  CIT_3  CIT_4  CIT_5  \\\n",
       "0       0.168831        1        1        0      0      0      0      0   \n",
       "6       0.051948        1        0        1      0      0      0      0   \n",
       "7       0.623377        1        1        1      0      0      0      0   \n",
       "10      0.207792        1        1        0      0      0      0      0   \n",
       "13      0.012987        1        0        1      0      0      0      0   \n",
       "...          ...      ...      ...      ...    ...    ...    ...    ...   \n",
       "378801  0.272727        0        1        1      0      0      0      1   \n",
       "378802  0.285714        0        1        1      0      0      0      1   \n",
       "378807  0.571429        0        1        1      0      0      0      0   \n",
       "378811  0.675325        1        1        1      0      0      1      0   \n",
       "378813  0.298701        1        1        1      0      0      1      0   \n",
       "\n",
       "        COW_2.0  COW_3.0  COW_4.0  COW_5.0  COW_6.0  COW_7.0  COW_8.0  \\\n",
       "0             0        0        0        0        1        0        0   \n",
       "6             0        0        1        0        0        0        0   \n",
       "7             1        0        0        0        0        0        0   \n",
       "10            0        0        0        0        0        0        0   \n",
       "13            1        0        0        0        0        0        0   \n",
       "...         ...      ...      ...      ...      ...      ...      ...   \n",
       "378801        0        0        0        0        0        0        0   \n",
       "378802        0        0        0        0        0        0        0   \n",
       "378807        0        0        0        0        0        0        0   \n",
       "378811        0        0        0        0        0        1        0   \n",
       "378813        0        0        0        0        0        0        0   \n",
       "\n",
       "        SCHL_2.0  SCHL_3.0  SCHL_4.0  SCHL_5.0  SCHL_6.0  SCHL_7.0  SCHL_8.0  \\\n",
       "0              0         0         0         0         0         0         0   \n",
       "6              0         0         0         0         0         0         0   \n",
       "7              0         0         0         0         0         0         0   \n",
       "10             0         0         0         0         0         0         0   \n",
       "13             0         0         0         0         0         0         0   \n",
       "...          ...       ...       ...       ...       ...       ...       ...   \n",
       "378801         0         0         0         0         0         0         0   \n",
       "378802         0         0         0         0         0         0         0   \n",
       "378807         0         0         0         0         0         0         0   \n",
       "378811         0         0         0         0         0         0         0   \n",
       "378813         0         0         0         0         0         0         0   \n",
       "\n",
       "        SCHL_9.0  SCHL_10.0  SCHL_11.0  SCHL_12.0  SCHL_13.0  SCHL_14.0  \\\n",
       "0              0          0          0          0          0          1   \n",
       "6              0          0          0          0          0          0   \n",
       "7              0          0          0          0          0          0   \n",
       "10             0          0          0          0          0          1   \n",
       "13             0          0          0          0          0          0   \n",
       "...          ...        ...        ...        ...        ...        ...   \n",
       "378801         0          0          0          0          0          0   \n",
       "378802         0          0          0          0          0          0   \n",
       "378807         0          0          0          0          0          0   \n",
       "378811         0          0          0          0          0          0   \n",
       "378813         0          0          0          0          0          0   \n",
       "\n",
       "        SCHL_15.0  SCHL_16.0  SCHL_17.0  SCHL_18.0  SCHL_19.0  SCHL_20.0  \\\n",
       "0               0          0          0          0          0          0   \n",
       "6               0          1          0          0          0          0   \n",
       "7               0          0          0          0          0          0   \n",
       "10              0          0          0          0          0          0   \n",
       "13              0          0          0          0          1          0   \n",
       "...           ...        ...        ...        ...        ...        ...   \n",
       "378801          0          0          0          0          0          0   \n",
       "378802          0          0          0          0          0          0   \n",
       "378807          0          0          0          0          1          0   \n",
       "378811          0          0          0          0          0          0   \n",
       "378813          0          0          1          0          0          0   \n",
       "\n",
       "        SCHL_21.0  SCHL_22.0  SCHL_23.0  SCHL_24.0  MAR_2  MAR_3  MAR_4  \\\n",
       "0               0          0          0          0      0      0      0   \n",
       "6               0          0          0          0      0      0      0   \n",
       "7               0          1          0          0      0      0      0   \n",
       "10              0          0          0          0      0      1      0   \n",
       "13              0          0          0          0      0      0      0   \n",
       "...           ...        ...        ...        ...    ...    ...    ...   \n",
       "378801          0          1          0          0      0      0      0   \n",
       "378802          0          1          0          0      0      0      0   \n",
       "378807          0          0          0          0      0      0      0   \n",
       "378811          0          0          0          1      0      0      0   \n",
       "378813          0          0          0          0      0      0      0   \n",
       "\n",
       "        MAR_5  SEX_2  RAC1P_2  RAC1P_3  RAC1P_4  RAC1P_5  RAC1P_6  RAC1P_7  \\\n",
       "0           0      0        0        0        0        0        0        0   \n",
       "6           1      0        0        0        0        0        0        0   \n",
       "7           1      0        0        0        0        0        0        0   \n",
       "10          0      0        0        0        0        0        0        0   \n",
       "13          1      1        0        0        0        0        0        0   \n",
       "...       ...    ...      ...      ...      ...      ...      ...      ...   \n",
       "378801      0      0        0        0        0        0        1        0   \n",
       "378802      0      1        0        0        0        0        1        0   \n",
       "378807      0      0        0        0        0        0        0        0   \n",
       "378811      0      0        0        0        0        0        1        0   \n",
       "378813      0      0        0        0        0        0        0        0   \n",
       "\n",
       "        RAC1P_8  RAC1P_9  ENG_2.0  ENG_3.0  ENG_4.0  ENG_nan  \n",
       "0             1        0        0        0        0        0  \n",
       "6             0        0        0        0        0        1  \n",
       "7             0        0        0        0        0        0  \n",
       "10            0        0        0        0        0        0  \n",
       "13            0        0        0        0        0        1  \n",
       "...         ...      ...      ...      ...      ...      ...  \n",
       "378801        0        0        0        0        0        0  \n",
       "378802        0        0        0        0        0        0  \n",
       "378807        0        0        0        0        0        1  \n",
       "378811        0        0        1        0        0        0  \n",
       "378813        1        0        1        0        0        0  \n",
       "\n",
       "[195665 rows x 55 columns]"
      ]
     },
     "execution_count": 60,
     "metadata": {},
     "output_type": "execute_result"
    }
   ],
   "source": [
    "data[\"AGEP\"] = mm_scaler.fit_transform(np.array(data[\"AGEP\"]).reshape(-1,1))\n",
    "data"
   ]
  },
  {
   "cell_type": "code",
   "execution_count": 61,
   "metadata": {},
   "outputs": [
    {
     "data": {
      "text/html": [
       "<div>\n",
       "<style scoped>\n",
       "    .dataframe tbody tr th:only-of-type {\n",
       "        vertical-align: middle;\n",
       "    }\n",
       "\n",
       "    .dataframe tbody tr th {\n",
       "        vertical-align: top;\n",
       "    }\n",
       "\n",
       "    .dataframe thead th {\n",
       "        text-align: right;\n",
       "    }\n",
       "</style>\n",
       "<table border=\"1\" class=\"dataframe\">\n",
       "  <thead>\n",
       "    <tr style=\"text-align: right;\">\n",
       "      <th></th>\n",
       "      <th>AGEP</th>\n",
       "      <th>HINS1_2</th>\n",
       "      <th>HINS2_2</th>\n",
       "      <th>HINS4_2</th>\n",
       "      <th>CIT_2</th>\n",
       "      <th>CIT_3</th>\n",
       "      <th>CIT_4</th>\n",
       "      <th>CIT_5</th>\n",
       "      <th>COW_2.0</th>\n",
       "      <th>COW_3.0</th>\n",
       "      <th>COW_4.0</th>\n",
       "      <th>COW_5.0</th>\n",
       "      <th>COW_6.0</th>\n",
       "      <th>COW_7.0</th>\n",
       "      <th>COW_8.0</th>\n",
       "      <th>SCHL_2.0</th>\n",
       "      <th>SCHL_3.0</th>\n",
       "      <th>SCHL_4.0</th>\n",
       "      <th>SCHL_5.0</th>\n",
       "      <th>SCHL_6.0</th>\n",
       "      <th>SCHL_7.0</th>\n",
       "      <th>SCHL_8.0</th>\n",
       "      <th>SCHL_9.0</th>\n",
       "      <th>SCHL_10.0</th>\n",
       "      <th>SCHL_11.0</th>\n",
       "      <th>SCHL_12.0</th>\n",
       "      <th>SCHL_13.0</th>\n",
       "      <th>SCHL_14.0</th>\n",
       "      <th>SCHL_15.0</th>\n",
       "      <th>SCHL_16.0</th>\n",
       "      <th>SCHL_17.0</th>\n",
       "      <th>SCHL_18.0</th>\n",
       "      <th>SCHL_19.0</th>\n",
       "      <th>SCHL_20.0</th>\n",
       "      <th>SCHL_21.0</th>\n",
       "      <th>SCHL_22.0</th>\n",
       "      <th>SCHL_23.0</th>\n",
       "      <th>SCHL_24.0</th>\n",
       "      <th>MAR_2</th>\n",
       "      <th>MAR_3</th>\n",
       "      <th>MAR_4</th>\n",
       "      <th>MAR_5</th>\n",
       "      <th>SEX_2</th>\n",
       "      <th>RAC1P_2</th>\n",
       "      <th>RAC1P_3</th>\n",
       "      <th>RAC1P_4</th>\n",
       "      <th>RAC1P_5</th>\n",
       "      <th>RAC1P_6</th>\n",
       "      <th>RAC1P_7</th>\n",
       "      <th>RAC1P_8</th>\n",
       "      <th>RAC1P_9</th>\n",
       "      <th>ENG_2.0</th>\n",
       "      <th>ENG_3.0</th>\n",
       "      <th>ENG_4.0</th>\n",
       "      <th>ENG_nan</th>\n",
       "    </tr>\n",
       "  </thead>\n",
       "  <tbody>\n",
       "    <tr>\n",
       "      <th>count</th>\n",
       "      <td>195665.000000</td>\n",
       "      <td>195665.000000</td>\n",
       "      <td>195665.000000</td>\n",
       "      <td>195665.000000</td>\n",
       "      <td>195665.000000</td>\n",
       "      <td>195665.000000</td>\n",
       "      <td>195665.000000</td>\n",
       "      <td>195665.000000</td>\n",
       "      <td>195665.000000</td>\n",
       "      <td>195665.000000</td>\n",
       "      <td>195665.000000</td>\n",
       "      <td>195665.000000</td>\n",
       "      <td>195665.000000</td>\n",
       "      <td>195665.000000</td>\n",
       "      <td>195665.000000</td>\n",
       "      <td>195665.000000</td>\n",
       "      <td>195665.000000</td>\n",
       "      <td>195665.000000</td>\n",
       "      <td>195665.000000</td>\n",
       "      <td>195665.000000</td>\n",
       "      <td>195665.000000</td>\n",
       "      <td>195665.000000</td>\n",
       "      <td>195665.000000</td>\n",
       "      <td>195665.000000</td>\n",
       "      <td>195665.000000</td>\n",
       "      <td>195665.000000</td>\n",
       "      <td>195665.000000</td>\n",
       "      <td>195665.000000</td>\n",
       "      <td>195665.000000</td>\n",
       "      <td>195665.000000</td>\n",
       "      <td>195665.000000</td>\n",
       "      <td>195665.000000</td>\n",
       "      <td>195665.000000</td>\n",
       "      <td>195665.000000</td>\n",
       "      <td>195665.000000</td>\n",
       "      <td>195665.000000</td>\n",
       "      <td>195665.000000</td>\n",
       "      <td>195665.000000</td>\n",
       "      <td>195665.000000</td>\n",
       "      <td>195665.000000</td>\n",
       "      <td>195665.000000</td>\n",
       "      <td>195665.000000</td>\n",
       "      <td>195665.000000</td>\n",
       "      <td>195665.000000</td>\n",
       "      <td>195665.000000</td>\n",
       "      <td>195665.000000</td>\n",
       "      <td>195665.000000</td>\n",
       "      <td>195665.000000</td>\n",
       "      <td>195665.000000</td>\n",
       "      <td>195665.000000</td>\n",
       "      <td>195665.000000</td>\n",
       "      <td>195665.000000</td>\n",
       "      <td>195665.000000</td>\n",
       "      <td>195665.000000</td>\n",
       "      <td>195665.000000</td>\n",
       "    </tr>\n",
       "    <tr>\n",
       "      <th>mean</th>\n",
       "      <td>0.334220</td>\n",
       "      <td>0.348913</td>\n",
       "      <td>0.865377</td>\n",
       "      <td>0.856689</td>\n",
       "      <td>0.002009</td>\n",
       "      <td>0.012981</td>\n",
       "      <td>0.177078</td>\n",
       "      <td>0.135262</td>\n",
       "      <td>0.070600</td>\n",
       "      <td>0.080571</td>\n",
       "      <td>0.042419</td>\n",
       "      <td>0.025840</td>\n",
       "      <td>0.085192</td>\n",
       "      <td>0.039241</td>\n",
       "      <td>0.002903</td>\n",
       "      <td>0.000302</td>\n",
       "      <td>0.000296</td>\n",
       "      <td>0.000547</td>\n",
       "      <td>0.001359</td>\n",
       "      <td>0.003005</td>\n",
       "      <td>0.001998</td>\n",
       "      <td>0.002663</td>\n",
       "      <td>0.016656</td>\n",
       "      <td>0.002387</td>\n",
       "      <td>0.006164</td>\n",
       "      <td>0.011417</td>\n",
       "      <td>0.008382</td>\n",
       "      <td>0.016038</td>\n",
       "      <td>0.023300</td>\n",
       "      <td>0.168129</td>\n",
       "      <td>0.021210</td>\n",
       "      <td>0.066256</td>\n",
       "      <td>0.165390</td>\n",
       "      <td>0.080255</td>\n",
       "      <td>0.237784</td>\n",
       "      <td>0.100135</td>\n",
       "      <td>0.028799</td>\n",
       "      <td>0.019906</td>\n",
       "      <td>0.016830</td>\n",
       "      <td>0.090941</td>\n",
       "      <td>0.019053</td>\n",
       "      <td>0.349618</td>\n",
       "      <td>0.472001</td>\n",
       "      <td>0.043733</td>\n",
       "      <td>0.006613</td>\n",
       "      <td>0.000066</td>\n",
       "      <td>0.002300</td>\n",
       "      <td>0.167168</td>\n",
       "      <td>0.003256</td>\n",
       "      <td>0.116490</td>\n",
       "      <td>0.041939</td>\n",
       "      <td>0.087231</td>\n",
       "      <td>0.056183</td>\n",
       "      <td>0.019227</td>\n",
       "      <td>0.577916</td>\n",
       "    </tr>\n",
       "    <tr>\n",
       "      <th>std</th>\n",
       "      <td>0.193307</td>\n",
       "      <td>0.476628</td>\n",
       "      <td>0.341321</td>\n",
       "      <td>0.350391</td>\n",
       "      <td>0.044772</td>\n",
       "      <td>0.113194</td>\n",
       "      <td>0.381736</td>\n",
       "      <td>0.342004</td>\n",
       "      <td>0.256157</td>\n",
       "      <td>0.272176</td>\n",
       "      <td>0.201545</td>\n",
       "      <td>0.158658</td>\n",
       "      <td>0.279167</td>\n",
       "      <td>0.194167</td>\n",
       "      <td>0.053801</td>\n",
       "      <td>0.017362</td>\n",
       "      <td>0.017214</td>\n",
       "      <td>0.023379</td>\n",
       "      <td>0.036846</td>\n",
       "      <td>0.054737</td>\n",
       "      <td>0.044658</td>\n",
       "      <td>0.051533</td>\n",
       "      <td>0.127979</td>\n",
       "      <td>0.048796</td>\n",
       "      <td>0.078266</td>\n",
       "      <td>0.106241</td>\n",
       "      <td>0.091167</td>\n",
       "      <td>0.125620</td>\n",
       "      <td>0.150855</td>\n",
       "      <td>0.373982</td>\n",
       "      <td>0.144083</td>\n",
       "      <td>0.248730</td>\n",
       "      <td>0.371533</td>\n",
       "      <td>0.271688</td>\n",
       "      <td>0.425727</td>\n",
       "      <td>0.300181</td>\n",
       "      <td>0.167242</td>\n",
       "      <td>0.139679</td>\n",
       "      <td>0.128634</td>\n",
       "      <td>0.287526</td>\n",
       "      <td>0.136712</td>\n",
       "      <td>0.476851</td>\n",
       "      <td>0.499217</td>\n",
       "      <td>0.204501</td>\n",
       "      <td>0.081053</td>\n",
       "      <td>0.008151</td>\n",
       "      <td>0.047902</td>\n",
       "      <td>0.373127</td>\n",
       "      <td>0.056965</td>\n",
       "      <td>0.320812</td>\n",
       "      <td>0.200450</td>\n",
       "      <td>0.282174</td>\n",
       "      <td>0.230275</td>\n",
       "      <td>0.137321</td>\n",
       "      <td>0.493893</td>\n",
       "    </tr>\n",
       "    <tr>\n",
       "      <th>min</th>\n",
       "      <td>0.000000</td>\n",
       "      <td>0.000000</td>\n",
       "      <td>0.000000</td>\n",
       "      <td>0.000000</td>\n",
       "      <td>0.000000</td>\n",
       "      <td>0.000000</td>\n",
       "      <td>0.000000</td>\n",
       "      <td>0.000000</td>\n",
       "      <td>0.000000</td>\n",
       "      <td>0.000000</td>\n",
       "      <td>0.000000</td>\n",
       "      <td>0.000000</td>\n",
       "      <td>0.000000</td>\n",
       "      <td>0.000000</td>\n",
       "      <td>0.000000</td>\n",
       "      <td>0.000000</td>\n",
       "      <td>0.000000</td>\n",
       "      <td>0.000000</td>\n",
       "      <td>0.000000</td>\n",
       "      <td>0.000000</td>\n",
       "      <td>0.000000</td>\n",
       "      <td>0.000000</td>\n",
       "      <td>0.000000</td>\n",
       "      <td>0.000000</td>\n",
       "      <td>0.000000</td>\n",
       "      <td>0.000000</td>\n",
       "      <td>0.000000</td>\n",
       "      <td>0.000000</td>\n",
       "      <td>0.000000</td>\n",
       "      <td>0.000000</td>\n",
       "      <td>0.000000</td>\n",
       "      <td>0.000000</td>\n",
       "      <td>0.000000</td>\n",
       "      <td>0.000000</td>\n",
       "      <td>0.000000</td>\n",
       "      <td>0.000000</td>\n",
       "      <td>0.000000</td>\n",
       "      <td>0.000000</td>\n",
       "      <td>0.000000</td>\n",
       "      <td>0.000000</td>\n",
       "      <td>0.000000</td>\n",
       "      <td>0.000000</td>\n",
       "      <td>0.000000</td>\n",
       "      <td>0.000000</td>\n",
       "      <td>0.000000</td>\n",
       "      <td>0.000000</td>\n",
       "      <td>0.000000</td>\n",
       "      <td>0.000000</td>\n",
       "      <td>0.000000</td>\n",
       "      <td>0.000000</td>\n",
       "      <td>0.000000</td>\n",
       "      <td>0.000000</td>\n",
       "      <td>0.000000</td>\n",
       "      <td>0.000000</td>\n",
       "      <td>0.000000</td>\n",
       "    </tr>\n",
       "    <tr>\n",
       "      <th>25%</th>\n",
       "      <td>0.168831</td>\n",
       "      <td>0.000000</td>\n",
       "      <td>1.000000</td>\n",
       "      <td>1.000000</td>\n",
       "      <td>0.000000</td>\n",
       "      <td>0.000000</td>\n",
       "      <td>0.000000</td>\n",
       "      <td>0.000000</td>\n",
       "      <td>0.000000</td>\n",
       "      <td>0.000000</td>\n",
       "      <td>0.000000</td>\n",
       "      <td>0.000000</td>\n",
       "      <td>0.000000</td>\n",
       "      <td>0.000000</td>\n",
       "      <td>0.000000</td>\n",
       "      <td>0.000000</td>\n",
       "      <td>0.000000</td>\n",
       "      <td>0.000000</td>\n",
       "      <td>0.000000</td>\n",
       "      <td>0.000000</td>\n",
       "      <td>0.000000</td>\n",
       "      <td>0.000000</td>\n",
       "      <td>0.000000</td>\n",
       "      <td>0.000000</td>\n",
       "      <td>0.000000</td>\n",
       "      <td>0.000000</td>\n",
       "      <td>0.000000</td>\n",
       "      <td>0.000000</td>\n",
       "      <td>0.000000</td>\n",
       "      <td>0.000000</td>\n",
       "      <td>0.000000</td>\n",
       "      <td>0.000000</td>\n",
       "      <td>0.000000</td>\n",
       "      <td>0.000000</td>\n",
       "      <td>0.000000</td>\n",
       "      <td>0.000000</td>\n",
       "      <td>0.000000</td>\n",
       "      <td>0.000000</td>\n",
       "      <td>0.000000</td>\n",
       "      <td>0.000000</td>\n",
       "      <td>0.000000</td>\n",
       "      <td>0.000000</td>\n",
       "      <td>0.000000</td>\n",
       "      <td>0.000000</td>\n",
       "      <td>0.000000</td>\n",
       "      <td>0.000000</td>\n",
       "      <td>0.000000</td>\n",
       "      <td>0.000000</td>\n",
       "      <td>0.000000</td>\n",
       "      <td>0.000000</td>\n",
       "      <td>0.000000</td>\n",
       "      <td>0.000000</td>\n",
       "      <td>0.000000</td>\n",
       "      <td>0.000000</td>\n",
       "      <td>0.000000</td>\n",
       "    </tr>\n",
       "    <tr>\n",
       "      <th>50%</th>\n",
       "      <td>0.324675</td>\n",
       "      <td>0.000000</td>\n",
       "      <td>1.000000</td>\n",
       "      <td>1.000000</td>\n",
       "      <td>0.000000</td>\n",
       "      <td>0.000000</td>\n",
       "      <td>0.000000</td>\n",
       "      <td>0.000000</td>\n",
       "      <td>0.000000</td>\n",
       "      <td>0.000000</td>\n",
       "      <td>0.000000</td>\n",
       "      <td>0.000000</td>\n",
       "      <td>0.000000</td>\n",
       "      <td>0.000000</td>\n",
       "      <td>0.000000</td>\n",
       "      <td>0.000000</td>\n",
       "      <td>0.000000</td>\n",
       "      <td>0.000000</td>\n",
       "      <td>0.000000</td>\n",
       "      <td>0.000000</td>\n",
       "      <td>0.000000</td>\n",
       "      <td>0.000000</td>\n",
       "      <td>0.000000</td>\n",
       "      <td>0.000000</td>\n",
       "      <td>0.000000</td>\n",
       "      <td>0.000000</td>\n",
       "      <td>0.000000</td>\n",
       "      <td>0.000000</td>\n",
       "      <td>0.000000</td>\n",
       "      <td>0.000000</td>\n",
       "      <td>0.000000</td>\n",
       "      <td>0.000000</td>\n",
       "      <td>0.000000</td>\n",
       "      <td>0.000000</td>\n",
       "      <td>0.000000</td>\n",
       "      <td>0.000000</td>\n",
       "      <td>0.000000</td>\n",
       "      <td>0.000000</td>\n",
       "      <td>0.000000</td>\n",
       "      <td>0.000000</td>\n",
       "      <td>0.000000</td>\n",
       "      <td>0.000000</td>\n",
       "      <td>0.000000</td>\n",
       "      <td>0.000000</td>\n",
       "      <td>0.000000</td>\n",
       "      <td>0.000000</td>\n",
       "      <td>0.000000</td>\n",
       "      <td>0.000000</td>\n",
       "      <td>0.000000</td>\n",
       "      <td>0.000000</td>\n",
       "      <td>0.000000</td>\n",
       "      <td>0.000000</td>\n",
       "      <td>0.000000</td>\n",
       "      <td>0.000000</td>\n",
       "      <td>1.000000</td>\n",
       "    </tr>\n",
       "    <tr>\n",
       "      <th>75%</th>\n",
       "      <td>0.493506</td>\n",
       "      <td>1.000000</td>\n",
       "      <td>1.000000</td>\n",
       "      <td>1.000000</td>\n",
       "      <td>0.000000</td>\n",
       "      <td>0.000000</td>\n",
       "      <td>0.000000</td>\n",
       "      <td>0.000000</td>\n",
       "      <td>0.000000</td>\n",
       "      <td>0.000000</td>\n",
       "      <td>0.000000</td>\n",
       "      <td>0.000000</td>\n",
       "      <td>0.000000</td>\n",
       "      <td>0.000000</td>\n",
       "      <td>0.000000</td>\n",
       "      <td>0.000000</td>\n",
       "      <td>0.000000</td>\n",
       "      <td>0.000000</td>\n",
       "      <td>0.000000</td>\n",
       "      <td>0.000000</td>\n",
       "      <td>0.000000</td>\n",
       "      <td>0.000000</td>\n",
       "      <td>0.000000</td>\n",
       "      <td>0.000000</td>\n",
       "      <td>0.000000</td>\n",
       "      <td>0.000000</td>\n",
       "      <td>0.000000</td>\n",
       "      <td>0.000000</td>\n",
       "      <td>0.000000</td>\n",
       "      <td>0.000000</td>\n",
       "      <td>0.000000</td>\n",
       "      <td>0.000000</td>\n",
       "      <td>0.000000</td>\n",
       "      <td>0.000000</td>\n",
       "      <td>0.000000</td>\n",
       "      <td>0.000000</td>\n",
       "      <td>0.000000</td>\n",
       "      <td>0.000000</td>\n",
       "      <td>0.000000</td>\n",
       "      <td>0.000000</td>\n",
       "      <td>0.000000</td>\n",
       "      <td>1.000000</td>\n",
       "      <td>1.000000</td>\n",
       "      <td>0.000000</td>\n",
       "      <td>0.000000</td>\n",
       "      <td>0.000000</td>\n",
       "      <td>0.000000</td>\n",
       "      <td>0.000000</td>\n",
       "      <td>0.000000</td>\n",
       "      <td>0.000000</td>\n",
       "      <td>0.000000</td>\n",
       "      <td>0.000000</td>\n",
       "      <td>0.000000</td>\n",
       "      <td>0.000000</td>\n",
       "      <td>1.000000</td>\n",
       "    </tr>\n",
       "    <tr>\n",
       "      <th>max</th>\n",
       "      <td>1.000000</td>\n",
       "      <td>1.000000</td>\n",
       "      <td>1.000000</td>\n",
       "      <td>1.000000</td>\n",
       "      <td>1.000000</td>\n",
       "      <td>1.000000</td>\n",
       "      <td>1.000000</td>\n",
       "      <td>1.000000</td>\n",
       "      <td>1.000000</td>\n",
       "      <td>1.000000</td>\n",
       "      <td>1.000000</td>\n",
       "      <td>1.000000</td>\n",
       "      <td>1.000000</td>\n",
       "      <td>1.000000</td>\n",
       "      <td>1.000000</td>\n",
       "      <td>1.000000</td>\n",
       "      <td>1.000000</td>\n",
       "      <td>1.000000</td>\n",
       "      <td>1.000000</td>\n",
       "      <td>1.000000</td>\n",
       "      <td>1.000000</td>\n",
       "      <td>1.000000</td>\n",
       "      <td>1.000000</td>\n",
       "      <td>1.000000</td>\n",
       "      <td>1.000000</td>\n",
       "      <td>1.000000</td>\n",
       "      <td>1.000000</td>\n",
       "      <td>1.000000</td>\n",
       "      <td>1.000000</td>\n",
       "      <td>1.000000</td>\n",
       "      <td>1.000000</td>\n",
       "      <td>1.000000</td>\n",
       "      <td>1.000000</td>\n",
       "      <td>1.000000</td>\n",
       "      <td>1.000000</td>\n",
       "      <td>1.000000</td>\n",
       "      <td>1.000000</td>\n",
       "      <td>1.000000</td>\n",
       "      <td>1.000000</td>\n",
       "      <td>1.000000</td>\n",
       "      <td>1.000000</td>\n",
       "      <td>1.000000</td>\n",
       "      <td>1.000000</td>\n",
       "      <td>1.000000</td>\n",
       "      <td>1.000000</td>\n",
       "      <td>1.000000</td>\n",
       "      <td>1.000000</td>\n",
       "      <td>1.000000</td>\n",
       "      <td>1.000000</td>\n",
       "      <td>1.000000</td>\n",
       "      <td>1.000000</td>\n",
       "      <td>1.000000</td>\n",
       "      <td>1.000000</td>\n",
       "      <td>1.000000</td>\n",
       "      <td>1.000000</td>\n",
       "    </tr>\n",
       "  </tbody>\n",
       "</table>\n",
       "</div>"
      ],
      "text/plain": [
       "                AGEP        HINS1_2        HINS2_2        HINS4_2  \\\n",
       "count  195665.000000  195665.000000  195665.000000  195665.000000   \n",
       "mean        0.334220       0.348913       0.865377       0.856689   \n",
       "std         0.193307       0.476628       0.341321       0.350391   \n",
       "min         0.000000       0.000000       0.000000       0.000000   \n",
       "25%         0.168831       0.000000       1.000000       1.000000   \n",
       "50%         0.324675       0.000000       1.000000       1.000000   \n",
       "75%         0.493506       1.000000       1.000000       1.000000   \n",
       "max         1.000000       1.000000       1.000000       1.000000   \n",
       "\n",
       "               CIT_2          CIT_3          CIT_4          CIT_5  \\\n",
       "count  195665.000000  195665.000000  195665.000000  195665.000000   \n",
       "mean        0.002009       0.012981       0.177078       0.135262   \n",
       "std         0.044772       0.113194       0.381736       0.342004   \n",
       "min         0.000000       0.000000       0.000000       0.000000   \n",
       "25%         0.000000       0.000000       0.000000       0.000000   \n",
       "50%         0.000000       0.000000       0.000000       0.000000   \n",
       "75%         0.000000       0.000000       0.000000       0.000000   \n",
       "max         1.000000       1.000000       1.000000       1.000000   \n",
       "\n",
       "             COW_2.0        COW_3.0        COW_4.0        COW_5.0  \\\n",
       "count  195665.000000  195665.000000  195665.000000  195665.000000   \n",
       "mean        0.070600       0.080571       0.042419       0.025840   \n",
       "std         0.256157       0.272176       0.201545       0.158658   \n",
       "min         0.000000       0.000000       0.000000       0.000000   \n",
       "25%         0.000000       0.000000       0.000000       0.000000   \n",
       "50%         0.000000       0.000000       0.000000       0.000000   \n",
       "75%         0.000000       0.000000       0.000000       0.000000   \n",
       "max         1.000000       1.000000       1.000000       1.000000   \n",
       "\n",
       "             COW_6.0        COW_7.0        COW_8.0       SCHL_2.0  \\\n",
       "count  195665.000000  195665.000000  195665.000000  195665.000000   \n",
       "mean        0.085192       0.039241       0.002903       0.000302   \n",
       "std         0.279167       0.194167       0.053801       0.017362   \n",
       "min         0.000000       0.000000       0.000000       0.000000   \n",
       "25%         0.000000       0.000000       0.000000       0.000000   \n",
       "50%         0.000000       0.000000       0.000000       0.000000   \n",
       "75%         0.000000       0.000000       0.000000       0.000000   \n",
       "max         1.000000       1.000000       1.000000       1.000000   \n",
       "\n",
       "            SCHL_3.0       SCHL_4.0       SCHL_5.0       SCHL_6.0  \\\n",
       "count  195665.000000  195665.000000  195665.000000  195665.000000   \n",
       "mean        0.000296       0.000547       0.001359       0.003005   \n",
       "std         0.017214       0.023379       0.036846       0.054737   \n",
       "min         0.000000       0.000000       0.000000       0.000000   \n",
       "25%         0.000000       0.000000       0.000000       0.000000   \n",
       "50%         0.000000       0.000000       0.000000       0.000000   \n",
       "75%         0.000000       0.000000       0.000000       0.000000   \n",
       "max         1.000000       1.000000       1.000000       1.000000   \n",
       "\n",
       "            SCHL_7.0       SCHL_8.0       SCHL_9.0      SCHL_10.0  \\\n",
       "count  195665.000000  195665.000000  195665.000000  195665.000000   \n",
       "mean        0.001998       0.002663       0.016656       0.002387   \n",
       "std         0.044658       0.051533       0.127979       0.048796   \n",
       "min         0.000000       0.000000       0.000000       0.000000   \n",
       "25%         0.000000       0.000000       0.000000       0.000000   \n",
       "50%         0.000000       0.000000       0.000000       0.000000   \n",
       "75%         0.000000       0.000000       0.000000       0.000000   \n",
       "max         1.000000       1.000000       1.000000       1.000000   \n",
       "\n",
       "           SCHL_11.0      SCHL_12.0      SCHL_13.0      SCHL_14.0  \\\n",
       "count  195665.000000  195665.000000  195665.000000  195665.000000   \n",
       "mean        0.006164       0.011417       0.008382       0.016038   \n",
       "std         0.078266       0.106241       0.091167       0.125620   \n",
       "min         0.000000       0.000000       0.000000       0.000000   \n",
       "25%         0.000000       0.000000       0.000000       0.000000   \n",
       "50%         0.000000       0.000000       0.000000       0.000000   \n",
       "75%         0.000000       0.000000       0.000000       0.000000   \n",
       "max         1.000000       1.000000       1.000000       1.000000   \n",
       "\n",
       "           SCHL_15.0      SCHL_16.0      SCHL_17.0      SCHL_18.0  \\\n",
       "count  195665.000000  195665.000000  195665.000000  195665.000000   \n",
       "mean        0.023300       0.168129       0.021210       0.066256   \n",
       "std         0.150855       0.373982       0.144083       0.248730   \n",
       "min         0.000000       0.000000       0.000000       0.000000   \n",
       "25%         0.000000       0.000000       0.000000       0.000000   \n",
       "50%         0.000000       0.000000       0.000000       0.000000   \n",
       "75%         0.000000       0.000000       0.000000       0.000000   \n",
       "max         1.000000       1.000000       1.000000       1.000000   \n",
       "\n",
       "           SCHL_19.0      SCHL_20.0      SCHL_21.0      SCHL_22.0  \\\n",
       "count  195665.000000  195665.000000  195665.000000  195665.000000   \n",
       "mean        0.165390       0.080255       0.237784       0.100135   \n",
       "std         0.371533       0.271688       0.425727       0.300181   \n",
       "min         0.000000       0.000000       0.000000       0.000000   \n",
       "25%         0.000000       0.000000       0.000000       0.000000   \n",
       "50%         0.000000       0.000000       0.000000       0.000000   \n",
       "75%         0.000000       0.000000       0.000000       0.000000   \n",
       "max         1.000000       1.000000       1.000000       1.000000   \n",
       "\n",
       "           SCHL_23.0      SCHL_24.0          MAR_2          MAR_3  \\\n",
       "count  195665.000000  195665.000000  195665.000000  195665.000000   \n",
       "mean        0.028799       0.019906       0.016830       0.090941   \n",
       "std         0.167242       0.139679       0.128634       0.287526   \n",
       "min         0.000000       0.000000       0.000000       0.000000   \n",
       "25%         0.000000       0.000000       0.000000       0.000000   \n",
       "50%         0.000000       0.000000       0.000000       0.000000   \n",
       "75%         0.000000       0.000000       0.000000       0.000000   \n",
       "max         1.000000       1.000000       1.000000       1.000000   \n",
       "\n",
       "               MAR_4          MAR_5          SEX_2        RAC1P_2  \\\n",
       "count  195665.000000  195665.000000  195665.000000  195665.000000   \n",
       "mean        0.019053       0.349618       0.472001       0.043733   \n",
       "std         0.136712       0.476851       0.499217       0.204501   \n",
       "min         0.000000       0.000000       0.000000       0.000000   \n",
       "25%         0.000000       0.000000       0.000000       0.000000   \n",
       "50%         0.000000       0.000000       0.000000       0.000000   \n",
       "75%         0.000000       1.000000       1.000000       0.000000   \n",
       "max         1.000000       1.000000       1.000000       1.000000   \n",
       "\n",
       "             RAC1P_3        RAC1P_4        RAC1P_5        RAC1P_6  \\\n",
       "count  195665.000000  195665.000000  195665.000000  195665.000000   \n",
       "mean        0.006613       0.000066       0.002300       0.167168   \n",
       "std         0.081053       0.008151       0.047902       0.373127   \n",
       "min         0.000000       0.000000       0.000000       0.000000   \n",
       "25%         0.000000       0.000000       0.000000       0.000000   \n",
       "50%         0.000000       0.000000       0.000000       0.000000   \n",
       "75%         0.000000       0.000000       0.000000       0.000000   \n",
       "max         1.000000       1.000000       1.000000       1.000000   \n",
       "\n",
       "             RAC1P_7        RAC1P_8        RAC1P_9        ENG_2.0  \\\n",
       "count  195665.000000  195665.000000  195665.000000  195665.000000   \n",
       "mean        0.003256       0.116490       0.041939       0.087231   \n",
       "std         0.056965       0.320812       0.200450       0.282174   \n",
       "min         0.000000       0.000000       0.000000       0.000000   \n",
       "25%         0.000000       0.000000       0.000000       0.000000   \n",
       "50%         0.000000       0.000000       0.000000       0.000000   \n",
       "75%         0.000000       0.000000       0.000000       0.000000   \n",
       "max         1.000000       1.000000       1.000000       1.000000   \n",
       "\n",
       "             ENG_3.0        ENG_4.0        ENG_nan  \n",
       "count  195665.000000  195665.000000  195665.000000  \n",
       "mean        0.056183       0.019227       0.577916  \n",
       "std         0.230275       0.137321       0.493893  \n",
       "min         0.000000       0.000000       0.000000  \n",
       "25%         0.000000       0.000000       0.000000  \n",
       "50%         0.000000       0.000000       1.000000  \n",
       "75%         0.000000       0.000000       1.000000  \n",
       "max         1.000000       1.000000       1.000000  "
      ]
     },
     "execution_count": 61,
     "metadata": {},
     "output_type": "execute_result"
    }
   ],
   "source": [
    "data.describe()"
   ]
  },
  {
   "cell_type": "code",
   "execution_count": 62,
   "metadata": {},
   "outputs": [],
   "source": [
    "X_train, X_test, y_train, y_test, group_train, group_test = train_test_split(\n",
    "    data, target, group, test_size=0.2, random_state=0)\n",
    "\n",
    "X_test_male = X_test[group_test == 2]\n",
    "X_test_female = X_test[group_test == 1]\n",
    "\n",
    "y_test_male = y_test[group_test == 2]\n",
    "y_test_female = y_test[group_test == 1]"
   ]
  },
  {
   "attachments": {},
   "cell_type": "markdown",
   "metadata": {},
   "source": [
    "### Black-box model"
   ]
  },
  {
   "cell_type": "code",
   "execution_count": 63,
   "metadata": {},
   "outputs": [
    {
     "name": "stderr",
     "output_type": "stream",
     "text": [
      "/Users/kamil/Documents/ITU/Algorithmic_Fairness/KDS_AlgorithmicFairness/venv/lib/python3.10/site-packages/sklearn/ensemble/_forest.py:424: FutureWarning:\n",
      "\n",
      "`max_features='auto'` has been deprecated in 1.1 and will be removed in 1.3. To keep the past behaviour, explicitly set `max_features='sqrt'` or remove this parameter as it is also the default value for RandomForestClassifiers and ExtraTreesClassifiers.\n",
      "\n"
     ]
    },
    {
     "data": {
      "text/html": [
       "<style>#sk-container-id-5 {color: black;background-color: white;}#sk-container-id-5 pre{padding: 0;}#sk-container-id-5 div.sk-toggleable {background-color: white;}#sk-container-id-5 label.sk-toggleable__label {cursor: pointer;display: block;width: 100%;margin-bottom: 0;padding: 0.3em;box-sizing: border-box;text-align: center;}#sk-container-id-5 label.sk-toggleable__label-arrow:before {content: \"▸\";float: left;margin-right: 0.25em;color: #696969;}#sk-container-id-5 label.sk-toggleable__label-arrow:hover:before {color: black;}#sk-container-id-5 div.sk-estimator:hover label.sk-toggleable__label-arrow:before {color: black;}#sk-container-id-5 div.sk-toggleable__content {max-height: 0;max-width: 0;overflow: hidden;text-align: left;background-color: #f0f8ff;}#sk-container-id-5 div.sk-toggleable__content pre {margin: 0.2em;color: black;border-radius: 0.25em;background-color: #f0f8ff;}#sk-container-id-5 input.sk-toggleable__control:checked~div.sk-toggleable__content {max-height: 200px;max-width: 100%;overflow: auto;}#sk-container-id-5 input.sk-toggleable__control:checked~label.sk-toggleable__label-arrow:before {content: \"▾\";}#sk-container-id-5 div.sk-estimator input.sk-toggleable__control:checked~label.sk-toggleable__label {background-color: #d4ebff;}#sk-container-id-5 div.sk-label input.sk-toggleable__control:checked~label.sk-toggleable__label {background-color: #d4ebff;}#sk-container-id-5 input.sk-hidden--visually {border: 0;clip: rect(1px 1px 1px 1px);clip: rect(1px, 1px, 1px, 1px);height: 1px;margin: -1px;overflow: hidden;padding: 0;position: absolute;width: 1px;}#sk-container-id-5 div.sk-estimator {font-family: monospace;background-color: #f0f8ff;border: 1px dotted black;border-radius: 0.25em;box-sizing: border-box;margin-bottom: 0.5em;}#sk-container-id-5 div.sk-estimator:hover {background-color: #d4ebff;}#sk-container-id-5 div.sk-parallel-item::after {content: \"\";width: 100%;border-bottom: 1px solid gray;flex-grow: 1;}#sk-container-id-5 div.sk-label:hover label.sk-toggleable__label {background-color: #d4ebff;}#sk-container-id-5 div.sk-serial::before {content: \"\";position: absolute;border-left: 1px solid gray;box-sizing: border-box;top: 0;bottom: 0;left: 50%;z-index: 0;}#sk-container-id-5 div.sk-serial {display: flex;flex-direction: column;align-items: center;background-color: white;padding-right: 0.2em;padding-left: 0.2em;position: relative;}#sk-container-id-5 div.sk-item {position: relative;z-index: 1;}#sk-container-id-5 div.sk-parallel {display: flex;align-items: stretch;justify-content: center;background-color: white;position: relative;}#sk-container-id-5 div.sk-item::before, #sk-container-id-5 div.sk-parallel-item::before {content: \"\";position: absolute;border-left: 1px solid gray;box-sizing: border-box;top: 0;bottom: 0;left: 50%;z-index: -1;}#sk-container-id-5 div.sk-parallel-item {display: flex;flex-direction: column;z-index: 1;position: relative;background-color: white;}#sk-container-id-5 div.sk-parallel-item:first-child::after {align-self: flex-end;width: 50%;}#sk-container-id-5 div.sk-parallel-item:last-child::after {align-self: flex-start;width: 50%;}#sk-container-id-5 div.sk-parallel-item:only-child::after {width: 0;}#sk-container-id-5 div.sk-dashed-wrapped {border: 1px dashed gray;margin: 0 0.4em 0.5em 0.4em;box-sizing: border-box;padding-bottom: 0.4em;background-color: white;}#sk-container-id-5 div.sk-label label {font-family: monospace;font-weight: bold;display: inline-block;line-height: 1.2em;}#sk-container-id-5 div.sk-label-container {text-align: center;}#sk-container-id-5 div.sk-container {/* jupyter's `normalize.less` sets `[hidden] { display: none; }` but bootstrap.min.css set `[hidden] { display: none !important; }` so we also need the `!important` here to be able to override the default hidden behavior on the sphinx rendered scikit-learn.org. See: https://github.com/scikit-learn/scikit-learn/issues/21755 */display: inline-block !important;position: relative;}#sk-container-id-5 div.sk-text-repr-fallback {display: none;}</style><div id=\"sk-container-id-5\" class=\"sk-top-container\"><div class=\"sk-text-repr-fallback\"><pre>RandomForestClassifier(max_depth=15, max_features=&#x27;auto&#x27;, min_samples_leaf=0.03,\n",
       "                       min_samples_split=0.03, n_estimators=15, random_state=0)</pre><b>In a Jupyter environment, please rerun this cell to show the HTML representation or trust the notebook. <br />On GitHub, the HTML representation is unable to render, please try loading this page with nbviewer.org.</b></div><div class=\"sk-container\" hidden><div class=\"sk-item\"><div class=\"sk-estimator sk-toggleable\"><input class=\"sk-toggleable__control sk-hidden--visually\" id=\"sk-estimator-id-5\" type=\"checkbox\" checked><label for=\"sk-estimator-id-5\" class=\"sk-toggleable__label sk-toggleable__label-arrow\">RandomForestClassifier</label><div class=\"sk-toggleable__content\"><pre>RandomForestClassifier(max_depth=15, max_features=&#x27;auto&#x27;, min_samples_leaf=0.03,\n",
       "                       min_samples_split=0.03, n_estimators=15, random_state=0)</pre></div></div></div></div></div>"
      ],
      "text/plain": [
       "RandomForestClassifier(max_depth=15, max_features='auto', min_samples_leaf=0.03,\n",
       "                       min_samples_split=0.03, n_estimators=15, random_state=0)"
      ]
     },
     "execution_count": 63,
     "metadata": {},
     "output_type": "execute_result"
    }
   ],
   "source": [
    "from sklearn.ensemble import RandomForestClassifier\n",
    "\n",
    "# RandomForest\n",
    "rf_model = RandomForestClassifier(n_estimators = 15, min_samples_split=0.03, min_samples_leaf=0.03, max_features=\"auto\",\n",
    "max_depth=15, criterion=\"gini\", random_state=0)\n",
    "rf_model.fit(X_train, y_train)"
   ]
  },
  {
   "cell_type": "code",
   "execution_count": 64,
   "metadata": {},
   "outputs": [
    {
     "name": "stdout",
     "output_type": "stream",
     "text": [
      "accuracy: 0.7582602918253136\n",
      "accuracy male: 0.7315795159896283\n",
      "accuracy female: 0.7822123078415207\n"
     ]
    }
   ],
   "source": [
    "y_pred_rf = rf_model.predict(X_test)\n",
    "print(\"accuracy:\", accuracy_score(y_test, y_pred_rf))\n",
    "\n",
    "y_pred_rf_male = rf_model.predict(X_test_male)\n",
    "y_pred_rf_female = rf_model.predict(X_test_female)\n",
    "\n",
    "print(\"accuracy male:\", accuracy_score(y_test_male, y_pred_rf_male))\n",
    "print(\"accuracy female:\", accuracy_score(y_test_female, y_pred_rf_female))"
   ]
  },
  {
   "attachments": {},
   "cell_type": "markdown",
   "metadata": {},
   "source": [
    "### White-box model"
   ]
  },
  {
   "cell_type": "code",
   "execution_count": 65,
   "metadata": {},
   "outputs": [
    {
     "data": {
      "text/html": [
       "<style>#sk-container-id-6 {color: black;background-color: white;}#sk-container-id-6 pre{padding: 0;}#sk-container-id-6 div.sk-toggleable {background-color: white;}#sk-container-id-6 label.sk-toggleable__label {cursor: pointer;display: block;width: 100%;margin-bottom: 0;padding: 0.3em;box-sizing: border-box;text-align: center;}#sk-container-id-6 label.sk-toggleable__label-arrow:before {content: \"▸\";float: left;margin-right: 0.25em;color: #696969;}#sk-container-id-6 label.sk-toggleable__label-arrow:hover:before {color: black;}#sk-container-id-6 div.sk-estimator:hover label.sk-toggleable__label-arrow:before {color: black;}#sk-container-id-6 div.sk-toggleable__content {max-height: 0;max-width: 0;overflow: hidden;text-align: left;background-color: #f0f8ff;}#sk-container-id-6 div.sk-toggleable__content pre {margin: 0.2em;color: black;border-radius: 0.25em;background-color: #f0f8ff;}#sk-container-id-6 input.sk-toggleable__control:checked~div.sk-toggleable__content {max-height: 200px;max-width: 100%;overflow: auto;}#sk-container-id-6 input.sk-toggleable__control:checked~label.sk-toggleable__label-arrow:before {content: \"▾\";}#sk-container-id-6 div.sk-estimator input.sk-toggleable__control:checked~label.sk-toggleable__label {background-color: #d4ebff;}#sk-container-id-6 div.sk-label input.sk-toggleable__control:checked~label.sk-toggleable__label {background-color: #d4ebff;}#sk-container-id-6 input.sk-hidden--visually {border: 0;clip: rect(1px 1px 1px 1px);clip: rect(1px, 1px, 1px, 1px);height: 1px;margin: -1px;overflow: hidden;padding: 0;position: absolute;width: 1px;}#sk-container-id-6 div.sk-estimator {font-family: monospace;background-color: #f0f8ff;border: 1px dotted black;border-radius: 0.25em;box-sizing: border-box;margin-bottom: 0.5em;}#sk-container-id-6 div.sk-estimator:hover {background-color: #d4ebff;}#sk-container-id-6 div.sk-parallel-item::after {content: \"\";width: 100%;border-bottom: 1px solid gray;flex-grow: 1;}#sk-container-id-6 div.sk-label:hover label.sk-toggleable__label {background-color: #d4ebff;}#sk-container-id-6 div.sk-serial::before {content: \"\";position: absolute;border-left: 1px solid gray;box-sizing: border-box;top: 0;bottom: 0;left: 50%;z-index: 0;}#sk-container-id-6 div.sk-serial {display: flex;flex-direction: column;align-items: center;background-color: white;padding-right: 0.2em;padding-left: 0.2em;position: relative;}#sk-container-id-6 div.sk-item {position: relative;z-index: 1;}#sk-container-id-6 div.sk-parallel {display: flex;align-items: stretch;justify-content: center;background-color: white;position: relative;}#sk-container-id-6 div.sk-item::before, #sk-container-id-6 div.sk-parallel-item::before {content: \"\";position: absolute;border-left: 1px solid gray;box-sizing: border-box;top: 0;bottom: 0;left: 50%;z-index: -1;}#sk-container-id-6 div.sk-parallel-item {display: flex;flex-direction: column;z-index: 1;position: relative;background-color: white;}#sk-container-id-6 div.sk-parallel-item:first-child::after {align-self: flex-end;width: 50%;}#sk-container-id-6 div.sk-parallel-item:last-child::after {align-self: flex-start;width: 50%;}#sk-container-id-6 div.sk-parallel-item:only-child::after {width: 0;}#sk-container-id-6 div.sk-dashed-wrapped {border: 1px dashed gray;margin: 0 0.4em 0.5em 0.4em;box-sizing: border-box;padding-bottom: 0.4em;background-color: white;}#sk-container-id-6 div.sk-label label {font-family: monospace;font-weight: bold;display: inline-block;line-height: 1.2em;}#sk-container-id-6 div.sk-label-container {text-align: center;}#sk-container-id-6 div.sk-container {/* jupyter's `normalize.less` sets `[hidden] { display: none; }` but bootstrap.min.css set `[hidden] { display: none !important; }` so we also need the `!important` here to be able to override the default hidden behavior on the sphinx rendered scikit-learn.org. See: https://github.com/scikit-learn/scikit-learn/issues/21755 */display: inline-block !important;position: relative;}#sk-container-id-6 div.sk-text-repr-fallback {display: none;}</style><div id=\"sk-container-id-6\" class=\"sk-top-container\"><div class=\"sk-text-repr-fallback\"><pre>LogisticRegression(max_iter=5000, random_state=16, solver=&#x27;saga&#x27;)</pre><b>In a Jupyter environment, please rerun this cell to show the HTML representation or trust the notebook. <br />On GitHub, the HTML representation is unable to render, please try loading this page with nbviewer.org.</b></div><div class=\"sk-container\" hidden><div class=\"sk-item\"><div class=\"sk-estimator sk-toggleable\"><input class=\"sk-toggleable__control sk-hidden--visually\" id=\"sk-estimator-id-6\" type=\"checkbox\" checked><label for=\"sk-estimator-id-6\" class=\"sk-toggleable__label sk-toggleable__label-arrow\">LogisticRegression</label><div class=\"sk-toggleable__content\"><pre>LogisticRegression(max_iter=5000, random_state=16, solver=&#x27;saga&#x27;)</pre></div></div></div></div></div>"
      ],
      "text/plain": [
       "LogisticRegression(max_iter=5000, random_state=16, solver='saga')"
      ]
     },
     "execution_count": 65,
     "metadata": {},
     "output_type": "execute_result"
    }
   ],
   "source": [
    "from sklearn.linear_model import LogisticRegression\n",
    "\n",
    "# LogisticRegression\n",
    "logreg_model = LogisticRegression(max_iter=5000, random_state=16, penalty=\"l2\", tol=1e-4, solver=\"saga\")\n",
    "logreg_model.fit(X_train, y_train)"
   ]
  },
  {
   "cell_type": "code",
   "execution_count": 66,
   "metadata": {},
   "outputs": [
    {
     "name": "stdout",
     "output_type": "stream",
     "text": [
      "accuracy: 0.7696573224644162\n",
      "accuracy male: 0.7507562662057045\n",
      "accuracy female: 0.786625284903739\n"
     ]
    }
   ],
   "source": [
    "y_pred_logreg = logreg_model.predict(X_test)\n",
    "print(\"accuracy:\", accuracy_score(y_test, y_pred_logreg))\n",
    "\n",
    "y_pred_logreg_male = logreg_model.predict(X_test_male)\n",
    "y_pred_logreg_female = logreg_model.predict(X_test_female)\n",
    "\n",
    "print(\"accuracy male:\", accuracy_score(y_test_male, y_pred_logreg_male))\n",
    "print(\"accuracy female:\", accuracy_score(y_test_female, y_pred_logreg_female))"
   ]
  },
  {
   "attachments": {},
   "cell_type": "markdown",
   "metadata": {},
   "source": [
    "### Fairness metrics"
   ]
  },
  {
   "cell_type": "code",
   "execution_count": 67,
   "metadata": {},
   "outputs": [],
   "source": [
    "def get_fairnessmetrics(model):\n",
    "    y_pred = model.predict(X_test)\n",
    "    df = pd.DataFrame({\"group\": group_test, \"pred\": y_pred, \"target\": y_test})\n",
    "    \n",
    "    ### statistical parity\n",
    "    female_sp = len(df.loc[(df[\"group\"] == 1) & (df[\"pred\"] == True)]) / len(df.loc[(df[\"group\"] == 1)])\n",
    "    male_sp = len(df.loc[(df[\"group\"] == 2) & (df[\"pred\"] == True)]) / len(df.loc[(df[\"group\"] == 2)])\n",
    "    # check if statistical parity is satisfied\n",
    "    sp_list = [female_sp, male_sp]\n",
    "    sp = (min(sp_list) / max(sp_list)) >= 0.8\n",
    "\n",
    "    ### equalzed odds\n",
    "    # true positive rate\n",
    "    female_eo_tp = len(df.loc[(df[\"group\"] == 1) & (df[\"pred\"] == True) & (df[\"target\"] == True)]) / len(df.loc[(df[\"group\"] == 1) & (df[\"target\"] == True)])\n",
    "    male_eo_tp = len(df.loc[(df[\"group\"] == 2) & (df[\"pred\"] == True) & (df[\"target\"] == True)]) / len(df.loc[(df[\"group\"] == 2) & (df[\"target\"] == True)])\n",
    "\n",
    "    # false positive rate\n",
    "    female_eo_fp = len(df.loc[(df[\"group\"] == 1) & (df[\"pred\"] == True) & (df[\"target\"] == False)]) / len(df.loc[(df[\"group\"] == 1) & (df[\"target\"] == False)])\n",
    "    male_eo_fp = len(df.loc[(df[\"group\"] == 2) & (df[\"pred\"] == True) & (df[\"target\"] == False)]) / len(df.loc[(df[\"group\"] == 2) & (df[\"target\"] == False)])\n",
    "\n",
    "    # check if equalized odds are satisfied\n",
    "    eo_tp_list = [female_eo_tp, male_eo_tp]\n",
    "    eo_tp = (min(eo_tp_list) / max(eo_tp_list)) >= 0.8\n",
    "\n",
    "    eo_fp_list = [female_eo_fp, male_eo_fp]\n",
    "    eo_fp = (min(eo_fp_list) / max(eo_fp_list)) >= 0.8\n",
    "\n",
    "    eo = eo_tp and eo_fp\n",
    "\n",
    "    ### equalized outcomes\n",
    "    # true positive rate\n",
    "    female_eoc_tp = len(df.loc[(df[\"group\"] == 1) & (df[\"pred\"] == True) & (df[\"target\"] == True)]) / len(df.loc[(df[\"group\"] == 1) & (df[\"pred\"] == True)])\n",
    "    male_eoc_tp = len(df.loc[(df[\"group\"] == 2) & (df[\"pred\"] == True) & (df[\"target\"] == True)]) / len(df.loc[(df[\"group\"] == 2) & (df[\"pred\"] == True)])\n",
    "\n",
    "    # false positive rate\n",
    "    female_eoc_fp = len(df.loc[(df[\"group\"] == 1) & (df[\"pred\"] == False) & (df[\"target\"] == True)]) / len(df.loc[(df[\"group\"] == 1) & (df[\"pred\"] == False)])\n",
    "    male_eoc_fp = len(df.loc[(df[\"group\"] == 2) & (df[\"pred\"] == False) & (df[\"target\"] == True)]) / len(df.loc[(df[\"group\"] == 2) & (df[\"pred\"] == False)])\n",
    "\n",
    "    # check if equalized outcomes are satisfied\n",
    "    eoc_tp_list = [female_eoc_tp, male_eoc_tp]\n",
    "    eoc_tp = (min(eoc_tp_list) / max(eoc_tp_list)) >= 0.8\n",
    "\n",
    "    eoc_fp_list = [female_eoc_fp, male_eoc_fp]\n",
    "    eoc_fp = (min(eoc_fp_list) / max(eoc_fp_list)) >= 0.8\n",
    "\n",
    "    eoc = eoc_tp and eoc_fp\n",
    "\n",
    "    return sp, eo, eoc, sp_list, eo_tp_list, eo_fp_list, eoc_tp_list, eoc_fp_list\n",
    "\n",
    "def plot_fairnessmetrics(model):\n",
    "    # Code for plotting results of fairness data\n",
    "    sp, eo, eoc, sp_list, eo_tp_list, eo_fp_list, eoc_tp_list, eoc_fp_list = get_fairnessmetrics(model)\n",
    "    x_axis = np.array([\"sp_female\", \"sp_male\", \"eo_tp_female\", \"eo_tp_male\", \"eo_fp_female\", \"eo_fp_male\", \"eoc_tp_female\", \"eoc_tp_male\", \"eoc_fp_female\", \"eoc_fp_male\"])\n",
    "    y_axis = np.array([sp_list[0], sp_list[1], eo_tp_list[0], eo_tp_list[1], eo_fp_list[0], eo_fp_list[1], eoc_tp_list[0], eoc_tp_list[1], eoc_fp_list[0], eoc_fp_list[1]])\n",
    "    fig = px.bar(x=x_axis, y=y_axis, title=\"Fairness metrics\", labels = {'x':\"Fairness metric<br><sup>sp-statistical parity, eo-equalzed odds, eoc-equalized outcomes, tp-true positive, fp-false positive</sup>\", \n",
    "              'y':'value'})\n",
    "    fig.show()\n",
    "\n",
    "    print(f\"Is statistical parity satisfied: {sp}\")\n",
    "    print(f\"Is equalzed odds satisfied: {eo}\")\n",
    "    print(f\"Is equalized outcomes satisfied: {eoc}\")"
   ]
  },
  {
   "cell_type": "code",
   "execution_count": 68,
   "metadata": {},
   "outputs": [
    {
     "data": {
      "application/vnd.plotly.v1+json": {
       "config": {
        "plotlyServerURL": "https://plot.ly"
       },
       "data": [
        {
         "alignmentgroup": "True",
         "hovertemplate": "Fairness metric<br><sup>sp-statistical parity, eo-equalzed odds, eoc-equalized outcomes, tp-true positive, fp-false positive</sup>=%{x}<br>value=%{y}<extra></extra>",
         "legendgroup": "",
         "marker": {
          "color": "#636efa",
          "pattern": {
           "shape": ""
          }
         },
         "name": "",
         "offsetgroup": "",
         "orientation": "v",
         "showlegend": false,
         "textposition": "auto",
         "type": "bar",
         "x": [
          "sp_female",
          "sp_male",
          "eo_tp_female",
          "eo_tp_male",
          "eo_fp_female",
          "eo_fp_male",
          "eoc_tp_female",
          "eoc_tp_male",
          "eoc_fp_female",
          "eoc_fp_male"
         ],
         "xaxis": "x",
         "y": [
          0.642063915426022,
          0.5171240276577356,
          0.8520229372411596,
          0.772802288480581,
          0.3151890886546807,
          0.27050833068025043,
          0.8080060422960725,
          0.7337302830878513,
          0.2517274082102696,
          0.23101018010963195
         ],
         "yaxis": "y"
        }
       ],
       "layout": {
        "barmode": "relative",
        "legend": {
         "tracegroupgap": 0
        },
        "template": {
         "data": {
          "bar": [
           {
            "error_x": {
             "color": "#2a3f5f"
            },
            "error_y": {
             "color": "#2a3f5f"
            },
            "marker": {
             "line": {
              "color": "#E5ECF6",
              "width": 0.5
             },
             "pattern": {
              "fillmode": "overlay",
              "size": 10,
              "solidity": 0.2
             }
            },
            "type": "bar"
           }
          ],
          "barpolar": [
           {
            "marker": {
             "line": {
              "color": "#E5ECF6",
              "width": 0.5
             },
             "pattern": {
              "fillmode": "overlay",
              "size": 10,
              "solidity": 0.2
             }
            },
            "type": "barpolar"
           }
          ],
          "carpet": [
           {
            "aaxis": {
             "endlinecolor": "#2a3f5f",
             "gridcolor": "white",
             "linecolor": "white",
             "minorgridcolor": "white",
             "startlinecolor": "#2a3f5f"
            },
            "baxis": {
             "endlinecolor": "#2a3f5f",
             "gridcolor": "white",
             "linecolor": "white",
             "minorgridcolor": "white",
             "startlinecolor": "#2a3f5f"
            },
            "type": "carpet"
           }
          ],
          "choropleth": [
           {
            "colorbar": {
             "outlinewidth": 0,
             "ticks": ""
            },
            "type": "choropleth"
           }
          ],
          "contour": [
           {
            "colorbar": {
             "outlinewidth": 0,
             "ticks": ""
            },
            "colorscale": [
             [
              0,
              "#0d0887"
             ],
             [
              0.1111111111111111,
              "#46039f"
             ],
             [
              0.2222222222222222,
              "#7201a8"
             ],
             [
              0.3333333333333333,
              "#9c179e"
             ],
             [
              0.4444444444444444,
              "#bd3786"
             ],
             [
              0.5555555555555556,
              "#d8576b"
             ],
             [
              0.6666666666666666,
              "#ed7953"
             ],
             [
              0.7777777777777778,
              "#fb9f3a"
             ],
             [
              0.8888888888888888,
              "#fdca26"
             ],
             [
              1,
              "#f0f921"
             ]
            ],
            "type": "contour"
           }
          ],
          "contourcarpet": [
           {
            "colorbar": {
             "outlinewidth": 0,
             "ticks": ""
            },
            "type": "contourcarpet"
           }
          ],
          "heatmap": [
           {
            "colorbar": {
             "outlinewidth": 0,
             "ticks": ""
            },
            "colorscale": [
             [
              0,
              "#0d0887"
             ],
             [
              0.1111111111111111,
              "#46039f"
             ],
             [
              0.2222222222222222,
              "#7201a8"
             ],
             [
              0.3333333333333333,
              "#9c179e"
             ],
             [
              0.4444444444444444,
              "#bd3786"
             ],
             [
              0.5555555555555556,
              "#d8576b"
             ],
             [
              0.6666666666666666,
              "#ed7953"
             ],
             [
              0.7777777777777778,
              "#fb9f3a"
             ],
             [
              0.8888888888888888,
              "#fdca26"
             ],
             [
              1,
              "#f0f921"
             ]
            ],
            "type": "heatmap"
           }
          ],
          "heatmapgl": [
           {
            "colorbar": {
             "outlinewidth": 0,
             "ticks": ""
            },
            "colorscale": [
             [
              0,
              "#0d0887"
             ],
             [
              0.1111111111111111,
              "#46039f"
             ],
             [
              0.2222222222222222,
              "#7201a8"
             ],
             [
              0.3333333333333333,
              "#9c179e"
             ],
             [
              0.4444444444444444,
              "#bd3786"
             ],
             [
              0.5555555555555556,
              "#d8576b"
             ],
             [
              0.6666666666666666,
              "#ed7953"
             ],
             [
              0.7777777777777778,
              "#fb9f3a"
             ],
             [
              0.8888888888888888,
              "#fdca26"
             ],
             [
              1,
              "#f0f921"
             ]
            ],
            "type": "heatmapgl"
           }
          ],
          "histogram": [
           {
            "marker": {
             "pattern": {
              "fillmode": "overlay",
              "size": 10,
              "solidity": 0.2
             }
            },
            "type": "histogram"
           }
          ],
          "histogram2d": [
           {
            "colorbar": {
             "outlinewidth": 0,
             "ticks": ""
            },
            "colorscale": [
             [
              0,
              "#0d0887"
             ],
             [
              0.1111111111111111,
              "#46039f"
             ],
             [
              0.2222222222222222,
              "#7201a8"
             ],
             [
              0.3333333333333333,
              "#9c179e"
             ],
             [
              0.4444444444444444,
              "#bd3786"
             ],
             [
              0.5555555555555556,
              "#d8576b"
             ],
             [
              0.6666666666666666,
              "#ed7953"
             ],
             [
              0.7777777777777778,
              "#fb9f3a"
             ],
             [
              0.8888888888888888,
              "#fdca26"
             ],
             [
              1,
              "#f0f921"
             ]
            ],
            "type": "histogram2d"
           }
          ],
          "histogram2dcontour": [
           {
            "colorbar": {
             "outlinewidth": 0,
             "ticks": ""
            },
            "colorscale": [
             [
              0,
              "#0d0887"
             ],
             [
              0.1111111111111111,
              "#46039f"
             ],
             [
              0.2222222222222222,
              "#7201a8"
             ],
             [
              0.3333333333333333,
              "#9c179e"
             ],
             [
              0.4444444444444444,
              "#bd3786"
             ],
             [
              0.5555555555555556,
              "#d8576b"
             ],
             [
              0.6666666666666666,
              "#ed7953"
             ],
             [
              0.7777777777777778,
              "#fb9f3a"
             ],
             [
              0.8888888888888888,
              "#fdca26"
             ],
             [
              1,
              "#f0f921"
             ]
            ],
            "type": "histogram2dcontour"
           }
          ],
          "mesh3d": [
           {
            "colorbar": {
             "outlinewidth": 0,
             "ticks": ""
            },
            "type": "mesh3d"
           }
          ],
          "parcoords": [
           {
            "line": {
             "colorbar": {
              "outlinewidth": 0,
              "ticks": ""
             }
            },
            "type": "parcoords"
           }
          ],
          "pie": [
           {
            "automargin": true,
            "type": "pie"
           }
          ],
          "scatter": [
           {
            "fillpattern": {
             "fillmode": "overlay",
             "size": 10,
             "solidity": 0.2
            },
            "type": "scatter"
           }
          ],
          "scatter3d": [
           {
            "line": {
             "colorbar": {
              "outlinewidth": 0,
              "ticks": ""
             }
            },
            "marker": {
             "colorbar": {
              "outlinewidth": 0,
              "ticks": ""
             }
            },
            "type": "scatter3d"
           }
          ],
          "scattercarpet": [
           {
            "marker": {
             "colorbar": {
              "outlinewidth": 0,
              "ticks": ""
             }
            },
            "type": "scattercarpet"
           }
          ],
          "scattergeo": [
           {
            "marker": {
             "colorbar": {
              "outlinewidth": 0,
              "ticks": ""
             }
            },
            "type": "scattergeo"
           }
          ],
          "scattergl": [
           {
            "marker": {
             "colorbar": {
              "outlinewidth": 0,
              "ticks": ""
             }
            },
            "type": "scattergl"
           }
          ],
          "scattermapbox": [
           {
            "marker": {
             "colorbar": {
              "outlinewidth": 0,
              "ticks": ""
             }
            },
            "type": "scattermapbox"
           }
          ],
          "scatterpolar": [
           {
            "marker": {
             "colorbar": {
              "outlinewidth": 0,
              "ticks": ""
             }
            },
            "type": "scatterpolar"
           }
          ],
          "scatterpolargl": [
           {
            "marker": {
             "colorbar": {
              "outlinewidth": 0,
              "ticks": ""
             }
            },
            "type": "scatterpolargl"
           }
          ],
          "scatterternary": [
           {
            "marker": {
             "colorbar": {
              "outlinewidth": 0,
              "ticks": ""
             }
            },
            "type": "scatterternary"
           }
          ],
          "surface": [
           {
            "colorbar": {
             "outlinewidth": 0,
             "ticks": ""
            },
            "colorscale": [
             [
              0,
              "#0d0887"
             ],
             [
              0.1111111111111111,
              "#46039f"
             ],
             [
              0.2222222222222222,
              "#7201a8"
             ],
             [
              0.3333333333333333,
              "#9c179e"
             ],
             [
              0.4444444444444444,
              "#bd3786"
             ],
             [
              0.5555555555555556,
              "#d8576b"
             ],
             [
              0.6666666666666666,
              "#ed7953"
             ],
             [
              0.7777777777777778,
              "#fb9f3a"
             ],
             [
              0.8888888888888888,
              "#fdca26"
             ],
             [
              1,
              "#f0f921"
             ]
            ],
            "type": "surface"
           }
          ],
          "table": [
           {
            "cells": {
             "fill": {
              "color": "#EBF0F8"
             },
             "line": {
              "color": "white"
             }
            },
            "header": {
             "fill": {
              "color": "#C8D4E3"
             },
             "line": {
              "color": "white"
             }
            },
            "type": "table"
           }
          ]
         },
         "layout": {
          "annotationdefaults": {
           "arrowcolor": "#2a3f5f",
           "arrowhead": 0,
           "arrowwidth": 1
          },
          "autotypenumbers": "strict",
          "coloraxis": {
           "colorbar": {
            "outlinewidth": 0,
            "ticks": ""
           }
          },
          "colorscale": {
           "diverging": [
            [
             0,
             "#8e0152"
            ],
            [
             0.1,
             "#c51b7d"
            ],
            [
             0.2,
             "#de77ae"
            ],
            [
             0.3,
             "#f1b6da"
            ],
            [
             0.4,
             "#fde0ef"
            ],
            [
             0.5,
             "#f7f7f7"
            ],
            [
             0.6,
             "#e6f5d0"
            ],
            [
             0.7,
             "#b8e186"
            ],
            [
             0.8,
             "#7fbc41"
            ],
            [
             0.9,
             "#4d9221"
            ],
            [
             1,
             "#276419"
            ]
           ],
           "sequential": [
            [
             0,
             "#0d0887"
            ],
            [
             0.1111111111111111,
             "#46039f"
            ],
            [
             0.2222222222222222,
             "#7201a8"
            ],
            [
             0.3333333333333333,
             "#9c179e"
            ],
            [
             0.4444444444444444,
             "#bd3786"
            ],
            [
             0.5555555555555556,
             "#d8576b"
            ],
            [
             0.6666666666666666,
             "#ed7953"
            ],
            [
             0.7777777777777778,
             "#fb9f3a"
            ],
            [
             0.8888888888888888,
             "#fdca26"
            ],
            [
             1,
             "#f0f921"
            ]
           ],
           "sequentialminus": [
            [
             0,
             "#0d0887"
            ],
            [
             0.1111111111111111,
             "#46039f"
            ],
            [
             0.2222222222222222,
             "#7201a8"
            ],
            [
             0.3333333333333333,
             "#9c179e"
            ],
            [
             0.4444444444444444,
             "#bd3786"
            ],
            [
             0.5555555555555556,
             "#d8576b"
            ],
            [
             0.6666666666666666,
             "#ed7953"
            ],
            [
             0.7777777777777778,
             "#fb9f3a"
            ],
            [
             0.8888888888888888,
             "#fdca26"
            ],
            [
             1,
             "#f0f921"
            ]
           ]
          },
          "colorway": [
           "#636efa",
           "#EF553B",
           "#00cc96",
           "#ab63fa",
           "#FFA15A",
           "#19d3f3",
           "#FF6692",
           "#B6E880",
           "#FF97FF",
           "#FECB52"
          ],
          "font": {
           "color": "#2a3f5f"
          },
          "geo": {
           "bgcolor": "white",
           "lakecolor": "white",
           "landcolor": "#E5ECF6",
           "showlakes": true,
           "showland": true,
           "subunitcolor": "white"
          },
          "hoverlabel": {
           "align": "left"
          },
          "hovermode": "closest",
          "mapbox": {
           "style": "light"
          },
          "paper_bgcolor": "white",
          "plot_bgcolor": "#E5ECF6",
          "polar": {
           "angularaxis": {
            "gridcolor": "white",
            "linecolor": "white",
            "ticks": ""
           },
           "bgcolor": "#E5ECF6",
           "radialaxis": {
            "gridcolor": "white",
            "linecolor": "white",
            "ticks": ""
           }
          },
          "scene": {
           "xaxis": {
            "backgroundcolor": "#E5ECF6",
            "gridcolor": "white",
            "gridwidth": 2,
            "linecolor": "white",
            "showbackground": true,
            "ticks": "",
            "zerolinecolor": "white"
           },
           "yaxis": {
            "backgroundcolor": "#E5ECF6",
            "gridcolor": "white",
            "gridwidth": 2,
            "linecolor": "white",
            "showbackground": true,
            "ticks": "",
            "zerolinecolor": "white"
           },
           "zaxis": {
            "backgroundcolor": "#E5ECF6",
            "gridcolor": "white",
            "gridwidth": 2,
            "linecolor": "white",
            "showbackground": true,
            "ticks": "",
            "zerolinecolor": "white"
           }
          },
          "shapedefaults": {
           "line": {
            "color": "#2a3f5f"
           }
          },
          "ternary": {
           "aaxis": {
            "gridcolor": "white",
            "linecolor": "white",
            "ticks": ""
           },
           "baxis": {
            "gridcolor": "white",
            "linecolor": "white",
            "ticks": ""
           },
           "bgcolor": "#E5ECF6",
           "caxis": {
            "gridcolor": "white",
            "linecolor": "white",
            "ticks": ""
           }
          },
          "title": {
           "x": 0.05
          },
          "xaxis": {
           "automargin": true,
           "gridcolor": "white",
           "linecolor": "white",
           "ticks": "",
           "title": {
            "standoff": 15
           },
           "zerolinecolor": "white",
           "zerolinewidth": 2
          },
          "yaxis": {
           "automargin": true,
           "gridcolor": "white",
           "linecolor": "white",
           "ticks": "",
           "title": {
            "standoff": 15
           },
           "zerolinecolor": "white",
           "zerolinewidth": 2
          }
         }
        },
        "title": {
         "text": "Fairness metrics"
        },
        "xaxis": {
         "anchor": "y",
         "domain": [
          0,
          1
         ],
         "title": {
          "text": "Fairness metric<br><sup>sp-statistical parity, eo-equalzed odds, eoc-equalized outcomes, tp-true positive, fp-false positive</sup>"
         }
        },
        "yaxis": {
         "anchor": "x",
         "domain": [
          0,
          1
         ],
         "title": {
          "text": "value"
         }
        }
       }
      }
     },
     "metadata": {},
     "output_type": "display_data"
    },
    {
     "name": "stdout",
     "output_type": "stream",
     "text": [
      "Is statistical parity satisfied: True\n",
      "Is equalzed odds satisfied: True\n",
      "Is equalized outcomes satisfied: True\n"
     ]
    }
   ],
   "source": [
    "plot_fairnessmetrics(logreg_model)"
   ]
  },
  {
   "cell_type": "code",
   "execution_count": 69,
   "metadata": {},
   "outputs": [
    {
     "data": {
      "application/vnd.plotly.v1+json": {
       "config": {
        "plotlyServerURL": "https://plot.ly"
       },
       "data": [
        {
         "alignmentgroup": "True",
         "hovertemplate": "Fairness metric<br><sup>sp-statistical parity, eo-equalzed odds, eoc-equalized outcomes, tp-true positive, fp-false positive</sup>=%{x}<br>value=%{y}<extra></extra>",
         "legendgroup": "",
         "marker": {
          "color": "#636efa",
          "pattern": {
           "shape": ""
          }
         },
         "name": "",
         "offsetgroup": "",
         "orientation": "v",
         "showlegend": false,
         "textposition": "auto",
         "type": "bar",
         "x": [
          "sp_female",
          "sp_male",
          "eo_tp_female",
          "eo_tp_male",
          "eo_fp_female",
          "eo_fp_male",
          "eoc_tp_female",
          "eoc_tp_male",
          "eoc_fp_female",
          "eoc_fp_male"
         ],
         "xaxis": "x",
         "y": [
          0.6478347315843073,
          0.6349394987035436,
          0.8531379420197515,
          0.8732533832104742,
          0.3282083075015499,
          0.40507269447097527,
          0.80185642637922,
          0.6752594861323805,
          0.2539245386945745,
          0.17046463450725066
         ],
         "yaxis": "y"
        }
       ],
       "layout": {
        "barmode": "relative",
        "legend": {
         "tracegroupgap": 0
        },
        "template": {
         "data": {
          "bar": [
           {
            "error_x": {
             "color": "#2a3f5f"
            },
            "error_y": {
             "color": "#2a3f5f"
            },
            "marker": {
             "line": {
              "color": "#E5ECF6",
              "width": 0.5
             },
             "pattern": {
              "fillmode": "overlay",
              "size": 10,
              "solidity": 0.2
             }
            },
            "type": "bar"
           }
          ],
          "barpolar": [
           {
            "marker": {
             "line": {
              "color": "#E5ECF6",
              "width": 0.5
             },
             "pattern": {
              "fillmode": "overlay",
              "size": 10,
              "solidity": 0.2
             }
            },
            "type": "barpolar"
           }
          ],
          "carpet": [
           {
            "aaxis": {
             "endlinecolor": "#2a3f5f",
             "gridcolor": "white",
             "linecolor": "white",
             "minorgridcolor": "white",
             "startlinecolor": "#2a3f5f"
            },
            "baxis": {
             "endlinecolor": "#2a3f5f",
             "gridcolor": "white",
             "linecolor": "white",
             "minorgridcolor": "white",
             "startlinecolor": "#2a3f5f"
            },
            "type": "carpet"
           }
          ],
          "choropleth": [
           {
            "colorbar": {
             "outlinewidth": 0,
             "ticks": ""
            },
            "type": "choropleth"
           }
          ],
          "contour": [
           {
            "colorbar": {
             "outlinewidth": 0,
             "ticks": ""
            },
            "colorscale": [
             [
              0,
              "#0d0887"
             ],
             [
              0.1111111111111111,
              "#46039f"
             ],
             [
              0.2222222222222222,
              "#7201a8"
             ],
             [
              0.3333333333333333,
              "#9c179e"
             ],
             [
              0.4444444444444444,
              "#bd3786"
             ],
             [
              0.5555555555555556,
              "#d8576b"
             ],
             [
              0.6666666666666666,
              "#ed7953"
             ],
             [
              0.7777777777777778,
              "#fb9f3a"
             ],
             [
              0.8888888888888888,
              "#fdca26"
             ],
             [
              1,
              "#f0f921"
             ]
            ],
            "type": "contour"
           }
          ],
          "contourcarpet": [
           {
            "colorbar": {
             "outlinewidth": 0,
             "ticks": ""
            },
            "type": "contourcarpet"
           }
          ],
          "heatmap": [
           {
            "colorbar": {
             "outlinewidth": 0,
             "ticks": ""
            },
            "colorscale": [
             [
              0,
              "#0d0887"
             ],
             [
              0.1111111111111111,
              "#46039f"
             ],
             [
              0.2222222222222222,
              "#7201a8"
             ],
             [
              0.3333333333333333,
              "#9c179e"
             ],
             [
              0.4444444444444444,
              "#bd3786"
             ],
             [
              0.5555555555555556,
              "#d8576b"
             ],
             [
              0.6666666666666666,
              "#ed7953"
             ],
             [
              0.7777777777777778,
              "#fb9f3a"
             ],
             [
              0.8888888888888888,
              "#fdca26"
             ],
             [
              1,
              "#f0f921"
             ]
            ],
            "type": "heatmap"
           }
          ],
          "heatmapgl": [
           {
            "colorbar": {
             "outlinewidth": 0,
             "ticks": ""
            },
            "colorscale": [
             [
              0,
              "#0d0887"
             ],
             [
              0.1111111111111111,
              "#46039f"
             ],
             [
              0.2222222222222222,
              "#7201a8"
             ],
             [
              0.3333333333333333,
              "#9c179e"
             ],
             [
              0.4444444444444444,
              "#bd3786"
             ],
             [
              0.5555555555555556,
              "#d8576b"
             ],
             [
              0.6666666666666666,
              "#ed7953"
             ],
             [
              0.7777777777777778,
              "#fb9f3a"
             ],
             [
              0.8888888888888888,
              "#fdca26"
             ],
             [
              1,
              "#f0f921"
             ]
            ],
            "type": "heatmapgl"
           }
          ],
          "histogram": [
           {
            "marker": {
             "pattern": {
              "fillmode": "overlay",
              "size": 10,
              "solidity": 0.2
             }
            },
            "type": "histogram"
           }
          ],
          "histogram2d": [
           {
            "colorbar": {
             "outlinewidth": 0,
             "ticks": ""
            },
            "colorscale": [
             [
              0,
              "#0d0887"
             ],
             [
              0.1111111111111111,
              "#46039f"
             ],
             [
              0.2222222222222222,
              "#7201a8"
             ],
             [
              0.3333333333333333,
              "#9c179e"
             ],
             [
              0.4444444444444444,
              "#bd3786"
             ],
             [
              0.5555555555555556,
              "#d8576b"
             ],
             [
              0.6666666666666666,
              "#ed7953"
             ],
             [
              0.7777777777777778,
              "#fb9f3a"
             ],
             [
              0.8888888888888888,
              "#fdca26"
             ],
             [
              1,
              "#f0f921"
             ]
            ],
            "type": "histogram2d"
           }
          ],
          "histogram2dcontour": [
           {
            "colorbar": {
             "outlinewidth": 0,
             "ticks": ""
            },
            "colorscale": [
             [
              0,
              "#0d0887"
             ],
             [
              0.1111111111111111,
              "#46039f"
             ],
             [
              0.2222222222222222,
              "#7201a8"
             ],
             [
              0.3333333333333333,
              "#9c179e"
             ],
             [
              0.4444444444444444,
              "#bd3786"
             ],
             [
              0.5555555555555556,
              "#d8576b"
             ],
             [
              0.6666666666666666,
              "#ed7953"
             ],
             [
              0.7777777777777778,
              "#fb9f3a"
             ],
             [
              0.8888888888888888,
              "#fdca26"
             ],
             [
              1,
              "#f0f921"
             ]
            ],
            "type": "histogram2dcontour"
           }
          ],
          "mesh3d": [
           {
            "colorbar": {
             "outlinewidth": 0,
             "ticks": ""
            },
            "type": "mesh3d"
           }
          ],
          "parcoords": [
           {
            "line": {
             "colorbar": {
              "outlinewidth": 0,
              "ticks": ""
             }
            },
            "type": "parcoords"
           }
          ],
          "pie": [
           {
            "automargin": true,
            "type": "pie"
           }
          ],
          "scatter": [
           {
            "fillpattern": {
             "fillmode": "overlay",
             "size": 10,
             "solidity": 0.2
            },
            "type": "scatter"
           }
          ],
          "scatter3d": [
           {
            "line": {
             "colorbar": {
              "outlinewidth": 0,
              "ticks": ""
             }
            },
            "marker": {
             "colorbar": {
              "outlinewidth": 0,
              "ticks": ""
             }
            },
            "type": "scatter3d"
           }
          ],
          "scattercarpet": [
           {
            "marker": {
             "colorbar": {
              "outlinewidth": 0,
              "ticks": ""
             }
            },
            "type": "scattercarpet"
           }
          ],
          "scattergeo": [
           {
            "marker": {
             "colorbar": {
              "outlinewidth": 0,
              "ticks": ""
             }
            },
            "type": "scattergeo"
           }
          ],
          "scattergl": [
           {
            "marker": {
             "colorbar": {
              "outlinewidth": 0,
              "ticks": ""
             }
            },
            "type": "scattergl"
           }
          ],
          "scattermapbox": [
           {
            "marker": {
             "colorbar": {
              "outlinewidth": 0,
              "ticks": ""
             }
            },
            "type": "scattermapbox"
           }
          ],
          "scatterpolar": [
           {
            "marker": {
             "colorbar": {
              "outlinewidth": 0,
              "ticks": ""
             }
            },
            "type": "scatterpolar"
           }
          ],
          "scatterpolargl": [
           {
            "marker": {
             "colorbar": {
              "outlinewidth": 0,
              "ticks": ""
             }
            },
            "type": "scatterpolargl"
           }
          ],
          "scatterternary": [
           {
            "marker": {
             "colorbar": {
              "outlinewidth": 0,
              "ticks": ""
             }
            },
            "type": "scatterternary"
           }
          ],
          "surface": [
           {
            "colorbar": {
             "outlinewidth": 0,
             "ticks": ""
            },
            "colorscale": [
             [
              0,
              "#0d0887"
             ],
             [
              0.1111111111111111,
              "#46039f"
             ],
             [
              0.2222222222222222,
              "#7201a8"
             ],
             [
              0.3333333333333333,
              "#9c179e"
             ],
             [
              0.4444444444444444,
              "#bd3786"
             ],
             [
              0.5555555555555556,
              "#d8576b"
             ],
             [
              0.6666666666666666,
              "#ed7953"
             ],
             [
              0.7777777777777778,
              "#fb9f3a"
             ],
             [
              0.8888888888888888,
              "#fdca26"
             ],
             [
              1,
              "#f0f921"
             ]
            ],
            "type": "surface"
           }
          ],
          "table": [
           {
            "cells": {
             "fill": {
              "color": "#EBF0F8"
             },
             "line": {
              "color": "white"
             }
            },
            "header": {
             "fill": {
              "color": "#C8D4E3"
             },
             "line": {
              "color": "white"
             }
            },
            "type": "table"
           }
          ]
         },
         "layout": {
          "annotationdefaults": {
           "arrowcolor": "#2a3f5f",
           "arrowhead": 0,
           "arrowwidth": 1
          },
          "autotypenumbers": "strict",
          "coloraxis": {
           "colorbar": {
            "outlinewidth": 0,
            "ticks": ""
           }
          },
          "colorscale": {
           "diverging": [
            [
             0,
             "#8e0152"
            ],
            [
             0.1,
             "#c51b7d"
            ],
            [
             0.2,
             "#de77ae"
            ],
            [
             0.3,
             "#f1b6da"
            ],
            [
             0.4,
             "#fde0ef"
            ],
            [
             0.5,
             "#f7f7f7"
            ],
            [
             0.6,
             "#e6f5d0"
            ],
            [
             0.7,
             "#b8e186"
            ],
            [
             0.8,
             "#7fbc41"
            ],
            [
             0.9,
             "#4d9221"
            ],
            [
             1,
             "#276419"
            ]
           ],
           "sequential": [
            [
             0,
             "#0d0887"
            ],
            [
             0.1111111111111111,
             "#46039f"
            ],
            [
             0.2222222222222222,
             "#7201a8"
            ],
            [
             0.3333333333333333,
             "#9c179e"
            ],
            [
             0.4444444444444444,
             "#bd3786"
            ],
            [
             0.5555555555555556,
             "#d8576b"
            ],
            [
             0.6666666666666666,
             "#ed7953"
            ],
            [
             0.7777777777777778,
             "#fb9f3a"
            ],
            [
             0.8888888888888888,
             "#fdca26"
            ],
            [
             1,
             "#f0f921"
            ]
           ],
           "sequentialminus": [
            [
             0,
             "#0d0887"
            ],
            [
             0.1111111111111111,
             "#46039f"
            ],
            [
             0.2222222222222222,
             "#7201a8"
            ],
            [
             0.3333333333333333,
             "#9c179e"
            ],
            [
             0.4444444444444444,
             "#bd3786"
            ],
            [
             0.5555555555555556,
             "#d8576b"
            ],
            [
             0.6666666666666666,
             "#ed7953"
            ],
            [
             0.7777777777777778,
             "#fb9f3a"
            ],
            [
             0.8888888888888888,
             "#fdca26"
            ],
            [
             1,
             "#f0f921"
            ]
           ]
          },
          "colorway": [
           "#636efa",
           "#EF553B",
           "#00cc96",
           "#ab63fa",
           "#FFA15A",
           "#19d3f3",
           "#FF6692",
           "#B6E880",
           "#FF97FF",
           "#FECB52"
          ],
          "font": {
           "color": "#2a3f5f"
          },
          "geo": {
           "bgcolor": "white",
           "lakecolor": "white",
           "landcolor": "#E5ECF6",
           "showlakes": true,
           "showland": true,
           "subunitcolor": "white"
          },
          "hoverlabel": {
           "align": "left"
          },
          "hovermode": "closest",
          "mapbox": {
           "style": "light"
          },
          "paper_bgcolor": "white",
          "plot_bgcolor": "#E5ECF6",
          "polar": {
           "angularaxis": {
            "gridcolor": "white",
            "linecolor": "white",
            "ticks": ""
           },
           "bgcolor": "#E5ECF6",
           "radialaxis": {
            "gridcolor": "white",
            "linecolor": "white",
            "ticks": ""
           }
          },
          "scene": {
           "xaxis": {
            "backgroundcolor": "#E5ECF6",
            "gridcolor": "white",
            "gridwidth": 2,
            "linecolor": "white",
            "showbackground": true,
            "ticks": "",
            "zerolinecolor": "white"
           },
           "yaxis": {
            "backgroundcolor": "#E5ECF6",
            "gridcolor": "white",
            "gridwidth": 2,
            "linecolor": "white",
            "showbackground": true,
            "ticks": "",
            "zerolinecolor": "white"
           },
           "zaxis": {
            "backgroundcolor": "#E5ECF6",
            "gridcolor": "white",
            "gridwidth": 2,
            "linecolor": "white",
            "showbackground": true,
            "ticks": "",
            "zerolinecolor": "white"
           }
          },
          "shapedefaults": {
           "line": {
            "color": "#2a3f5f"
           }
          },
          "ternary": {
           "aaxis": {
            "gridcolor": "white",
            "linecolor": "white",
            "ticks": ""
           },
           "baxis": {
            "gridcolor": "white",
            "linecolor": "white",
            "ticks": ""
           },
           "bgcolor": "#E5ECF6",
           "caxis": {
            "gridcolor": "white",
            "linecolor": "white",
            "ticks": ""
           }
          },
          "title": {
           "x": 0.05
          },
          "xaxis": {
           "automargin": true,
           "gridcolor": "white",
           "linecolor": "white",
           "ticks": "",
           "title": {
            "standoff": 15
           },
           "zerolinecolor": "white",
           "zerolinewidth": 2
          },
          "yaxis": {
           "automargin": true,
           "gridcolor": "white",
           "linecolor": "white",
           "ticks": "",
           "title": {
            "standoff": 15
           },
           "zerolinecolor": "white",
           "zerolinewidth": 2
          }
         }
        },
        "title": {
         "text": "Fairness metrics"
        },
        "xaxis": {
         "anchor": "y",
         "domain": [
          0,
          1
         ],
         "title": {
          "text": "Fairness metric<br><sup>sp-statistical parity, eo-equalzed odds, eoc-equalized outcomes, tp-true positive, fp-false positive</sup>"
         }
        },
        "yaxis": {
         "anchor": "x",
         "domain": [
          0,
          1
         ],
         "title": {
          "text": "value"
         }
        }
       }
      }
     },
     "metadata": {},
     "output_type": "display_data"
    },
    {
     "name": "stdout",
     "output_type": "stream",
     "text": [
      "Is statistical parity satisfied: True\n",
      "Is equalzed odds satisfied: True\n",
      "Is equalized outcomes satisfied: False\n"
     ]
    }
   ],
   "source": [
    "plot_fairnessmetrics(rf_model)"
   ]
  },
  {
   "attachments": {},
   "cell_type": "markdown",
   "metadata": {},
   "source": [
    "### Equalized odds intervention"
   ]
  },
  {
   "attachments": {},
   "cell_type": "markdown",
   "metadata": {},
   "source": [
    "### white-box model"
   ]
  },
  {
   "cell_type": "code",
   "execution_count": 70,
   "metadata": {},
   "outputs": [
    {
     "name": "stderr",
     "output_type": "stream",
     "text": [
      "/var/folders/bv/mvwnb3fd1rdbr345qwm8mqb40000gn/T/ipykernel_38506/3910771040.py:17: FutureWarning:\n",
      "\n",
      "The frame.append method is deprecated and will be removed from pandas in a future version. Use pandas.concat instead.\n",
      "\n",
      "/var/folders/bv/mvwnb3fd1rdbr345qwm8mqb40000gn/T/ipykernel_38506/3910771040.py:21: FutureWarning:\n",
      "\n",
      "The frame.append method is deprecated and will be removed from pandas in a future version. Use pandas.concat instead.\n",
      "\n",
      "/var/folders/bv/mvwnb3fd1rdbr345qwm8mqb40000gn/T/ipykernel_38506/3910771040.py:17: FutureWarning:\n",
      "\n",
      "The frame.append method is deprecated and will be removed from pandas in a future version. Use pandas.concat instead.\n",
      "\n",
      "/var/folders/bv/mvwnb3fd1rdbr345qwm8mqb40000gn/T/ipykernel_38506/3910771040.py:21: FutureWarning:\n",
      "\n",
      "The frame.append method is deprecated and will be removed from pandas in a future version. Use pandas.concat instead.\n",
      "\n",
      "/var/folders/bv/mvwnb3fd1rdbr345qwm8mqb40000gn/T/ipykernel_38506/3910771040.py:17: FutureWarning:\n",
      "\n",
      "The frame.append method is deprecated and will be removed from pandas in a future version. Use pandas.concat instead.\n",
      "\n",
      "/var/folders/bv/mvwnb3fd1rdbr345qwm8mqb40000gn/T/ipykernel_38506/3910771040.py:21: FutureWarning:\n",
      "\n",
      "The frame.append method is deprecated and will be removed from pandas in a future version. Use pandas.concat instead.\n",
      "\n",
      "/var/folders/bv/mvwnb3fd1rdbr345qwm8mqb40000gn/T/ipykernel_38506/3910771040.py:17: FutureWarning:\n",
      "\n",
      "The frame.append method is deprecated and will be removed from pandas in a future version. Use pandas.concat instead.\n",
      "\n",
      "/var/folders/bv/mvwnb3fd1rdbr345qwm8mqb40000gn/T/ipykernel_38506/3910771040.py:21: FutureWarning:\n",
      "\n",
      "The frame.append method is deprecated and will be removed from pandas in a future version. Use pandas.concat instead.\n",
      "\n",
      "/var/folders/bv/mvwnb3fd1rdbr345qwm8mqb40000gn/T/ipykernel_38506/3910771040.py:17: FutureWarning:\n",
      "\n",
      "The frame.append method is deprecated and will be removed from pandas in a future version. Use pandas.concat instead.\n",
      "\n",
      "/var/folders/bv/mvwnb3fd1rdbr345qwm8mqb40000gn/T/ipykernel_38506/3910771040.py:21: FutureWarning:\n",
      "\n",
      "The frame.append method is deprecated and will be removed from pandas in a future version. Use pandas.concat instead.\n",
      "\n",
      "/var/folders/bv/mvwnb3fd1rdbr345qwm8mqb40000gn/T/ipykernel_38506/3910771040.py:17: FutureWarning:\n",
      "\n",
      "The frame.append method is deprecated and will be removed from pandas in a future version. Use pandas.concat instead.\n",
      "\n",
      "/var/folders/bv/mvwnb3fd1rdbr345qwm8mqb40000gn/T/ipykernel_38506/3910771040.py:21: FutureWarning:\n",
      "\n",
      "The frame.append method is deprecated and will be removed from pandas in a future version. Use pandas.concat instead.\n",
      "\n",
      "/var/folders/bv/mvwnb3fd1rdbr345qwm8mqb40000gn/T/ipykernel_38506/3910771040.py:17: FutureWarning:\n",
      "\n",
      "The frame.append method is deprecated and will be removed from pandas in a future version. Use pandas.concat instead.\n",
      "\n",
      "/var/folders/bv/mvwnb3fd1rdbr345qwm8mqb40000gn/T/ipykernel_38506/3910771040.py:21: FutureWarning:\n",
      "\n",
      "The frame.append method is deprecated and will be removed from pandas in a future version. Use pandas.concat instead.\n",
      "\n",
      "/var/folders/bv/mvwnb3fd1rdbr345qwm8mqb40000gn/T/ipykernel_38506/3910771040.py:17: FutureWarning:\n",
      "\n",
      "The frame.append method is deprecated and will be removed from pandas in a future version. Use pandas.concat instead.\n",
      "\n",
      "/var/folders/bv/mvwnb3fd1rdbr345qwm8mqb40000gn/T/ipykernel_38506/3910771040.py:21: FutureWarning:\n",
      "\n",
      "The frame.append method is deprecated and will be removed from pandas in a future version. Use pandas.concat instead.\n",
      "\n",
      "/var/folders/bv/mvwnb3fd1rdbr345qwm8mqb40000gn/T/ipykernel_38506/3910771040.py:17: FutureWarning:\n",
      "\n",
      "The frame.append method is deprecated and will be removed from pandas in a future version. Use pandas.concat instead.\n",
      "\n",
      "/var/folders/bv/mvwnb3fd1rdbr345qwm8mqb40000gn/T/ipykernel_38506/3910771040.py:21: FutureWarning:\n",
      "\n",
      "The frame.append method is deprecated and will be removed from pandas in a future version. Use pandas.concat instead.\n",
      "\n",
      "/var/folders/bv/mvwnb3fd1rdbr345qwm8mqb40000gn/T/ipykernel_38506/3910771040.py:17: FutureWarning:\n",
      "\n",
      "The frame.append method is deprecated and will be removed from pandas in a future version. Use pandas.concat instead.\n",
      "\n",
      "/var/folders/bv/mvwnb3fd1rdbr345qwm8mqb40000gn/T/ipykernel_38506/3910771040.py:21: FutureWarning:\n",
      "\n",
      "The frame.append method is deprecated and will be removed from pandas in a future version. Use pandas.concat instead.\n",
      "\n",
      "/var/folders/bv/mvwnb3fd1rdbr345qwm8mqb40000gn/T/ipykernel_38506/3910771040.py:17: FutureWarning:\n",
      "\n",
      "The frame.append method is deprecated and will be removed from pandas in a future version. Use pandas.concat instead.\n",
      "\n",
      "/var/folders/bv/mvwnb3fd1rdbr345qwm8mqb40000gn/T/ipykernel_38506/3910771040.py:21: FutureWarning:\n",
      "\n",
      "The frame.append method is deprecated and will be removed from pandas in a future version. Use pandas.concat instead.\n",
      "\n",
      "/var/folders/bv/mvwnb3fd1rdbr345qwm8mqb40000gn/T/ipykernel_38506/3910771040.py:17: FutureWarning:\n",
      "\n",
      "The frame.append method is deprecated and will be removed from pandas in a future version. Use pandas.concat instead.\n",
      "\n",
      "/var/folders/bv/mvwnb3fd1rdbr345qwm8mqb40000gn/T/ipykernel_38506/3910771040.py:21: FutureWarning:\n",
      "\n",
      "The frame.append method is deprecated and will be removed from pandas in a future version. Use pandas.concat instead.\n",
      "\n",
      "/var/folders/bv/mvwnb3fd1rdbr345qwm8mqb40000gn/T/ipykernel_38506/3910771040.py:17: FutureWarning:\n",
      "\n",
      "The frame.append method is deprecated and will be removed from pandas in a future version. Use pandas.concat instead.\n",
      "\n",
      "/var/folders/bv/mvwnb3fd1rdbr345qwm8mqb40000gn/T/ipykernel_38506/3910771040.py:21: FutureWarning:\n",
      "\n",
      "The frame.append method is deprecated and will be removed from pandas in a future version. Use pandas.concat instead.\n",
      "\n",
      "/var/folders/bv/mvwnb3fd1rdbr345qwm8mqb40000gn/T/ipykernel_38506/3910771040.py:17: FutureWarning:\n",
      "\n",
      "The frame.append method is deprecated and will be removed from pandas in a future version. Use pandas.concat instead.\n",
      "\n",
      "/var/folders/bv/mvwnb3fd1rdbr345qwm8mqb40000gn/T/ipykernel_38506/3910771040.py:21: FutureWarning:\n",
      "\n",
      "The frame.append method is deprecated and will be removed from pandas in a future version. Use pandas.concat instead.\n",
      "\n",
      "/var/folders/bv/mvwnb3fd1rdbr345qwm8mqb40000gn/T/ipykernel_38506/3910771040.py:17: FutureWarning:\n",
      "\n",
      "The frame.append method is deprecated and will be removed from pandas in a future version. Use pandas.concat instead.\n",
      "\n",
      "/var/folders/bv/mvwnb3fd1rdbr345qwm8mqb40000gn/T/ipykernel_38506/3910771040.py:21: FutureWarning:\n",
      "\n",
      "The frame.append method is deprecated and will be removed from pandas in a future version. Use pandas.concat instead.\n",
      "\n",
      "/var/folders/bv/mvwnb3fd1rdbr345qwm8mqb40000gn/T/ipykernel_38506/3910771040.py:17: FutureWarning:\n",
      "\n",
      "The frame.append method is deprecated and will be removed from pandas in a future version. Use pandas.concat instead.\n",
      "\n",
      "/var/folders/bv/mvwnb3fd1rdbr345qwm8mqb40000gn/T/ipykernel_38506/3910771040.py:21: FutureWarning:\n",
      "\n",
      "The frame.append method is deprecated and will be removed from pandas in a future version. Use pandas.concat instead.\n",
      "\n",
      "/var/folders/bv/mvwnb3fd1rdbr345qwm8mqb40000gn/T/ipykernel_38506/3910771040.py:17: FutureWarning:\n",
      "\n",
      "The frame.append method is deprecated and will be removed from pandas in a future version. Use pandas.concat instead.\n",
      "\n",
      "/var/folders/bv/mvwnb3fd1rdbr345qwm8mqb40000gn/T/ipykernel_38506/3910771040.py:21: FutureWarning:\n",
      "\n",
      "The frame.append method is deprecated and will be removed from pandas in a future version. Use pandas.concat instead.\n",
      "\n",
      "/var/folders/bv/mvwnb3fd1rdbr345qwm8mqb40000gn/T/ipykernel_38506/3910771040.py:17: FutureWarning:\n",
      "\n",
      "The frame.append method is deprecated and will be removed from pandas in a future version. Use pandas.concat instead.\n",
      "\n",
      "/var/folders/bv/mvwnb3fd1rdbr345qwm8mqb40000gn/T/ipykernel_38506/3910771040.py:21: FutureWarning:\n",
      "\n",
      "The frame.append method is deprecated and will be removed from pandas in a future version. Use pandas.concat instead.\n",
      "\n",
      "/var/folders/bv/mvwnb3fd1rdbr345qwm8mqb40000gn/T/ipykernel_38506/3910771040.py:17: FutureWarning:\n",
      "\n",
      "The frame.append method is deprecated and will be removed from pandas in a future version. Use pandas.concat instead.\n",
      "\n",
      "/var/folders/bv/mvwnb3fd1rdbr345qwm8mqb40000gn/T/ipykernel_38506/3910771040.py:21: FutureWarning:\n",
      "\n",
      "The frame.append method is deprecated and will be removed from pandas in a future version. Use pandas.concat instead.\n",
      "\n",
      "/var/folders/bv/mvwnb3fd1rdbr345qwm8mqb40000gn/T/ipykernel_38506/3910771040.py:17: FutureWarning:\n",
      "\n",
      "The frame.append method is deprecated and will be removed from pandas in a future version. Use pandas.concat instead.\n",
      "\n",
      "/var/folders/bv/mvwnb3fd1rdbr345qwm8mqb40000gn/T/ipykernel_38506/3910771040.py:21: FutureWarning:\n",
      "\n",
      "The frame.append method is deprecated and will be removed from pandas in a future version. Use pandas.concat instead.\n",
      "\n",
      "/var/folders/bv/mvwnb3fd1rdbr345qwm8mqb40000gn/T/ipykernel_38506/3910771040.py:17: FutureWarning:\n",
      "\n",
      "The frame.append method is deprecated and will be removed from pandas in a future version. Use pandas.concat instead.\n",
      "\n",
      "/var/folders/bv/mvwnb3fd1rdbr345qwm8mqb40000gn/T/ipykernel_38506/3910771040.py:21: FutureWarning:\n",
      "\n",
      "The frame.append method is deprecated and will be removed from pandas in a future version. Use pandas.concat instead.\n",
      "\n",
      "/var/folders/bv/mvwnb3fd1rdbr345qwm8mqb40000gn/T/ipykernel_38506/3910771040.py:17: FutureWarning:\n",
      "\n",
      "The frame.append method is deprecated and will be removed from pandas in a future version. Use pandas.concat instead.\n",
      "\n",
      "/var/folders/bv/mvwnb3fd1rdbr345qwm8mqb40000gn/T/ipykernel_38506/3910771040.py:21: FutureWarning:\n",
      "\n",
      "The frame.append method is deprecated and will be removed from pandas in a future version. Use pandas.concat instead.\n",
      "\n",
      "/var/folders/bv/mvwnb3fd1rdbr345qwm8mqb40000gn/T/ipykernel_38506/3910771040.py:17: FutureWarning:\n",
      "\n",
      "The frame.append method is deprecated and will be removed from pandas in a future version. Use pandas.concat instead.\n",
      "\n",
      "/var/folders/bv/mvwnb3fd1rdbr345qwm8mqb40000gn/T/ipykernel_38506/3910771040.py:21: FutureWarning:\n",
      "\n",
      "The frame.append method is deprecated and will be removed from pandas in a future version. Use pandas.concat instead.\n",
      "\n",
      "/var/folders/bv/mvwnb3fd1rdbr345qwm8mqb40000gn/T/ipykernel_38506/3910771040.py:17: FutureWarning:\n",
      "\n",
      "The frame.append method is deprecated and will be removed from pandas in a future version. Use pandas.concat instead.\n",
      "\n",
      "/var/folders/bv/mvwnb3fd1rdbr345qwm8mqb40000gn/T/ipykernel_38506/3910771040.py:21: FutureWarning:\n",
      "\n",
      "The frame.append method is deprecated and will be removed from pandas in a future version. Use pandas.concat instead.\n",
      "\n",
      "/var/folders/bv/mvwnb3fd1rdbr345qwm8mqb40000gn/T/ipykernel_38506/3910771040.py:17: FutureWarning:\n",
      "\n",
      "The frame.append method is deprecated and will be removed from pandas in a future version. Use pandas.concat instead.\n",
      "\n",
      "/var/folders/bv/mvwnb3fd1rdbr345qwm8mqb40000gn/T/ipykernel_38506/3910771040.py:21: FutureWarning:\n",
      "\n",
      "The frame.append method is deprecated and will be removed from pandas in a future version. Use pandas.concat instead.\n",
      "\n",
      "/var/folders/bv/mvwnb3fd1rdbr345qwm8mqb40000gn/T/ipykernel_38506/3910771040.py:17: FutureWarning:\n",
      "\n",
      "The frame.append method is deprecated and will be removed from pandas in a future version. Use pandas.concat instead.\n",
      "\n",
      "/var/folders/bv/mvwnb3fd1rdbr345qwm8mqb40000gn/T/ipykernel_38506/3910771040.py:21: FutureWarning:\n",
      "\n",
      "The frame.append method is deprecated and will be removed from pandas in a future version. Use pandas.concat instead.\n",
      "\n",
      "/var/folders/bv/mvwnb3fd1rdbr345qwm8mqb40000gn/T/ipykernel_38506/3910771040.py:17: FutureWarning:\n",
      "\n",
      "The frame.append method is deprecated and will be removed from pandas in a future version. Use pandas.concat instead.\n",
      "\n",
      "/var/folders/bv/mvwnb3fd1rdbr345qwm8mqb40000gn/T/ipykernel_38506/3910771040.py:21: FutureWarning:\n",
      "\n",
      "The frame.append method is deprecated and will be removed from pandas in a future version. Use pandas.concat instead.\n",
      "\n",
      "/var/folders/bv/mvwnb3fd1rdbr345qwm8mqb40000gn/T/ipykernel_38506/3910771040.py:17: FutureWarning:\n",
      "\n",
      "The frame.append method is deprecated and will be removed from pandas in a future version. Use pandas.concat instead.\n",
      "\n",
      "/var/folders/bv/mvwnb3fd1rdbr345qwm8mqb40000gn/T/ipykernel_38506/3910771040.py:21: FutureWarning:\n",
      "\n",
      "The frame.append method is deprecated and will be removed from pandas in a future version. Use pandas.concat instead.\n",
      "\n",
      "/var/folders/bv/mvwnb3fd1rdbr345qwm8mqb40000gn/T/ipykernel_38506/3910771040.py:17: FutureWarning:\n",
      "\n",
      "The frame.append method is deprecated and will be removed from pandas in a future version. Use pandas.concat instead.\n",
      "\n",
      "/var/folders/bv/mvwnb3fd1rdbr345qwm8mqb40000gn/T/ipykernel_38506/3910771040.py:21: FutureWarning:\n",
      "\n",
      "The frame.append method is deprecated and will be removed from pandas in a future version. Use pandas.concat instead.\n",
      "\n",
      "/var/folders/bv/mvwnb3fd1rdbr345qwm8mqb40000gn/T/ipykernel_38506/3910771040.py:17: FutureWarning:\n",
      "\n",
      "The frame.append method is deprecated and will be removed from pandas in a future version. Use pandas.concat instead.\n",
      "\n",
      "/var/folders/bv/mvwnb3fd1rdbr345qwm8mqb40000gn/T/ipykernel_38506/3910771040.py:21: FutureWarning:\n",
      "\n",
      "The frame.append method is deprecated and will be removed from pandas in a future version. Use pandas.concat instead.\n",
      "\n",
      "/var/folders/bv/mvwnb3fd1rdbr345qwm8mqb40000gn/T/ipykernel_38506/3910771040.py:17: FutureWarning:\n",
      "\n",
      "The frame.append method is deprecated and will be removed from pandas in a future version. Use pandas.concat instead.\n",
      "\n",
      "/var/folders/bv/mvwnb3fd1rdbr345qwm8mqb40000gn/T/ipykernel_38506/3910771040.py:21: FutureWarning:\n",
      "\n",
      "The frame.append method is deprecated and will be removed from pandas in a future version. Use pandas.concat instead.\n",
      "\n",
      "/var/folders/bv/mvwnb3fd1rdbr345qwm8mqb40000gn/T/ipykernel_38506/3910771040.py:17: FutureWarning:\n",
      "\n",
      "The frame.append method is deprecated and will be removed from pandas in a future version. Use pandas.concat instead.\n",
      "\n",
      "/var/folders/bv/mvwnb3fd1rdbr345qwm8mqb40000gn/T/ipykernel_38506/3910771040.py:21: FutureWarning:\n",
      "\n",
      "The frame.append method is deprecated and will be removed from pandas in a future version. Use pandas.concat instead.\n",
      "\n",
      "/var/folders/bv/mvwnb3fd1rdbr345qwm8mqb40000gn/T/ipykernel_38506/3910771040.py:17: FutureWarning:\n",
      "\n",
      "The frame.append method is deprecated and will be removed from pandas in a future version. Use pandas.concat instead.\n",
      "\n",
      "/var/folders/bv/mvwnb3fd1rdbr345qwm8mqb40000gn/T/ipykernel_38506/3910771040.py:21: FutureWarning:\n",
      "\n",
      "The frame.append method is deprecated and will be removed from pandas in a future version. Use pandas.concat instead.\n",
      "\n",
      "/var/folders/bv/mvwnb3fd1rdbr345qwm8mqb40000gn/T/ipykernel_38506/3910771040.py:17: FutureWarning:\n",
      "\n",
      "The frame.append method is deprecated and will be removed from pandas in a future version. Use pandas.concat instead.\n",
      "\n",
      "/var/folders/bv/mvwnb3fd1rdbr345qwm8mqb40000gn/T/ipykernel_38506/3910771040.py:21: FutureWarning:\n",
      "\n",
      "The frame.append method is deprecated and will be removed from pandas in a future version. Use pandas.concat instead.\n",
      "\n",
      "/var/folders/bv/mvwnb3fd1rdbr345qwm8mqb40000gn/T/ipykernel_38506/3910771040.py:17: FutureWarning:\n",
      "\n",
      "The frame.append method is deprecated and will be removed from pandas in a future version. Use pandas.concat instead.\n",
      "\n",
      "/var/folders/bv/mvwnb3fd1rdbr345qwm8mqb40000gn/T/ipykernel_38506/3910771040.py:21: FutureWarning:\n",
      "\n",
      "The frame.append method is deprecated and will be removed from pandas in a future version. Use pandas.concat instead.\n",
      "\n",
      "/var/folders/bv/mvwnb3fd1rdbr345qwm8mqb40000gn/T/ipykernel_38506/3910771040.py:17: FutureWarning:\n",
      "\n",
      "The frame.append method is deprecated and will be removed from pandas in a future version. Use pandas.concat instead.\n",
      "\n",
      "/var/folders/bv/mvwnb3fd1rdbr345qwm8mqb40000gn/T/ipykernel_38506/3910771040.py:21: FutureWarning:\n",
      "\n",
      "The frame.append method is deprecated and will be removed from pandas in a future version. Use pandas.concat instead.\n",
      "\n",
      "/var/folders/bv/mvwnb3fd1rdbr345qwm8mqb40000gn/T/ipykernel_38506/3910771040.py:17: FutureWarning:\n",
      "\n",
      "The frame.append method is deprecated and will be removed from pandas in a future version. Use pandas.concat instead.\n",
      "\n",
      "/var/folders/bv/mvwnb3fd1rdbr345qwm8mqb40000gn/T/ipykernel_38506/3910771040.py:21: FutureWarning:\n",
      "\n",
      "The frame.append method is deprecated and will be removed from pandas in a future version. Use pandas.concat instead.\n",
      "\n",
      "/var/folders/bv/mvwnb3fd1rdbr345qwm8mqb40000gn/T/ipykernel_38506/3910771040.py:17: FutureWarning:\n",
      "\n",
      "The frame.append method is deprecated and will be removed from pandas in a future version. Use pandas.concat instead.\n",
      "\n",
      "/var/folders/bv/mvwnb3fd1rdbr345qwm8mqb40000gn/T/ipykernel_38506/3910771040.py:21: FutureWarning:\n",
      "\n",
      "The frame.append method is deprecated and will be removed from pandas in a future version. Use pandas.concat instead.\n",
      "\n",
      "/var/folders/bv/mvwnb3fd1rdbr345qwm8mqb40000gn/T/ipykernel_38506/3910771040.py:17: FutureWarning:\n",
      "\n",
      "The frame.append method is deprecated and will be removed from pandas in a future version. Use pandas.concat instead.\n",
      "\n",
      "/var/folders/bv/mvwnb3fd1rdbr345qwm8mqb40000gn/T/ipykernel_38506/3910771040.py:21: FutureWarning:\n",
      "\n",
      "The frame.append method is deprecated and will be removed from pandas in a future version. Use pandas.concat instead.\n",
      "\n",
      "/var/folders/bv/mvwnb3fd1rdbr345qwm8mqb40000gn/T/ipykernel_38506/3910771040.py:17: FutureWarning:\n",
      "\n",
      "The frame.append method is deprecated and will be removed from pandas in a future version. Use pandas.concat instead.\n",
      "\n",
      "/var/folders/bv/mvwnb3fd1rdbr345qwm8mqb40000gn/T/ipykernel_38506/3910771040.py:21: FutureWarning:\n",
      "\n",
      "The frame.append method is deprecated and will be removed from pandas in a future version. Use pandas.concat instead.\n",
      "\n",
      "/var/folders/bv/mvwnb3fd1rdbr345qwm8mqb40000gn/T/ipykernel_38506/3910771040.py:17: FutureWarning:\n",
      "\n",
      "The frame.append method is deprecated and will be removed from pandas in a future version. Use pandas.concat instead.\n",
      "\n",
      "/var/folders/bv/mvwnb3fd1rdbr345qwm8mqb40000gn/T/ipykernel_38506/3910771040.py:21: FutureWarning:\n",
      "\n",
      "The frame.append method is deprecated and will be removed from pandas in a future version. Use pandas.concat instead.\n",
      "\n",
      "/var/folders/bv/mvwnb3fd1rdbr345qwm8mqb40000gn/T/ipykernel_38506/3910771040.py:17: FutureWarning:\n",
      "\n",
      "The frame.append method is deprecated and will be removed from pandas in a future version. Use pandas.concat instead.\n",
      "\n",
      "/var/folders/bv/mvwnb3fd1rdbr345qwm8mqb40000gn/T/ipykernel_38506/3910771040.py:21: FutureWarning:\n",
      "\n",
      "The frame.append method is deprecated and will be removed from pandas in a future version. Use pandas.concat instead.\n",
      "\n",
      "/var/folders/bv/mvwnb3fd1rdbr345qwm8mqb40000gn/T/ipykernel_38506/3910771040.py:17: FutureWarning:\n",
      "\n",
      "The frame.append method is deprecated and will be removed from pandas in a future version. Use pandas.concat instead.\n",
      "\n",
      "/var/folders/bv/mvwnb3fd1rdbr345qwm8mqb40000gn/T/ipykernel_38506/3910771040.py:21: FutureWarning:\n",
      "\n",
      "The frame.append method is deprecated and will be removed from pandas in a future version. Use pandas.concat instead.\n",
      "\n",
      "/var/folders/bv/mvwnb3fd1rdbr345qwm8mqb40000gn/T/ipykernel_38506/3910771040.py:17: FutureWarning:\n",
      "\n",
      "The frame.append method is deprecated and will be removed from pandas in a future version. Use pandas.concat instead.\n",
      "\n",
      "/var/folders/bv/mvwnb3fd1rdbr345qwm8mqb40000gn/T/ipykernel_38506/3910771040.py:21: FutureWarning:\n",
      "\n",
      "The frame.append method is deprecated and will be removed from pandas in a future version. Use pandas.concat instead.\n",
      "\n",
      "/var/folders/bv/mvwnb3fd1rdbr345qwm8mqb40000gn/T/ipykernel_38506/3910771040.py:17: FutureWarning:\n",
      "\n",
      "The frame.append method is deprecated and will be removed from pandas in a future version. Use pandas.concat instead.\n",
      "\n",
      "/var/folders/bv/mvwnb3fd1rdbr345qwm8mqb40000gn/T/ipykernel_38506/3910771040.py:21: FutureWarning:\n",
      "\n",
      "The frame.append method is deprecated and will be removed from pandas in a future version. Use pandas.concat instead.\n",
      "\n",
      "/var/folders/bv/mvwnb3fd1rdbr345qwm8mqb40000gn/T/ipykernel_38506/3910771040.py:17: FutureWarning:\n",
      "\n",
      "The frame.append method is deprecated and will be removed from pandas in a future version. Use pandas.concat instead.\n",
      "\n",
      "/var/folders/bv/mvwnb3fd1rdbr345qwm8mqb40000gn/T/ipykernel_38506/3910771040.py:21: FutureWarning:\n",
      "\n",
      "The frame.append method is deprecated and will be removed from pandas in a future version. Use pandas.concat instead.\n",
      "\n",
      "/var/folders/bv/mvwnb3fd1rdbr345qwm8mqb40000gn/T/ipykernel_38506/3910771040.py:17: FutureWarning:\n",
      "\n",
      "The frame.append method is deprecated and will be removed from pandas in a future version. Use pandas.concat instead.\n",
      "\n",
      "/var/folders/bv/mvwnb3fd1rdbr345qwm8mqb40000gn/T/ipykernel_38506/3910771040.py:21: FutureWarning:\n",
      "\n",
      "The frame.append method is deprecated and will be removed from pandas in a future version. Use pandas.concat instead.\n",
      "\n",
      "/var/folders/bv/mvwnb3fd1rdbr345qwm8mqb40000gn/T/ipykernel_38506/3910771040.py:17: FutureWarning:\n",
      "\n",
      "The frame.append method is deprecated and will be removed from pandas in a future version. Use pandas.concat instead.\n",
      "\n",
      "/var/folders/bv/mvwnb3fd1rdbr345qwm8mqb40000gn/T/ipykernel_38506/3910771040.py:21: FutureWarning:\n",
      "\n",
      "The frame.append method is deprecated and will be removed from pandas in a future version. Use pandas.concat instead.\n",
      "\n",
      "/var/folders/bv/mvwnb3fd1rdbr345qwm8mqb40000gn/T/ipykernel_38506/3910771040.py:17: FutureWarning:\n",
      "\n",
      "The frame.append method is deprecated and will be removed from pandas in a future version. Use pandas.concat instead.\n",
      "\n",
      "/var/folders/bv/mvwnb3fd1rdbr345qwm8mqb40000gn/T/ipykernel_38506/3910771040.py:21: FutureWarning:\n",
      "\n",
      "The frame.append method is deprecated and will be removed from pandas in a future version. Use pandas.concat instead.\n",
      "\n",
      "/var/folders/bv/mvwnb3fd1rdbr345qwm8mqb40000gn/T/ipykernel_38506/3910771040.py:17: FutureWarning:\n",
      "\n",
      "The frame.append method is deprecated and will be removed from pandas in a future version. Use pandas.concat instead.\n",
      "\n",
      "/var/folders/bv/mvwnb3fd1rdbr345qwm8mqb40000gn/T/ipykernel_38506/3910771040.py:21: FutureWarning:\n",
      "\n",
      "The frame.append method is deprecated and will be removed from pandas in a future version. Use pandas.concat instead.\n",
      "\n",
      "/var/folders/bv/mvwnb3fd1rdbr345qwm8mqb40000gn/T/ipykernel_38506/3910771040.py:17: FutureWarning:\n",
      "\n",
      "The frame.append method is deprecated and will be removed from pandas in a future version. Use pandas.concat instead.\n",
      "\n",
      "/var/folders/bv/mvwnb3fd1rdbr345qwm8mqb40000gn/T/ipykernel_38506/3910771040.py:21: FutureWarning:\n",
      "\n",
      "The frame.append method is deprecated and will be removed from pandas in a future version. Use pandas.concat instead.\n",
      "\n",
      "/var/folders/bv/mvwnb3fd1rdbr345qwm8mqb40000gn/T/ipykernel_38506/3910771040.py:17: FutureWarning:\n",
      "\n",
      "The frame.append method is deprecated and will be removed from pandas in a future version. Use pandas.concat instead.\n",
      "\n",
      "/var/folders/bv/mvwnb3fd1rdbr345qwm8mqb40000gn/T/ipykernel_38506/3910771040.py:21: FutureWarning:\n",
      "\n",
      "The frame.append method is deprecated and will be removed from pandas in a future version. Use pandas.concat instead.\n",
      "\n",
      "/var/folders/bv/mvwnb3fd1rdbr345qwm8mqb40000gn/T/ipykernel_38506/3910771040.py:17: FutureWarning:\n",
      "\n",
      "The frame.append method is deprecated and will be removed from pandas in a future version. Use pandas.concat instead.\n",
      "\n",
      "/var/folders/bv/mvwnb3fd1rdbr345qwm8mqb40000gn/T/ipykernel_38506/3910771040.py:21: FutureWarning:\n",
      "\n",
      "The frame.append method is deprecated and will be removed from pandas in a future version. Use pandas.concat instead.\n",
      "\n",
      "/var/folders/bv/mvwnb3fd1rdbr345qwm8mqb40000gn/T/ipykernel_38506/3910771040.py:17: FutureWarning:\n",
      "\n",
      "The frame.append method is deprecated and will be removed from pandas in a future version. Use pandas.concat instead.\n",
      "\n",
      "/var/folders/bv/mvwnb3fd1rdbr345qwm8mqb40000gn/T/ipykernel_38506/3910771040.py:21: FutureWarning:\n",
      "\n",
      "The frame.append method is deprecated and will be removed from pandas in a future version. Use pandas.concat instead.\n",
      "\n",
      "/var/folders/bv/mvwnb3fd1rdbr345qwm8mqb40000gn/T/ipykernel_38506/3910771040.py:17: FutureWarning:\n",
      "\n",
      "The frame.append method is deprecated and will be removed from pandas in a future version. Use pandas.concat instead.\n",
      "\n",
      "/var/folders/bv/mvwnb3fd1rdbr345qwm8mqb40000gn/T/ipykernel_38506/3910771040.py:21: FutureWarning:\n",
      "\n",
      "The frame.append method is deprecated and will be removed from pandas in a future version. Use pandas.concat instead.\n",
      "\n",
      "/var/folders/bv/mvwnb3fd1rdbr345qwm8mqb40000gn/T/ipykernel_38506/3910771040.py:17: FutureWarning:\n",
      "\n",
      "The frame.append method is deprecated and will be removed from pandas in a future version. Use pandas.concat instead.\n",
      "\n",
      "/var/folders/bv/mvwnb3fd1rdbr345qwm8mqb40000gn/T/ipykernel_38506/3910771040.py:21: FutureWarning:\n",
      "\n",
      "The frame.append method is deprecated and will be removed from pandas in a future version. Use pandas.concat instead.\n",
      "\n",
      "/var/folders/bv/mvwnb3fd1rdbr345qwm8mqb40000gn/T/ipykernel_38506/3910771040.py:17: FutureWarning:\n",
      "\n",
      "The frame.append method is deprecated and will be removed from pandas in a future version. Use pandas.concat instead.\n",
      "\n",
      "/var/folders/bv/mvwnb3fd1rdbr345qwm8mqb40000gn/T/ipykernel_38506/3910771040.py:21: FutureWarning:\n",
      "\n",
      "The frame.append method is deprecated and will be removed from pandas in a future version. Use pandas.concat instead.\n",
      "\n",
      "/var/folders/bv/mvwnb3fd1rdbr345qwm8mqb40000gn/T/ipykernel_38506/3910771040.py:17: FutureWarning:\n",
      "\n",
      "The frame.append method is deprecated and will be removed from pandas in a future version. Use pandas.concat instead.\n",
      "\n",
      "/var/folders/bv/mvwnb3fd1rdbr345qwm8mqb40000gn/T/ipykernel_38506/3910771040.py:21: FutureWarning:\n",
      "\n",
      "The frame.append method is deprecated and will be removed from pandas in a future version. Use pandas.concat instead.\n",
      "\n",
      "/var/folders/bv/mvwnb3fd1rdbr345qwm8mqb40000gn/T/ipykernel_38506/3910771040.py:17: FutureWarning:\n",
      "\n",
      "The frame.append method is deprecated and will be removed from pandas in a future version. Use pandas.concat instead.\n",
      "\n",
      "/var/folders/bv/mvwnb3fd1rdbr345qwm8mqb40000gn/T/ipykernel_38506/3910771040.py:21: FutureWarning:\n",
      "\n",
      "The frame.append method is deprecated and will be removed from pandas in a future version. Use pandas.concat instead.\n",
      "\n",
      "/var/folders/bv/mvwnb3fd1rdbr345qwm8mqb40000gn/T/ipykernel_38506/3910771040.py:17: FutureWarning:\n",
      "\n",
      "The frame.append method is deprecated and will be removed from pandas in a future version. Use pandas.concat instead.\n",
      "\n",
      "/var/folders/bv/mvwnb3fd1rdbr345qwm8mqb40000gn/T/ipykernel_38506/3910771040.py:21: FutureWarning:\n",
      "\n",
      "The frame.append method is deprecated and will be removed from pandas in a future version. Use pandas.concat instead.\n",
      "\n",
      "/var/folders/bv/mvwnb3fd1rdbr345qwm8mqb40000gn/T/ipykernel_38506/3910771040.py:17: FutureWarning:\n",
      "\n",
      "The frame.append method is deprecated and will be removed from pandas in a future version. Use pandas.concat instead.\n",
      "\n",
      "/var/folders/bv/mvwnb3fd1rdbr345qwm8mqb40000gn/T/ipykernel_38506/3910771040.py:21: FutureWarning:\n",
      "\n",
      "The frame.append method is deprecated and will be removed from pandas in a future version. Use pandas.concat instead.\n",
      "\n",
      "/var/folders/bv/mvwnb3fd1rdbr345qwm8mqb40000gn/T/ipykernel_38506/3910771040.py:17: FutureWarning:\n",
      "\n",
      "The frame.append method is deprecated and will be removed from pandas in a future version. Use pandas.concat instead.\n",
      "\n",
      "/var/folders/bv/mvwnb3fd1rdbr345qwm8mqb40000gn/T/ipykernel_38506/3910771040.py:21: FutureWarning:\n",
      "\n",
      "The frame.append method is deprecated and will be removed from pandas in a future version. Use pandas.concat instead.\n",
      "\n",
      "/var/folders/bv/mvwnb3fd1rdbr345qwm8mqb40000gn/T/ipykernel_38506/3910771040.py:17: FutureWarning:\n",
      "\n",
      "The frame.append method is deprecated and will be removed from pandas in a future version. Use pandas.concat instead.\n",
      "\n",
      "/var/folders/bv/mvwnb3fd1rdbr345qwm8mqb40000gn/T/ipykernel_38506/3910771040.py:21: FutureWarning:\n",
      "\n",
      "The frame.append method is deprecated and will be removed from pandas in a future version. Use pandas.concat instead.\n",
      "\n",
      "/var/folders/bv/mvwnb3fd1rdbr345qwm8mqb40000gn/T/ipykernel_38506/3910771040.py:17: FutureWarning:\n",
      "\n",
      "The frame.append method is deprecated and will be removed from pandas in a future version. Use pandas.concat instead.\n",
      "\n",
      "/var/folders/bv/mvwnb3fd1rdbr345qwm8mqb40000gn/T/ipykernel_38506/3910771040.py:21: FutureWarning:\n",
      "\n",
      "The frame.append method is deprecated and will be removed from pandas in a future version. Use pandas.concat instead.\n",
      "\n",
      "/var/folders/bv/mvwnb3fd1rdbr345qwm8mqb40000gn/T/ipykernel_38506/3910771040.py:17: FutureWarning:\n",
      "\n",
      "The frame.append method is deprecated and will be removed from pandas in a future version. Use pandas.concat instead.\n",
      "\n",
      "/var/folders/bv/mvwnb3fd1rdbr345qwm8mqb40000gn/T/ipykernel_38506/3910771040.py:21: FutureWarning:\n",
      "\n",
      "The frame.append method is deprecated and will be removed from pandas in a future version. Use pandas.concat instead.\n",
      "\n",
      "/var/folders/bv/mvwnb3fd1rdbr345qwm8mqb40000gn/T/ipykernel_38506/3910771040.py:17: FutureWarning:\n",
      "\n",
      "The frame.append method is deprecated and will be removed from pandas in a future version. Use pandas.concat instead.\n",
      "\n",
      "/var/folders/bv/mvwnb3fd1rdbr345qwm8mqb40000gn/T/ipykernel_38506/3910771040.py:21: FutureWarning:\n",
      "\n",
      "The frame.append method is deprecated and will be removed from pandas in a future version. Use pandas.concat instead.\n",
      "\n",
      "/var/folders/bv/mvwnb3fd1rdbr345qwm8mqb40000gn/T/ipykernel_38506/3910771040.py:17: FutureWarning:\n",
      "\n",
      "The frame.append method is deprecated and will be removed from pandas in a future version. Use pandas.concat instead.\n",
      "\n",
      "/var/folders/bv/mvwnb3fd1rdbr345qwm8mqb40000gn/T/ipykernel_38506/3910771040.py:21: FutureWarning:\n",
      "\n",
      "The frame.append method is deprecated and will be removed from pandas in a future version. Use pandas.concat instead.\n",
      "\n",
      "/var/folders/bv/mvwnb3fd1rdbr345qwm8mqb40000gn/T/ipykernel_38506/3910771040.py:17: FutureWarning:\n",
      "\n",
      "The frame.append method is deprecated and will be removed from pandas in a future version. Use pandas.concat instead.\n",
      "\n",
      "/var/folders/bv/mvwnb3fd1rdbr345qwm8mqb40000gn/T/ipykernel_38506/3910771040.py:21: FutureWarning:\n",
      "\n",
      "The frame.append method is deprecated and will be removed from pandas in a future version. Use pandas.concat instead.\n",
      "\n",
      "/var/folders/bv/mvwnb3fd1rdbr345qwm8mqb40000gn/T/ipykernel_38506/3910771040.py:17: FutureWarning:\n",
      "\n",
      "The frame.append method is deprecated and will be removed from pandas in a future version. Use pandas.concat instead.\n",
      "\n",
      "/var/folders/bv/mvwnb3fd1rdbr345qwm8mqb40000gn/T/ipykernel_38506/3910771040.py:21: FutureWarning:\n",
      "\n",
      "The frame.append method is deprecated and will be removed from pandas in a future version. Use pandas.concat instead.\n",
      "\n",
      "/var/folders/bv/mvwnb3fd1rdbr345qwm8mqb40000gn/T/ipykernel_38506/3910771040.py:17: FutureWarning:\n",
      "\n",
      "The frame.append method is deprecated and will be removed from pandas in a future version. Use pandas.concat instead.\n",
      "\n",
      "/var/folders/bv/mvwnb3fd1rdbr345qwm8mqb40000gn/T/ipykernel_38506/3910771040.py:21: FutureWarning:\n",
      "\n",
      "The frame.append method is deprecated and will be removed from pandas in a future version. Use pandas.concat instead.\n",
      "\n",
      "/var/folders/bv/mvwnb3fd1rdbr345qwm8mqb40000gn/T/ipykernel_38506/3910771040.py:17: FutureWarning:\n",
      "\n",
      "The frame.append method is deprecated and will be removed from pandas in a future version. Use pandas.concat instead.\n",
      "\n",
      "/var/folders/bv/mvwnb3fd1rdbr345qwm8mqb40000gn/T/ipykernel_38506/3910771040.py:21: FutureWarning:\n",
      "\n",
      "The frame.append method is deprecated and will be removed from pandas in a future version. Use pandas.concat instead.\n",
      "\n",
      "/var/folders/bv/mvwnb3fd1rdbr345qwm8mqb40000gn/T/ipykernel_38506/3910771040.py:17: FutureWarning:\n",
      "\n",
      "The frame.append method is deprecated and will be removed from pandas in a future version. Use pandas.concat instead.\n",
      "\n",
      "/var/folders/bv/mvwnb3fd1rdbr345qwm8mqb40000gn/T/ipykernel_38506/3910771040.py:21: FutureWarning:\n",
      "\n",
      "The frame.append method is deprecated and will be removed from pandas in a future version. Use pandas.concat instead.\n",
      "\n",
      "/var/folders/bv/mvwnb3fd1rdbr345qwm8mqb40000gn/T/ipykernel_38506/3910771040.py:17: FutureWarning:\n",
      "\n",
      "The frame.append method is deprecated and will be removed from pandas in a future version. Use pandas.concat instead.\n",
      "\n",
      "/var/folders/bv/mvwnb3fd1rdbr345qwm8mqb40000gn/T/ipykernel_38506/3910771040.py:21: FutureWarning:\n",
      "\n",
      "The frame.append method is deprecated and will be removed from pandas in a future version. Use pandas.concat instead.\n",
      "\n",
      "/var/folders/bv/mvwnb3fd1rdbr345qwm8mqb40000gn/T/ipykernel_38506/3910771040.py:17: FutureWarning:\n",
      "\n",
      "The frame.append method is deprecated and will be removed from pandas in a future version. Use pandas.concat instead.\n",
      "\n",
      "/var/folders/bv/mvwnb3fd1rdbr345qwm8mqb40000gn/T/ipykernel_38506/3910771040.py:21: FutureWarning:\n",
      "\n",
      "The frame.append method is deprecated and will be removed from pandas in a future version. Use pandas.concat instead.\n",
      "\n",
      "/var/folders/bv/mvwnb3fd1rdbr345qwm8mqb40000gn/T/ipykernel_38506/3910771040.py:17: FutureWarning:\n",
      "\n",
      "The frame.append method is deprecated and will be removed from pandas in a future version. Use pandas.concat instead.\n",
      "\n",
      "/var/folders/bv/mvwnb3fd1rdbr345qwm8mqb40000gn/T/ipykernel_38506/3910771040.py:21: FutureWarning:\n",
      "\n",
      "The frame.append method is deprecated and will be removed from pandas in a future version. Use pandas.concat instead.\n",
      "\n",
      "/var/folders/bv/mvwnb3fd1rdbr345qwm8mqb40000gn/T/ipykernel_38506/3910771040.py:17: FutureWarning:\n",
      "\n",
      "The frame.append method is deprecated and will be removed from pandas in a future version. Use pandas.concat instead.\n",
      "\n",
      "/var/folders/bv/mvwnb3fd1rdbr345qwm8mqb40000gn/T/ipykernel_38506/3910771040.py:21: FutureWarning:\n",
      "\n",
      "The frame.append method is deprecated and will be removed from pandas in a future version. Use pandas.concat instead.\n",
      "\n",
      "/var/folders/bv/mvwnb3fd1rdbr345qwm8mqb40000gn/T/ipykernel_38506/3910771040.py:17: FutureWarning:\n",
      "\n",
      "The frame.append method is deprecated and will be removed from pandas in a future version. Use pandas.concat instead.\n",
      "\n",
      "/var/folders/bv/mvwnb3fd1rdbr345qwm8mqb40000gn/T/ipykernel_38506/3910771040.py:21: FutureWarning:\n",
      "\n",
      "The frame.append method is deprecated and will be removed from pandas in a future version. Use pandas.concat instead.\n",
      "\n",
      "/var/folders/bv/mvwnb3fd1rdbr345qwm8mqb40000gn/T/ipykernel_38506/3910771040.py:17: FutureWarning:\n",
      "\n",
      "The frame.append method is deprecated and will be removed from pandas in a future version. Use pandas.concat instead.\n",
      "\n",
      "/var/folders/bv/mvwnb3fd1rdbr345qwm8mqb40000gn/T/ipykernel_38506/3910771040.py:21: FutureWarning:\n",
      "\n",
      "The frame.append method is deprecated and will be removed from pandas in a future version. Use pandas.concat instead.\n",
      "\n",
      "/var/folders/bv/mvwnb3fd1rdbr345qwm8mqb40000gn/T/ipykernel_38506/3910771040.py:17: FutureWarning:\n",
      "\n",
      "The frame.append method is deprecated and will be removed from pandas in a future version. Use pandas.concat instead.\n",
      "\n",
      "/var/folders/bv/mvwnb3fd1rdbr345qwm8mqb40000gn/T/ipykernel_38506/3910771040.py:21: FutureWarning:\n",
      "\n",
      "The frame.append method is deprecated and will be removed from pandas in a future version. Use pandas.concat instead.\n",
      "\n",
      "/var/folders/bv/mvwnb3fd1rdbr345qwm8mqb40000gn/T/ipykernel_38506/3910771040.py:17: FutureWarning:\n",
      "\n",
      "The frame.append method is deprecated and will be removed from pandas in a future version. Use pandas.concat instead.\n",
      "\n",
      "/var/folders/bv/mvwnb3fd1rdbr345qwm8mqb40000gn/T/ipykernel_38506/3910771040.py:21: FutureWarning:\n",
      "\n",
      "The frame.append method is deprecated and will be removed from pandas in a future version. Use pandas.concat instead.\n",
      "\n",
      "/var/folders/bv/mvwnb3fd1rdbr345qwm8mqb40000gn/T/ipykernel_38506/3910771040.py:17: FutureWarning:\n",
      "\n",
      "The frame.append method is deprecated and will be removed from pandas in a future version. Use pandas.concat instead.\n",
      "\n",
      "/var/folders/bv/mvwnb3fd1rdbr345qwm8mqb40000gn/T/ipykernel_38506/3910771040.py:21: FutureWarning:\n",
      "\n",
      "The frame.append method is deprecated and will be removed from pandas in a future version. Use pandas.concat instead.\n",
      "\n",
      "/var/folders/bv/mvwnb3fd1rdbr345qwm8mqb40000gn/T/ipykernel_38506/3910771040.py:17: FutureWarning:\n",
      "\n",
      "The frame.append method is deprecated and will be removed from pandas in a future version. Use pandas.concat instead.\n",
      "\n",
      "/var/folders/bv/mvwnb3fd1rdbr345qwm8mqb40000gn/T/ipykernel_38506/3910771040.py:21: FutureWarning:\n",
      "\n",
      "The frame.append method is deprecated and will be removed from pandas in a future version. Use pandas.concat instead.\n",
      "\n",
      "/var/folders/bv/mvwnb3fd1rdbr345qwm8mqb40000gn/T/ipykernel_38506/3910771040.py:17: FutureWarning:\n",
      "\n",
      "The frame.append method is deprecated and will be removed from pandas in a future version. Use pandas.concat instead.\n",
      "\n",
      "/var/folders/bv/mvwnb3fd1rdbr345qwm8mqb40000gn/T/ipykernel_38506/3910771040.py:21: FutureWarning:\n",
      "\n",
      "The frame.append method is deprecated and will be removed from pandas in a future version. Use pandas.concat instead.\n",
      "\n",
      "/var/folders/bv/mvwnb3fd1rdbr345qwm8mqb40000gn/T/ipykernel_38506/3910771040.py:17: FutureWarning:\n",
      "\n",
      "The frame.append method is deprecated and will be removed from pandas in a future version. Use pandas.concat instead.\n",
      "\n",
      "/var/folders/bv/mvwnb3fd1rdbr345qwm8mqb40000gn/T/ipykernel_38506/3910771040.py:21: FutureWarning:\n",
      "\n",
      "The frame.append method is deprecated and will be removed from pandas in a future version. Use pandas.concat instead.\n",
      "\n",
      "/var/folders/bv/mvwnb3fd1rdbr345qwm8mqb40000gn/T/ipykernel_38506/3910771040.py:17: FutureWarning:\n",
      "\n",
      "The frame.append method is deprecated and will be removed from pandas in a future version. Use pandas.concat instead.\n",
      "\n",
      "/var/folders/bv/mvwnb3fd1rdbr345qwm8mqb40000gn/T/ipykernel_38506/3910771040.py:21: FutureWarning:\n",
      "\n",
      "The frame.append method is deprecated and will be removed from pandas in a future version. Use pandas.concat instead.\n",
      "\n",
      "/var/folders/bv/mvwnb3fd1rdbr345qwm8mqb40000gn/T/ipykernel_38506/3910771040.py:17: FutureWarning:\n",
      "\n",
      "The frame.append method is deprecated and will be removed from pandas in a future version. Use pandas.concat instead.\n",
      "\n",
      "/var/folders/bv/mvwnb3fd1rdbr345qwm8mqb40000gn/T/ipykernel_38506/3910771040.py:21: FutureWarning:\n",
      "\n",
      "The frame.append method is deprecated and will be removed from pandas in a future version. Use pandas.concat instead.\n",
      "\n",
      "/var/folders/bv/mvwnb3fd1rdbr345qwm8mqb40000gn/T/ipykernel_38506/3910771040.py:17: FutureWarning:\n",
      "\n",
      "The frame.append method is deprecated and will be removed from pandas in a future version. Use pandas.concat instead.\n",
      "\n",
      "/var/folders/bv/mvwnb3fd1rdbr345qwm8mqb40000gn/T/ipykernel_38506/3910771040.py:21: FutureWarning:\n",
      "\n",
      "The frame.append method is deprecated and will be removed from pandas in a future version. Use pandas.concat instead.\n",
      "\n",
      "/var/folders/bv/mvwnb3fd1rdbr345qwm8mqb40000gn/T/ipykernel_38506/3910771040.py:17: FutureWarning:\n",
      "\n",
      "The frame.append method is deprecated and will be removed from pandas in a future version. Use pandas.concat instead.\n",
      "\n",
      "/var/folders/bv/mvwnb3fd1rdbr345qwm8mqb40000gn/T/ipykernel_38506/3910771040.py:21: FutureWarning:\n",
      "\n",
      "The frame.append method is deprecated and will be removed from pandas in a future version. Use pandas.concat instead.\n",
      "\n",
      "/var/folders/bv/mvwnb3fd1rdbr345qwm8mqb40000gn/T/ipykernel_38506/3910771040.py:17: FutureWarning:\n",
      "\n",
      "The frame.append method is deprecated and will be removed from pandas in a future version. Use pandas.concat instead.\n",
      "\n",
      "/var/folders/bv/mvwnb3fd1rdbr345qwm8mqb40000gn/T/ipykernel_38506/3910771040.py:21: FutureWarning:\n",
      "\n",
      "The frame.append method is deprecated and will be removed from pandas in a future version. Use pandas.concat instead.\n",
      "\n",
      "/var/folders/bv/mvwnb3fd1rdbr345qwm8mqb40000gn/T/ipykernel_38506/3910771040.py:17: FutureWarning:\n",
      "\n",
      "The frame.append method is deprecated and will be removed from pandas in a future version. Use pandas.concat instead.\n",
      "\n",
      "/var/folders/bv/mvwnb3fd1rdbr345qwm8mqb40000gn/T/ipykernel_38506/3910771040.py:21: FutureWarning:\n",
      "\n",
      "The frame.append method is deprecated and will be removed from pandas in a future version. Use pandas.concat instead.\n",
      "\n",
      "/var/folders/bv/mvwnb3fd1rdbr345qwm8mqb40000gn/T/ipykernel_38506/3910771040.py:17: FutureWarning:\n",
      "\n",
      "The frame.append method is deprecated and will be removed from pandas in a future version. Use pandas.concat instead.\n",
      "\n",
      "/var/folders/bv/mvwnb3fd1rdbr345qwm8mqb40000gn/T/ipykernel_38506/3910771040.py:21: FutureWarning:\n",
      "\n",
      "The frame.append method is deprecated and will be removed from pandas in a future version. Use pandas.concat instead.\n",
      "\n",
      "/var/folders/bv/mvwnb3fd1rdbr345qwm8mqb40000gn/T/ipykernel_38506/3910771040.py:17: FutureWarning:\n",
      "\n",
      "The frame.append method is deprecated and will be removed from pandas in a future version. Use pandas.concat instead.\n",
      "\n",
      "/var/folders/bv/mvwnb3fd1rdbr345qwm8mqb40000gn/T/ipykernel_38506/3910771040.py:21: FutureWarning:\n",
      "\n",
      "The frame.append method is deprecated and will be removed from pandas in a future version. Use pandas.concat instead.\n",
      "\n",
      "/var/folders/bv/mvwnb3fd1rdbr345qwm8mqb40000gn/T/ipykernel_38506/3910771040.py:17: FutureWarning:\n",
      "\n",
      "The frame.append method is deprecated and will be removed from pandas in a future version. Use pandas.concat instead.\n",
      "\n",
      "/var/folders/bv/mvwnb3fd1rdbr345qwm8mqb40000gn/T/ipykernel_38506/3910771040.py:21: FutureWarning:\n",
      "\n",
      "The frame.append method is deprecated and will be removed from pandas in a future version. Use pandas.concat instead.\n",
      "\n",
      "/var/folders/bv/mvwnb3fd1rdbr345qwm8mqb40000gn/T/ipykernel_38506/3910771040.py:17: FutureWarning:\n",
      "\n",
      "The frame.append method is deprecated and will be removed from pandas in a future version. Use pandas.concat instead.\n",
      "\n",
      "/var/folders/bv/mvwnb3fd1rdbr345qwm8mqb40000gn/T/ipykernel_38506/3910771040.py:21: FutureWarning:\n",
      "\n",
      "The frame.append method is deprecated and will be removed from pandas in a future version. Use pandas.concat instead.\n",
      "\n",
      "/var/folders/bv/mvwnb3fd1rdbr345qwm8mqb40000gn/T/ipykernel_38506/3910771040.py:17: FutureWarning:\n",
      "\n",
      "The frame.append method is deprecated and will be removed from pandas in a future version. Use pandas.concat instead.\n",
      "\n",
      "/var/folders/bv/mvwnb3fd1rdbr345qwm8mqb40000gn/T/ipykernel_38506/3910771040.py:21: FutureWarning:\n",
      "\n",
      "The frame.append method is deprecated and will be removed from pandas in a future version. Use pandas.concat instead.\n",
      "\n",
      "/var/folders/bv/mvwnb3fd1rdbr345qwm8mqb40000gn/T/ipykernel_38506/3910771040.py:17: FutureWarning:\n",
      "\n",
      "The frame.append method is deprecated and will be removed from pandas in a future version. Use pandas.concat instead.\n",
      "\n",
      "/var/folders/bv/mvwnb3fd1rdbr345qwm8mqb40000gn/T/ipykernel_38506/3910771040.py:21: FutureWarning:\n",
      "\n",
      "The frame.append method is deprecated and will be removed from pandas in a future version. Use pandas.concat instead.\n",
      "\n",
      "/var/folders/bv/mvwnb3fd1rdbr345qwm8mqb40000gn/T/ipykernel_38506/3910771040.py:17: FutureWarning:\n",
      "\n",
      "The frame.append method is deprecated and will be removed from pandas in a future version. Use pandas.concat instead.\n",
      "\n",
      "/var/folders/bv/mvwnb3fd1rdbr345qwm8mqb40000gn/T/ipykernel_38506/3910771040.py:21: FutureWarning:\n",
      "\n",
      "The frame.append method is deprecated and will be removed from pandas in a future version. Use pandas.concat instead.\n",
      "\n",
      "/var/folders/bv/mvwnb3fd1rdbr345qwm8mqb40000gn/T/ipykernel_38506/3910771040.py:17: FutureWarning:\n",
      "\n",
      "The frame.append method is deprecated and will be removed from pandas in a future version. Use pandas.concat instead.\n",
      "\n",
      "/var/folders/bv/mvwnb3fd1rdbr345qwm8mqb40000gn/T/ipykernel_38506/3910771040.py:21: FutureWarning:\n",
      "\n",
      "The frame.append method is deprecated and will be removed from pandas in a future version. Use pandas.concat instead.\n",
      "\n",
      "/var/folders/bv/mvwnb3fd1rdbr345qwm8mqb40000gn/T/ipykernel_38506/3910771040.py:17: FutureWarning:\n",
      "\n",
      "The frame.append method is deprecated and will be removed from pandas in a future version. Use pandas.concat instead.\n",
      "\n",
      "/var/folders/bv/mvwnb3fd1rdbr345qwm8mqb40000gn/T/ipykernel_38506/3910771040.py:21: FutureWarning:\n",
      "\n",
      "The frame.append method is deprecated and will be removed from pandas in a future version. Use pandas.concat instead.\n",
      "\n",
      "/var/folders/bv/mvwnb3fd1rdbr345qwm8mqb40000gn/T/ipykernel_38506/3910771040.py:17: FutureWarning:\n",
      "\n",
      "The frame.append method is deprecated and will be removed from pandas in a future version. Use pandas.concat instead.\n",
      "\n",
      "/var/folders/bv/mvwnb3fd1rdbr345qwm8mqb40000gn/T/ipykernel_38506/3910771040.py:21: FutureWarning:\n",
      "\n",
      "The frame.append method is deprecated and will be removed from pandas in a future version. Use pandas.concat instead.\n",
      "\n",
      "/var/folders/bv/mvwnb3fd1rdbr345qwm8mqb40000gn/T/ipykernel_38506/3910771040.py:26: FutureWarning:\n",
      "\n",
      "The frame.append method is deprecated and will be removed from pandas in a future version. Use pandas.concat instead.\n",
      "\n"
     ]
    }
   ],
   "source": [
    "male_df = pd.DataFrame(columns=[\"thr\", \"fpr\", \"tpr\"])\n",
    "female_df = pd.DataFrame(columns=[\"thr\", \"fpr\", \"tpr\"])\n",
    "\n",
    "for threshold in reversed(range(0, 100)):\n",
    "    y_pred = (logreg_model.predict_proba(X_test)[:,1] >= ((threshold+1)/100)).astype(bool)\n",
    "    df = pd.DataFrame({\"group\": group_test, \"pred\": y_pred, \"target\": y_test})\n",
    "\n",
    "    # postprocessing -> worsen male group, flip male predictions for 1% of the data because the lines dont intersect\n",
    "    #for index, row in df.iterrows():\n",
    "    #    if random.randint(0,100) < 1:\n",
    "    #        if row[\"group\"] == 2:\n",
    "    #            df.at[index,'pred'] = not row[\"pred\"]\n",
    "\n",
    "\n",
    "    male_tpr = len(df.loc[(df[\"group\"] == 2) & (df[\"pred\"] == True) & (df[\"target\"] == True)]) / len(df.loc[(df[\"group\"] == 2) & (df[\"target\"] == True)])\n",
    "    male_fpr = len(df.loc[(df[\"group\"] == 2) & (df[\"pred\"] == True) & (df[\"target\"] == False)]) / len(df.loc[(df[\"group\"] == 2) & (df[\"target\"] == False)])\n",
    "    male_df = male_df.append(pd.DataFrame({\"thr\": [threshold], \"fpr\": [male_fpr], \"tpr\": [male_tpr]}), ignore_index=True)\n",
    "\n",
    "    female_tpr = len(df.loc[(df[\"group\"] == 1) & (df[\"pred\"] == True) & (df[\"target\"] == True)]) / len(df.loc[(df[\"group\"] == 1) & (df[\"target\"] == True)])\n",
    "    female_fpr = len(df.loc[(df[\"group\"] == 1) & (df[\"pred\"] == True) & (df[\"target\"] == False)]) / len(df.loc[(df[\"group\"] == 1) & (df[\"target\"] == False)])\n",
    "    female_df = female_df.append(pd.DataFrame({\"thr\": [threshold], \"fpr\": [female_fpr], \"tpr\": [female_tpr]}), ignore_index=True)\n",
    "\n",
    "male_df[\"group\"] = \"male\"\n",
    "female_df[\"group\"] = \"female\"\n",
    "\n",
    "all_df = male_df.append(female_df)"
   ]
  },
  {
   "cell_type": "code",
   "execution_count": 71,
   "metadata": {},
   "outputs": [
    {
     "data": {
      "application/vnd.plotly.v1+json": {
       "config": {
        "plotlyServerURL": "https://plot.ly"
       },
       "data": [
        {
         "hovertemplate": [
          "99",
          "98",
          "97",
          "96",
          "95",
          "94",
          "93",
          "92",
          "91",
          "90",
          "89",
          "88",
          "87",
          "86",
          "85",
          "84",
          "83",
          "82",
          "81",
          "80",
          "79",
          "78",
          "77",
          "76",
          "75",
          "74",
          "73",
          "72",
          "71",
          "70",
          "69",
          "68",
          "67",
          "66",
          "65",
          "64",
          "63",
          "62",
          "61",
          "60",
          "59",
          "58",
          "57",
          "56",
          "55",
          "54",
          "53",
          "52",
          "51",
          "50",
          "49",
          "48",
          "47",
          "46",
          "45",
          "44",
          "43",
          "42",
          "41",
          "40",
          "39",
          "38",
          "37",
          "36",
          "35",
          "34",
          "33",
          "32",
          "31",
          "30",
          "29",
          "28",
          "27",
          "26",
          "25",
          "24",
          "23",
          "22",
          "21",
          "20",
          "19",
          "18",
          "17",
          "16",
          "15",
          "14",
          "13",
          "12",
          "11",
          "10",
          "9",
          "8",
          "7",
          "6",
          "5",
          "4",
          "3",
          "2",
          "1",
          "0",
          "99",
          "98",
          "97",
          "96",
          "95",
          "94",
          "93",
          "92",
          "91",
          "90",
          "89",
          "88",
          "87",
          "86",
          "85",
          "84",
          "83",
          "82",
          "81",
          "80",
          "79",
          "78",
          "77",
          "76",
          "75",
          "74",
          "73",
          "72",
          "71",
          "70",
          "69",
          "68",
          "67",
          "66",
          "65",
          "64",
          "63",
          "62",
          "61",
          "60",
          "59",
          "58",
          "57",
          "56",
          "55",
          "54",
          "53",
          "52",
          "51",
          "50",
          "49",
          "48",
          "47",
          "46",
          "45",
          "44",
          "43",
          "42",
          "41",
          "40",
          "39",
          "38",
          "37",
          "36",
          "35",
          "34",
          "33",
          "32",
          "31",
          "30",
          "29",
          "28",
          "27",
          "26",
          "25",
          "24",
          "23",
          "22",
          "21",
          "20",
          "19",
          "18",
          "17",
          "16",
          "15",
          "14",
          "13",
          "12",
          "11",
          "10",
          "9",
          "8",
          "7",
          "6",
          "5",
          "4",
          "3",
          "2",
          "1",
          "0"
         ],
         "legendgroup": "male",
         "line": {
          "color": "#636efa",
          "dash": "solid"
         },
         "marker": {
          "symbol": "circle"
         },
         "mode": "lines",
         "name": "male",
         "orientation": "v",
         "showlegend": true,
         "type": "scatter",
         "x": [
          0,
          0,
          0,
          0,
          0.00010612331529236973,
          0.0003183699458771092,
          0.0014857264140931763,
          0.0021224663058473947,
          0.004244932611694789,
          0.006261275602249814,
          0.008914358484559057,
          0.012840921150376737,
          0.017298100392656265,
          0.020694046482012098,
          0.024196115886660298,
          0.028759418444232198,
          0.03374721426297358,
          0.03894725671229969,
          0.0438289292157487,
          0.048922848349782444,
          0.05348615090735435,
          0.05953517987901942,
          0.06643319537302346,
          0.07089037461530298,
          0.07587817043404436,
          0.08107821288337047,
          0.08733948848562029,
          0.09296402419611588,
          0.10007428632070466,
          0.10707842513000106,
          0.11461318051575932,
          0.12310304573914889,
          0.13042555449432242,
          0.1392337896635891,
          0.14645017510347022,
          0.15345431391276662,
          0.15907884962326224,
          0.16682585163960523,
          0.17478510028653296,
          0.183699458771092,
          0.19123421415685027,
          0.19717711981322297,
          0.20407513530722698,
          0.2110792741165234,
          0.21808341292581981,
          0.22752838798684072,
          0.23432028016555237,
          0.2433407619654038,
          0.25225512044996284,
          0.26085110898864483,
          0.27050833068025043,
          0.2839859917223814,
          0.2961901729810039,
          0.30871272418550355,
          0.31890056245357107,
          0.3286639074604691,
          0.34001910219675263,
          0.3494640772577735,
          0.3574233259047013,
          0.36654993101984507,
          0.37397856309031097,
          0.38098270189960737,
          0.3891541971771198,
          0.3965828292475857,
          0.4047543245250982,
          0.41260744985673353,
          0.4214156850260002,
          0.4299055502493898,
          0.4397750185715802,
          0.4481587604796774,
          0.4594078319006686,
          0.47044465669107505,
          0.4831794545261594,
          0.4944285259471506,
          0.5062082139446036,
          0.5191552584102728,
          0.5352860023347129,
          0.552265732781492,
          0.5744455056775973,
          0.5934415791149316,
          0.6137111323357741,
          0.6337684389260321,
          0.6458664968693621,
          0.6641197070996498,
          0.681099437546429,
          0.6933036188050514,
          0.7064629099013053,
          0.721850790618699,
          0.738512151119601,
          0.7545367717287488,
          0.779581874137748,
          0.805369839753794,
          0.8292475856945771,
          0.8482436591319112,
          0.8704234320280165,
          0.894937917860554,
          0.9314443383211292,
          0.9650854292688104,
          0.9855672291202378,
          0.9989387668470763
         ],
         "xaxis": "x",
         "y": [
          0,
          0,
          0,
          0.00022004620970403785,
          0.0020904389921883597,
          0.00715150181538123,
          0.013752888106502366,
          0.026845637583892617,
          0.04180877984376719,
          0.05875233799097811,
          0.07800638134008142,
          0.10012102541533723,
          0.12597645505556168,
          0.15150181538123006,
          0.17548685223897018,
          0.20134228187919462,
          0.22631752668060293,
          0.2506326328528991,
          0.2749477390251953,
          0.2946418747937067,
          0.31323577951369785,
          0.3332599845967653,
          0.3519639124216085,
          0.3691275167785235,
          0.3878314446033667,
          0.4047750027505776,
          0.42457916162394105,
          0.4430630432390802,
          0.4631972714269997,
          0.4831114534052151,
          0.49840466497964575,
          0.5149081307074486,
          0.5330619430080317,
          0.552315986357135,
          0.5658488282539333,
          0.581252062933216,
          0.5939047199911982,
          0.6095280008801849,
          0.6231708658818352,
          0.6358235229398174,
          0.6501265265705798,
          0.6606887446363736,
          0.674331609638024,
          0.6875343822202663,
          0.6988667620200242,
          0.7105292111343382,
          0.721091429200132,
          0.7358345252503026,
          0.7471669050500606,
          0.7590494003740785,
          0.772802288480581,
          0.7887556386841237,
          0.8017383650566619,
          0.8115304213884916,
          0.8203322697766531,
          0.8294641874793707,
          0.8367257123996039,
          0.8433270986907251,
          0.8472879304653977,
          0.8539993398613709,
          0.860270656837936,
          0.8652216965562768,
          0.8713829904279898,
          0.8761139839366267,
          0.8809550005501156,
          0.8868962482121245,
          0.8908570799867972,
          0.8962482121245462,
          0.901419298052591,
          0.9076906150291562,
          0.9114314005941248,
          0.91825283309495,
          0.924524150071515,
          0.9285950049510397,
          0.9329959291451205,
          0.9379469688634613,
          0.942017823742986,
          0.9459786555176587,
          0.9500495103971834,
          0.9548905270106722,
          0.9577511277368247,
          0.9610518208823853,
          0.9631422598745737,
          0.96512267576191,
          0.9682033226977665,
          0.970953900319067,
          0.9738145010452195,
          0.9775552866101881,
          0.9797557487072285,
          0.9832764880624931,
          0.9854769501595335,
          0.9877874353614259,
          0.9903179667730223,
          0.9921883595555067,
          0.994168775442843,
          0.9959291451204753,
          0.9975794916932555,
          0.9986797227417757,
          0.9994498844757399,
          1
         ],
         "yaxis": "y"
        },
        {
         "hovertemplate": [
          "99",
          "98",
          "97",
          "96",
          "95",
          "94",
          "93",
          "92",
          "91",
          "90",
          "89",
          "88",
          "87",
          "86",
          "85",
          "84",
          "83",
          "82",
          "81",
          "80",
          "79",
          "78",
          "77",
          "76",
          "75",
          "74",
          "73",
          "72",
          "71",
          "70",
          "69",
          "68",
          "67",
          "66",
          "65",
          "64",
          "63",
          "62",
          "61",
          "60",
          "59",
          "58",
          "57",
          "56",
          "55",
          "54",
          "53",
          "52",
          "51",
          "50",
          "49",
          "48",
          "47",
          "46",
          "45",
          "44",
          "43",
          "42",
          "41",
          "40",
          "39",
          "38",
          "37",
          "36",
          "35",
          "34",
          "33",
          "32",
          "31",
          "30",
          "29",
          "28",
          "27",
          "26",
          "25",
          "24",
          "23",
          "22",
          "21",
          "20",
          "19",
          "18",
          "17",
          "16",
          "15",
          "14",
          "13",
          "12",
          "11",
          "10",
          "9",
          "8",
          "7",
          "6",
          "5",
          "4",
          "3",
          "2",
          "1",
          "0",
          "99",
          "98",
          "97",
          "96",
          "95",
          "94",
          "93",
          "92",
          "91",
          "90",
          "89",
          "88",
          "87",
          "86",
          "85",
          "84",
          "83",
          "82",
          "81",
          "80",
          "79",
          "78",
          "77",
          "76",
          "75",
          "74",
          "73",
          "72",
          "71",
          "70",
          "69",
          "68",
          "67",
          "66",
          "65",
          "64",
          "63",
          "62",
          "61",
          "60",
          "59",
          "58",
          "57",
          "56",
          "55",
          "54",
          "53",
          "52",
          "51",
          "50",
          "49",
          "48",
          "47",
          "46",
          "45",
          "44",
          "43",
          "42",
          "41",
          "40",
          "39",
          "38",
          "37",
          "36",
          "35",
          "34",
          "33",
          "32",
          "31",
          "30",
          "29",
          "28",
          "27",
          "26",
          "25",
          "24",
          "23",
          "22",
          "21",
          "20",
          "19",
          "18",
          "17",
          "16",
          "15",
          "14",
          "13",
          "12",
          "11",
          "10",
          "9",
          "8",
          "7",
          "6",
          "5",
          "4",
          "3",
          "2",
          "1",
          "0"
         ],
         "legendgroup": "female",
         "line": {
          "color": "#EF553B",
          "dash": "solid"
         },
         "marker": {
          "symbol": "circle"
         },
         "mode": "lines",
         "name": "female",
         "orientation": "v",
         "showlegend": true,
         "type": "scatter",
         "x": [
          0,
          0,
          0.0004959702417854929,
          0.001735895846249225,
          0.005579665220086794,
          0.00967141971481711,
          0.013639181649101054,
          0.017854928704277743,
          0.023310601363918163,
          0.028022318660880348,
          0.03236205827650341,
          0.03732176069435834,
          0.04054556726596404,
          0.04587724736515809,
          0.05071295722256665,
          0.05542467451952883,
          0.06038437693738376,
          0.06534407935523869,
          0.07253564786112833,
          0.08022318660880347,
          0.08828270303781773,
          0.09423434593924365,
          0.10055796652200868,
          0.10551766893986361,
          0.11320520768753875,
          0.11940483570985741,
          0.12585244885306882,
          0.1346559206447613,
          0.13998760074395536,
          0.14866707997520148,
          0.15623062616243025,
          0.1652820830750155,
          0.17532548047117172,
          0.18636081835089893,
          0.1986360818350899,
          0.2055796652200868,
          0.21339119652820832,
          0.22008679479231247,
          0.22678239305641662,
          0.23446993180409176,
          0.23967761934283943,
          0.24711717296962182,
          0.2531928084314941,
          0.2596404215747055,
          0.2676999380037198,
          0.27464352138871667,
          0.2831990080595164,
          0.2897706137631742,
          0.29733415995040297,
          0.3072535647861128,
          0.3151890886546807,
          0.32386856788592683,
          0.3361438313701178,
          0.3463112213267204,
          0.3572225666460012,
          0.3670179789212647,
          0.37805331680099197,
          0.39194048357098576,
          0.40632362058276505,
          0.4221946683199008,
          0.4416615003099814,
          0.4570365778053317,
          0.4726596404215747,
          0.48815871047737136,
          0.5019218846869188,
          0.5184128952262864,
          0.5326720396776193,
          0.5486670799752015,
          0.5636701797892126,
          0.575077495350279,
          0.5857408555486671,
          0.5955362678239305,
          0.6075635461872287,
          0.6208307501549907,
          0.6328580285182889,
          0.646869187848729,
          0.6607563546187228,
          0.673775573465592,
          0.6886546807191568,
          0.7068815871047737,
          0.723620582765034,
          0.7381277123372597,
          0.7539987600743956,
          0.7696218226906386,
          0.7858648481091135,
          0.8032238065716057,
          0.8199628022318661,
          0.8348419094854309,
          0.8478611283323001,
          0.8634841909485431,
          0.8839429634221947,
          0.9061376317420955,
          0.9264724116553007,
          0.9479231246125233,
          0.965778053316801,
          0.9768133911965282,
          0.9867327960322381,
          0.9954122752634842,
          0.9991320520768754,
          1
         ],
         "xaxis": "x",
         "y": [
          0,
          0.00007964319847085059,
          0.004380375915896783,
          0.02261866836572157,
          0.05216629499840714,
          0.08728894552405225,
          0.13053520229372412,
          0.1687639375597324,
          0.2042051608792609,
          0.23789423383243072,
          0.267601146862058,
          0.2972284166932144,
          0.32374960178400763,
          0.3541733035998726,
          0.3811723478814909,
          0.40530423701815865,
          0.43333864287989804,
          0.45818732080280344,
          0.47929276839757884,
          0.5002389295954126,
          0.5187957948391207,
          0.5371933736858873,
          0.5566263141127747,
          0.5721567378145906,
          0.591669321439949,
          0.6069608155463524,
          0.6223319528512266,
          0.6396941701178719,
          0.6549856642242753,
          0.6704364447276202,
          0.686046511627907,
          0.7010194329404269,
          0.7152755654667091,
          0.7269034724434533,
          0.737257088244664,
          0.7464956992672825,
          0.7544600191143677,
          0.7640172029308697,
          0.772379738770309,
          0.779866199426569,
          0.787830519273654,
          0.7948391207390889,
          0.801688435807582,
          0.8090156100669003,
          0.8153074227460975,
          0.8211213762344696,
          0.8265371137304874,
          0.8333067856005097,
          0.839041095890411,
          0.8455718381650207,
          0.8520229372411596,
          0.8599076138897738,
          0.8663587129659127,
          0.8716948072634597,
          0.8783848359350112,
          0.8850748646065626,
          0.8913666772857598,
          0.8962249123924817,
          0.9022777954762663,
          0.9071360305829882,
          0.9116756928958267,
          0.9155782096208984,
          0.9190028671551449,
          0.9226664542848041,
          0.9264893278114049,
          0.9308697037273017,
          0.9335775724753106,
          0.9365243708187321,
          0.9393118827652118,
          0.9421790379101624,
          0.9455240522459382,
          0.9482319209939472,
          0.9510194329404269,
          0.9544440904746735,
          0.9571519592226824,
          0.9596208983752788,
          0.9624084103217585,
          0.9651162790697675,
          0.9674259318254221,
          0.970691302962727,
          0.9727620261229691,
          0.974912392481682,
          0.9766645428480408,
          0.9788149092067537,
          0.9807263459700541,
          0.9823988531379421,
          0.9847881490920676,
          0.9864606562599554,
          0.9886110226186684,
          0.9910003185727939,
          0.9925135393437401,
          0.9938674737177445,
          0.9954603376871615,
          0.9966549856642243,
          0.9980089200382287,
          0.9988849952214081,
          0.9996017840076458,
          0.9996814272061166,
          1,
          1
         ],
         "yaxis": "y"
        }
       ],
       "layout": {
        "legend": {
         "title": {
          "text": "group"
         },
         "tracegroupgap": 0
        },
        "template": {
         "data": {
          "bar": [
           {
            "error_x": {
             "color": "#2a3f5f"
            },
            "error_y": {
             "color": "#2a3f5f"
            },
            "marker": {
             "line": {
              "color": "#E5ECF6",
              "width": 0.5
             },
             "pattern": {
              "fillmode": "overlay",
              "size": 10,
              "solidity": 0.2
             }
            },
            "type": "bar"
           }
          ],
          "barpolar": [
           {
            "marker": {
             "line": {
              "color": "#E5ECF6",
              "width": 0.5
             },
             "pattern": {
              "fillmode": "overlay",
              "size": 10,
              "solidity": 0.2
             }
            },
            "type": "barpolar"
           }
          ],
          "carpet": [
           {
            "aaxis": {
             "endlinecolor": "#2a3f5f",
             "gridcolor": "white",
             "linecolor": "white",
             "minorgridcolor": "white",
             "startlinecolor": "#2a3f5f"
            },
            "baxis": {
             "endlinecolor": "#2a3f5f",
             "gridcolor": "white",
             "linecolor": "white",
             "minorgridcolor": "white",
             "startlinecolor": "#2a3f5f"
            },
            "type": "carpet"
           }
          ],
          "choropleth": [
           {
            "colorbar": {
             "outlinewidth": 0,
             "ticks": ""
            },
            "type": "choropleth"
           }
          ],
          "contour": [
           {
            "colorbar": {
             "outlinewidth": 0,
             "ticks": ""
            },
            "colorscale": [
             [
              0,
              "#0d0887"
             ],
             [
              0.1111111111111111,
              "#46039f"
             ],
             [
              0.2222222222222222,
              "#7201a8"
             ],
             [
              0.3333333333333333,
              "#9c179e"
             ],
             [
              0.4444444444444444,
              "#bd3786"
             ],
             [
              0.5555555555555556,
              "#d8576b"
             ],
             [
              0.6666666666666666,
              "#ed7953"
             ],
             [
              0.7777777777777778,
              "#fb9f3a"
             ],
             [
              0.8888888888888888,
              "#fdca26"
             ],
             [
              1,
              "#f0f921"
             ]
            ],
            "type": "contour"
           }
          ],
          "contourcarpet": [
           {
            "colorbar": {
             "outlinewidth": 0,
             "ticks": ""
            },
            "type": "contourcarpet"
           }
          ],
          "heatmap": [
           {
            "colorbar": {
             "outlinewidth": 0,
             "ticks": ""
            },
            "colorscale": [
             [
              0,
              "#0d0887"
             ],
             [
              0.1111111111111111,
              "#46039f"
             ],
             [
              0.2222222222222222,
              "#7201a8"
             ],
             [
              0.3333333333333333,
              "#9c179e"
             ],
             [
              0.4444444444444444,
              "#bd3786"
             ],
             [
              0.5555555555555556,
              "#d8576b"
             ],
             [
              0.6666666666666666,
              "#ed7953"
             ],
             [
              0.7777777777777778,
              "#fb9f3a"
             ],
             [
              0.8888888888888888,
              "#fdca26"
             ],
             [
              1,
              "#f0f921"
             ]
            ],
            "type": "heatmap"
           }
          ],
          "heatmapgl": [
           {
            "colorbar": {
             "outlinewidth": 0,
             "ticks": ""
            },
            "colorscale": [
             [
              0,
              "#0d0887"
             ],
             [
              0.1111111111111111,
              "#46039f"
             ],
             [
              0.2222222222222222,
              "#7201a8"
             ],
             [
              0.3333333333333333,
              "#9c179e"
             ],
             [
              0.4444444444444444,
              "#bd3786"
             ],
             [
              0.5555555555555556,
              "#d8576b"
             ],
             [
              0.6666666666666666,
              "#ed7953"
             ],
             [
              0.7777777777777778,
              "#fb9f3a"
             ],
             [
              0.8888888888888888,
              "#fdca26"
             ],
             [
              1,
              "#f0f921"
             ]
            ],
            "type": "heatmapgl"
           }
          ],
          "histogram": [
           {
            "marker": {
             "pattern": {
              "fillmode": "overlay",
              "size": 10,
              "solidity": 0.2
             }
            },
            "type": "histogram"
           }
          ],
          "histogram2d": [
           {
            "colorbar": {
             "outlinewidth": 0,
             "ticks": ""
            },
            "colorscale": [
             [
              0,
              "#0d0887"
             ],
             [
              0.1111111111111111,
              "#46039f"
             ],
             [
              0.2222222222222222,
              "#7201a8"
             ],
             [
              0.3333333333333333,
              "#9c179e"
             ],
             [
              0.4444444444444444,
              "#bd3786"
             ],
             [
              0.5555555555555556,
              "#d8576b"
             ],
             [
              0.6666666666666666,
              "#ed7953"
             ],
             [
              0.7777777777777778,
              "#fb9f3a"
             ],
             [
              0.8888888888888888,
              "#fdca26"
             ],
             [
              1,
              "#f0f921"
             ]
            ],
            "type": "histogram2d"
           }
          ],
          "histogram2dcontour": [
           {
            "colorbar": {
             "outlinewidth": 0,
             "ticks": ""
            },
            "colorscale": [
             [
              0,
              "#0d0887"
             ],
             [
              0.1111111111111111,
              "#46039f"
             ],
             [
              0.2222222222222222,
              "#7201a8"
             ],
             [
              0.3333333333333333,
              "#9c179e"
             ],
             [
              0.4444444444444444,
              "#bd3786"
             ],
             [
              0.5555555555555556,
              "#d8576b"
             ],
             [
              0.6666666666666666,
              "#ed7953"
             ],
             [
              0.7777777777777778,
              "#fb9f3a"
             ],
             [
              0.8888888888888888,
              "#fdca26"
             ],
             [
              1,
              "#f0f921"
             ]
            ],
            "type": "histogram2dcontour"
           }
          ],
          "mesh3d": [
           {
            "colorbar": {
             "outlinewidth": 0,
             "ticks": ""
            },
            "type": "mesh3d"
           }
          ],
          "parcoords": [
           {
            "line": {
             "colorbar": {
              "outlinewidth": 0,
              "ticks": ""
             }
            },
            "type": "parcoords"
           }
          ],
          "pie": [
           {
            "automargin": true,
            "type": "pie"
           }
          ],
          "scatter": [
           {
            "fillpattern": {
             "fillmode": "overlay",
             "size": 10,
             "solidity": 0.2
            },
            "type": "scatter"
           }
          ],
          "scatter3d": [
           {
            "line": {
             "colorbar": {
              "outlinewidth": 0,
              "ticks": ""
             }
            },
            "marker": {
             "colorbar": {
              "outlinewidth": 0,
              "ticks": ""
             }
            },
            "type": "scatter3d"
           }
          ],
          "scattercarpet": [
           {
            "marker": {
             "colorbar": {
              "outlinewidth": 0,
              "ticks": ""
             }
            },
            "type": "scattercarpet"
           }
          ],
          "scattergeo": [
           {
            "marker": {
             "colorbar": {
              "outlinewidth": 0,
              "ticks": ""
             }
            },
            "type": "scattergeo"
           }
          ],
          "scattergl": [
           {
            "marker": {
             "colorbar": {
              "outlinewidth": 0,
              "ticks": ""
             }
            },
            "type": "scattergl"
           }
          ],
          "scattermapbox": [
           {
            "marker": {
             "colorbar": {
              "outlinewidth": 0,
              "ticks": ""
             }
            },
            "type": "scattermapbox"
           }
          ],
          "scatterpolar": [
           {
            "marker": {
             "colorbar": {
              "outlinewidth": 0,
              "ticks": ""
             }
            },
            "type": "scatterpolar"
           }
          ],
          "scatterpolargl": [
           {
            "marker": {
             "colorbar": {
              "outlinewidth": 0,
              "ticks": ""
             }
            },
            "type": "scatterpolargl"
           }
          ],
          "scatterternary": [
           {
            "marker": {
             "colorbar": {
              "outlinewidth": 0,
              "ticks": ""
             }
            },
            "type": "scatterternary"
           }
          ],
          "surface": [
           {
            "colorbar": {
             "outlinewidth": 0,
             "ticks": ""
            },
            "colorscale": [
             [
              0,
              "#0d0887"
             ],
             [
              0.1111111111111111,
              "#46039f"
             ],
             [
              0.2222222222222222,
              "#7201a8"
             ],
             [
              0.3333333333333333,
              "#9c179e"
             ],
             [
              0.4444444444444444,
              "#bd3786"
             ],
             [
              0.5555555555555556,
              "#d8576b"
             ],
             [
              0.6666666666666666,
              "#ed7953"
             ],
             [
              0.7777777777777778,
              "#fb9f3a"
             ],
             [
              0.8888888888888888,
              "#fdca26"
             ],
             [
              1,
              "#f0f921"
             ]
            ],
            "type": "surface"
           }
          ],
          "table": [
           {
            "cells": {
             "fill": {
              "color": "#EBF0F8"
             },
             "line": {
              "color": "white"
             }
            },
            "header": {
             "fill": {
              "color": "#C8D4E3"
             },
             "line": {
              "color": "white"
             }
            },
            "type": "table"
           }
          ]
         },
         "layout": {
          "annotationdefaults": {
           "arrowcolor": "#2a3f5f",
           "arrowhead": 0,
           "arrowwidth": 1
          },
          "autotypenumbers": "strict",
          "coloraxis": {
           "colorbar": {
            "outlinewidth": 0,
            "ticks": ""
           }
          },
          "colorscale": {
           "diverging": [
            [
             0,
             "#8e0152"
            ],
            [
             0.1,
             "#c51b7d"
            ],
            [
             0.2,
             "#de77ae"
            ],
            [
             0.3,
             "#f1b6da"
            ],
            [
             0.4,
             "#fde0ef"
            ],
            [
             0.5,
             "#f7f7f7"
            ],
            [
             0.6,
             "#e6f5d0"
            ],
            [
             0.7,
             "#b8e186"
            ],
            [
             0.8,
             "#7fbc41"
            ],
            [
             0.9,
             "#4d9221"
            ],
            [
             1,
             "#276419"
            ]
           ],
           "sequential": [
            [
             0,
             "#0d0887"
            ],
            [
             0.1111111111111111,
             "#46039f"
            ],
            [
             0.2222222222222222,
             "#7201a8"
            ],
            [
             0.3333333333333333,
             "#9c179e"
            ],
            [
             0.4444444444444444,
             "#bd3786"
            ],
            [
             0.5555555555555556,
             "#d8576b"
            ],
            [
             0.6666666666666666,
             "#ed7953"
            ],
            [
             0.7777777777777778,
             "#fb9f3a"
            ],
            [
             0.8888888888888888,
             "#fdca26"
            ],
            [
             1,
             "#f0f921"
            ]
           ],
           "sequentialminus": [
            [
             0,
             "#0d0887"
            ],
            [
             0.1111111111111111,
             "#46039f"
            ],
            [
             0.2222222222222222,
             "#7201a8"
            ],
            [
             0.3333333333333333,
             "#9c179e"
            ],
            [
             0.4444444444444444,
             "#bd3786"
            ],
            [
             0.5555555555555556,
             "#d8576b"
            ],
            [
             0.6666666666666666,
             "#ed7953"
            ],
            [
             0.7777777777777778,
             "#fb9f3a"
            ],
            [
             0.8888888888888888,
             "#fdca26"
            ],
            [
             1,
             "#f0f921"
            ]
           ]
          },
          "colorway": [
           "#636efa",
           "#EF553B",
           "#00cc96",
           "#ab63fa",
           "#FFA15A",
           "#19d3f3",
           "#FF6692",
           "#B6E880",
           "#FF97FF",
           "#FECB52"
          ],
          "font": {
           "color": "#2a3f5f"
          },
          "geo": {
           "bgcolor": "white",
           "lakecolor": "white",
           "landcolor": "#E5ECF6",
           "showlakes": true,
           "showland": true,
           "subunitcolor": "white"
          },
          "hoverlabel": {
           "align": "left"
          },
          "hovermode": "closest",
          "mapbox": {
           "style": "light"
          },
          "paper_bgcolor": "white",
          "plot_bgcolor": "#E5ECF6",
          "polar": {
           "angularaxis": {
            "gridcolor": "white",
            "linecolor": "white",
            "ticks": ""
           },
           "bgcolor": "#E5ECF6",
           "radialaxis": {
            "gridcolor": "white",
            "linecolor": "white",
            "ticks": ""
           }
          },
          "scene": {
           "xaxis": {
            "backgroundcolor": "#E5ECF6",
            "gridcolor": "white",
            "gridwidth": 2,
            "linecolor": "white",
            "showbackground": true,
            "ticks": "",
            "zerolinecolor": "white"
           },
           "yaxis": {
            "backgroundcolor": "#E5ECF6",
            "gridcolor": "white",
            "gridwidth": 2,
            "linecolor": "white",
            "showbackground": true,
            "ticks": "",
            "zerolinecolor": "white"
           },
           "zaxis": {
            "backgroundcolor": "#E5ECF6",
            "gridcolor": "white",
            "gridwidth": 2,
            "linecolor": "white",
            "showbackground": true,
            "ticks": "",
            "zerolinecolor": "white"
           }
          },
          "shapedefaults": {
           "line": {
            "color": "#2a3f5f"
           }
          },
          "ternary": {
           "aaxis": {
            "gridcolor": "white",
            "linecolor": "white",
            "ticks": ""
           },
           "baxis": {
            "gridcolor": "white",
            "linecolor": "white",
            "ticks": ""
           },
           "bgcolor": "#E5ECF6",
           "caxis": {
            "gridcolor": "white",
            "linecolor": "white",
            "ticks": ""
           }
          },
          "title": {
           "x": 0.05
          },
          "xaxis": {
           "automargin": true,
           "gridcolor": "white",
           "linecolor": "white",
           "ticks": "",
           "title": {
            "standoff": 15
           },
           "zerolinecolor": "white",
           "zerolinewidth": 2
          },
          "yaxis": {
           "automargin": true,
           "gridcolor": "white",
           "linecolor": "white",
           "ticks": "",
           "title": {
            "standoff": 15
           },
           "zerolinecolor": "white",
           "zerolinewidth": 2
          }
         }
        },
        "title": {
         "text": "ROC"
        },
        "xaxis": {
         "anchor": "y",
         "domain": [
          0,
          1
         ],
         "title": {
          "text": "fpr"
         }
        },
        "yaxis": {
         "anchor": "x",
         "domain": [
          0,
          1
         ],
         "title": {
          "text": "tpr"
         }
        }
       }
      }
     },
     "metadata": {},
     "output_type": "display_data"
    }
   ],
   "source": [
    "fig = px.line(all_df, x='fpr', y='tpr', color='group', title=\"ROC\")\n",
    "thresholds = all_df['thr'].tolist()\n",
    "fig.update_traces(hovertemplate=thresholds)\n",
    "fig.show()"
   ]
  },
  {
   "cell_type": "code",
   "execution_count": 72,
   "metadata": {},
   "outputs": [
    {
     "name": "stdout",
     "output_type": "stream",
     "text": [
      "thr 0.28 male, 0.37 female\n",
      "accuracy after intervention: 0.7407047760202387\n",
      "accuracy before intervention: 0.7696573224644162\n"
     ]
    }
   ],
   "source": [
    "print(\"thr 0.28 male, 0.37 female\")\n",
    "y_pred_male = (logreg_model.predict_proba(X_test_male)[:,1] >= 0.28).astype(bool)\n",
    "y_pred_female = (logreg_model.predict_proba(X_test_female)[:,1] >= 0.37).astype(bool)\n",
    "print(\"accuracy after intervention:\", accuracy_score(np.concatenate([y_test_male,y_test_female]), np.concatenate([y_pred_male,y_pred_female])))\n",
    "\n",
    "y_pred_logreg = logreg_model.predict(X_test)\n",
    "print(\"accuracy before intervention:\", accuracy_score(y_test, y_pred_logreg))"
   ]
  },
  {
   "attachments": {},
   "cell_type": "markdown",
   "metadata": {},
   "source": [
    "### black-box model"
   ]
  },
  {
   "cell_type": "code",
   "execution_count": 73,
   "metadata": {},
   "outputs": [
    {
     "name": "stderr",
     "output_type": "stream",
     "text": [
      "/var/folders/bv/mvwnb3fd1rdbr345qwm8mqb40000gn/T/ipykernel_38506/3695842546.py:17: FutureWarning:\n",
      "\n",
      "The frame.append method is deprecated and will be removed from pandas in a future version. Use pandas.concat instead.\n",
      "\n",
      "/var/folders/bv/mvwnb3fd1rdbr345qwm8mqb40000gn/T/ipykernel_38506/3695842546.py:21: FutureWarning:\n",
      "\n",
      "The frame.append method is deprecated and will be removed from pandas in a future version. Use pandas.concat instead.\n",
      "\n",
      "/var/folders/bv/mvwnb3fd1rdbr345qwm8mqb40000gn/T/ipykernel_38506/3695842546.py:17: FutureWarning:\n",
      "\n",
      "The frame.append method is deprecated and will be removed from pandas in a future version. Use pandas.concat instead.\n",
      "\n",
      "/var/folders/bv/mvwnb3fd1rdbr345qwm8mqb40000gn/T/ipykernel_38506/3695842546.py:21: FutureWarning:\n",
      "\n",
      "The frame.append method is deprecated and will be removed from pandas in a future version. Use pandas.concat instead.\n",
      "\n",
      "/var/folders/bv/mvwnb3fd1rdbr345qwm8mqb40000gn/T/ipykernel_38506/3695842546.py:17: FutureWarning:\n",
      "\n",
      "The frame.append method is deprecated and will be removed from pandas in a future version. Use pandas.concat instead.\n",
      "\n",
      "/var/folders/bv/mvwnb3fd1rdbr345qwm8mqb40000gn/T/ipykernel_38506/3695842546.py:21: FutureWarning:\n",
      "\n",
      "The frame.append method is deprecated and will be removed from pandas in a future version. Use pandas.concat instead.\n",
      "\n",
      "/var/folders/bv/mvwnb3fd1rdbr345qwm8mqb40000gn/T/ipykernel_38506/3695842546.py:17: FutureWarning:\n",
      "\n",
      "The frame.append method is deprecated and will be removed from pandas in a future version. Use pandas.concat instead.\n",
      "\n",
      "/var/folders/bv/mvwnb3fd1rdbr345qwm8mqb40000gn/T/ipykernel_38506/3695842546.py:21: FutureWarning:\n",
      "\n",
      "The frame.append method is deprecated and will be removed from pandas in a future version. Use pandas.concat instead.\n",
      "\n",
      "/var/folders/bv/mvwnb3fd1rdbr345qwm8mqb40000gn/T/ipykernel_38506/3695842546.py:17: FutureWarning:\n",
      "\n",
      "The frame.append method is deprecated and will be removed from pandas in a future version. Use pandas.concat instead.\n",
      "\n",
      "/var/folders/bv/mvwnb3fd1rdbr345qwm8mqb40000gn/T/ipykernel_38506/3695842546.py:21: FutureWarning:\n",
      "\n",
      "The frame.append method is deprecated and will be removed from pandas in a future version. Use pandas.concat instead.\n",
      "\n",
      "/var/folders/bv/mvwnb3fd1rdbr345qwm8mqb40000gn/T/ipykernel_38506/3695842546.py:17: FutureWarning:\n",
      "\n",
      "The frame.append method is deprecated and will be removed from pandas in a future version. Use pandas.concat instead.\n",
      "\n",
      "/var/folders/bv/mvwnb3fd1rdbr345qwm8mqb40000gn/T/ipykernel_38506/3695842546.py:21: FutureWarning:\n",
      "\n",
      "The frame.append method is deprecated and will be removed from pandas in a future version. Use pandas.concat instead.\n",
      "\n",
      "/var/folders/bv/mvwnb3fd1rdbr345qwm8mqb40000gn/T/ipykernel_38506/3695842546.py:17: FutureWarning:\n",
      "\n",
      "The frame.append method is deprecated and will be removed from pandas in a future version. Use pandas.concat instead.\n",
      "\n",
      "/var/folders/bv/mvwnb3fd1rdbr345qwm8mqb40000gn/T/ipykernel_38506/3695842546.py:21: FutureWarning:\n",
      "\n",
      "The frame.append method is deprecated and will be removed from pandas in a future version. Use pandas.concat instead.\n",
      "\n",
      "/var/folders/bv/mvwnb3fd1rdbr345qwm8mqb40000gn/T/ipykernel_38506/3695842546.py:17: FutureWarning:\n",
      "\n",
      "The frame.append method is deprecated and will be removed from pandas in a future version. Use pandas.concat instead.\n",
      "\n",
      "/var/folders/bv/mvwnb3fd1rdbr345qwm8mqb40000gn/T/ipykernel_38506/3695842546.py:21: FutureWarning:\n",
      "\n",
      "The frame.append method is deprecated and will be removed from pandas in a future version. Use pandas.concat instead.\n",
      "\n",
      "/var/folders/bv/mvwnb3fd1rdbr345qwm8mqb40000gn/T/ipykernel_38506/3695842546.py:17: FutureWarning:\n",
      "\n",
      "The frame.append method is deprecated and will be removed from pandas in a future version. Use pandas.concat instead.\n",
      "\n",
      "/var/folders/bv/mvwnb3fd1rdbr345qwm8mqb40000gn/T/ipykernel_38506/3695842546.py:21: FutureWarning:\n",
      "\n",
      "The frame.append method is deprecated and will be removed from pandas in a future version. Use pandas.concat instead.\n",
      "\n",
      "/var/folders/bv/mvwnb3fd1rdbr345qwm8mqb40000gn/T/ipykernel_38506/3695842546.py:17: FutureWarning:\n",
      "\n",
      "The frame.append method is deprecated and will be removed from pandas in a future version. Use pandas.concat instead.\n",
      "\n",
      "/var/folders/bv/mvwnb3fd1rdbr345qwm8mqb40000gn/T/ipykernel_38506/3695842546.py:21: FutureWarning:\n",
      "\n",
      "The frame.append method is deprecated and will be removed from pandas in a future version. Use pandas.concat instead.\n",
      "\n",
      "/var/folders/bv/mvwnb3fd1rdbr345qwm8mqb40000gn/T/ipykernel_38506/3695842546.py:17: FutureWarning:\n",
      "\n",
      "The frame.append method is deprecated and will be removed from pandas in a future version. Use pandas.concat instead.\n",
      "\n",
      "/var/folders/bv/mvwnb3fd1rdbr345qwm8mqb40000gn/T/ipykernel_38506/3695842546.py:21: FutureWarning:\n",
      "\n",
      "The frame.append method is deprecated and will be removed from pandas in a future version. Use pandas.concat instead.\n",
      "\n",
      "/var/folders/bv/mvwnb3fd1rdbr345qwm8mqb40000gn/T/ipykernel_38506/3695842546.py:17: FutureWarning:\n",
      "\n",
      "The frame.append method is deprecated and will be removed from pandas in a future version. Use pandas.concat instead.\n",
      "\n",
      "/var/folders/bv/mvwnb3fd1rdbr345qwm8mqb40000gn/T/ipykernel_38506/3695842546.py:21: FutureWarning:\n",
      "\n",
      "The frame.append method is deprecated and will be removed from pandas in a future version. Use pandas.concat instead.\n",
      "\n",
      "/var/folders/bv/mvwnb3fd1rdbr345qwm8mqb40000gn/T/ipykernel_38506/3695842546.py:17: FutureWarning:\n",
      "\n",
      "The frame.append method is deprecated and will be removed from pandas in a future version. Use pandas.concat instead.\n",
      "\n",
      "/var/folders/bv/mvwnb3fd1rdbr345qwm8mqb40000gn/T/ipykernel_38506/3695842546.py:21: FutureWarning:\n",
      "\n",
      "The frame.append method is deprecated and will be removed from pandas in a future version. Use pandas.concat instead.\n",
      "\n",
      "/var/folders/bv/mvwnb3fd1rdbr345qwm8mqb40000gn/T/ipykernel_38506/3695842546.py:17: FutureWarning:\n",
      "\n",
      "The frame.append method is deprecated and will be removed from pandas in a future version. Use pandas.concat instead.\n",
      "\n",
      "/var/folders/bv/mvwnb3fd1rdbr345qwm8mqb40000gn/T/ipykernel_38506/3695842546.py:21: FutureWarning:\n",
      "\n",
      "The frame.append method is deprecated and will be removed from pandas in a future version. Use pandas.concat instead.\n",
      "\n",
      "/var/folders/bv/mvwnb3fd1rdbr345qwm8mqb40000gn/T/ipykernel_38506/3695842546.py:17: FutureWarning:\n",
      "\n",
      "The frame.append method is deprecated and will be removed from pandas in a future version. Use pandas.concat instead.\n",
      "\n",
      "/var/folders/bv/mvwnb3fd1rdbr345qwm8mqb40000gn/T/ipykernel_38506/3695842546.py:21: FutureWarning:\n",
      "\n",
      "The frame.append method is deprecated and will be removed from pandas in a future version. Use pandas.concat instead.\n",
      "\n",
      "/var/folders/bv/mvwnb3fd1rdbr345qwm8mqb40000gn/T/ipykernel_38506/3695842546.py:17: FutureWarning:\n",
      "\n",
      "The frame.append method is deprecated and will be removed from pandas in a future version. Use pandas.concat instead.\n",
      "\n",
      "/var/folders/bv/mvwnb3fd1rdbr345qwm8mqb40000gn/T/ipykernel_38506/3695842546.py:21: FutureWarning:\n",
      "\n",
      "The frame.append method is deprecated and will be removed from pandas in a future version. Use pandas.concat instead.\n",
      "\n",
      "/var/folders/bv/mvwnb3fd1rdbr345qwm8mqb40000gn/T/ipykernel_38506/3695842546.py:17: FutureWarning:\n",
      "\n",
      "The frame.append method is deprecated and will be removed from pandas in a future version. Use pandas.concat instead.\n",
      "\n",
      "/var/folders/bv/mvwnb3fd1rdbr345qwm8mqb40000gn/T/ipykernel_38506/3695842546.py:21: FutureWarning:\n",
      "\n",
      "The frame.append method is deprecated and will be removed from pandas in a future version. Use pandas.concat instead.\n",
      "\n",
      "/var/folders/bv/mvwnb3fd1rdbr345qwm8mqb40000gn/T/ipykernel_38506/3695842546.py:17: FutureWarning:\n",
      "\n",
      "The frame.append method is deprecated and will be removed from pandas in a future version. Use pandas.concat instead.\n",
      "\n",
      "/var/folders/bv/mvwnb3fd1rdbr345qwm8mqb40000gn/T/ipykernel_38506/3695842546.py:21: FutureWarning:\n",
      "\n",
      "The frame.append method is deprecated and will be removed from pandas in a future version. Use pandas.concat instead.\n",
      "\n",
      "/var/folders/bv/mvwnb3fd1rdbr345qwm8mqb40000gn/T/ipykernel_38506/3695842546.py:17: FutureWarning:\n",
      "\n",
      "The frame.append method is deprecated and will be removed from pandas in a future version. Use pandas.concat instead.\n",
      "\n",
      "/var/folders/bv/mvwnb3fd1rdbr345qwm8mqb40000gn/T/ipykernel_38506/3695842546.py:21: FutureWarning:\n",
      "\n",
      "The frame.append method is deprecated and will be removed from pandas in a future version. Use pandas.concat instead.\n",
      "\n",
      "/var/folders/bv/mvwnb3fd1rdbr345qwm8mqb40000gn/T/ipykernel_38506/3695842546.py:17: FutureWarning:\n",
      "\n",
      "The frame.append method is deprecated and will be removed from pandas in a future version. Use pandas.concat instead.\n",
      "\n",
      "/var/folders/bv/mvwnb3fd1rdbr345qwm8mqb40000gn/T/ipykernel_38506/3695842546.py:21: FutureWarning:\n",
      "\n",
      "The frame.append method is deprecated and will be removed from pandas in a future version. Use pandas.concat instead.\n",
      "\n",
      "/var/folders/bv/mvwnb3fd1rdbr345qwm8mqb40000gn/T/ipykernel_38506/3695842546.py:17: FutureWarning:\n",
      "\n",
      "The frame.append method is deprecated and will be removed from pandas in a future version. Use pandas.concat instead.\n",
      "\n",
      "/var/folders/bv/mvwnb3fd1rdbr345qwm8mqb40000gn/T/ipykernel_38506/3695842546.py:21: FutureWarning:\n",
      "\n",
      "The frame.append method is deprecated and will be removed from pandas in a future version. Use pandas.concat instead.\n",
      "\n",
      "/var/folders/bv/mvwnb3fd1rdbr345qwm8mqb40000gn/T/ipykernel_38506/3695842546.py:17: FutureWarning:\n",
      "\n",
      "The frame.append method is deprecated and will be removed from pandas in a future version. Use pandas.concat instead.\n",
      "\n",
      "/var/folders/bv/mvwnb3fd1rdbr345qwm8mqb40000gn/T/ipykernel_38506/3695842546.py:21: FutureWarning:\n",
      "\n",
      "The frame.append method is deprecated and will be removed from pandas in a future version. Use pandas.concat instead.\n",
      "\n",
      "/var/folders/bv/mvwnb3fd1rdbr345qwm8mqb40000gn/T/ipykernel_38506/3695842546.py:17: FutureWarning:\n",
      "\n",
      "The frame.append method is deprecated and will be removed from pandas in a future version. Use pandas.concat instead.\n",
      "\n",
      "/var/folders/bv/mvwnb3fd1rdbr345qwm8mqb40000gn/T/ipykernel_38506/3695842546.py:21: FutureWarning:\n",
      "\n",
      "The frame.append method is deprecated and will be removed from pandas in a future version. Use pandas.concat instead.\n",
      "\n",
      "/var/folders/bv/mvwnb3fd1rdbr345qwm8mqb40000gn/T/ipykernel_38506/3695842546.py:17: FutureWarning:\n",
      "\n",
      "The frame.append method is deprecated and will be removed from pandas in a future version. Use pandas.concat instead.\n",
      "\n",
      "/var/folders/bv/mvwnb3fd1rdbr345qwm8mqb40000gn/T/ipykernel_38506/3695842546.py:21: FutureWarning:\n",
      "\n",
      "The frame.append method is deprecated and will be removed from pandas in a future version. Use pandas.concat instead.\n",
      "\n",
      "/var/folders/bv/mvwnb3fd1rdbr345qwm8mqb40000gn/T/ipykernel_38506/3695842546.py:17: FutureWarning:\n",
      "\n",
      "The frame.append method is deprecated and will be removed from pandas in a future version. Use pandas.concat instead.\n",
      "\n",
      "/var/folders/bv/mvwnb3fd1rdbr345qwm8mqb40000gn/T/ipykernel_38506/3695842546.py:21: FutureWarning:\n",
      "\n",
      "The frame.append method is deprecated and will be removed from pandas in a future version. Use pandas.concat instead.\n",
      "\n",
      "/var/folders/bv/mvwnb3fd1rdbr345qwm8mqb40000gn/T/ipykernel_38506/3695842546.py:17: FutureWarning:\n",
      "\n",
      "The frame.append method is deprecated and will be removed from pandas in a future version. Use pandas.concat instead.\n",
      "\n",
      "/var/folders/bv/mvwnb3fd1rdbr345qwm8mqb40000gn/T/ipykernel_38506/3695842546.py:21: FutureWarning:\n",
      "\n",
      "The frame.append method is deprecated and will be removed from pandas in a future version. Use pandas.concat instead.\n",
      "\n",
      "/var/folders/bv/mvwnb3fd1rdbr345qwm8mqb40000gn/T/ipykernel_38506/3695842546.py:17: FutureWarning:\n",
      "\n",
      "The frame.append method is deprecated and will be removed from pandas in a future version. Use pandas.concat instead.\n",
      "\n",
      "/var/folders/bv/mvwnb3fd1rdbr345qwm8mqb40000gn/T/ipykernel_38506/3695842546.py:21: FutureWarning:\n",
      "\n",
      "The frame.append method is deprecated and will be removed from pandas in a future version. Use pandas.concat instead.\n",
      "\n",
      "/var/folders/bv/mvwnb3fd1rdbr345qwm8mqb40000gn/T/ipykernel_38506/3695842546.py:17: FutureWarning:\n",
      "\n",
      "The frame.append method is deprecated and will be removed from pandas in a future version. Use pandas.concat instead.\n",
      "\n",
      "/var/folders/bv/mvwnb3fd1rdbr345qwm8mqb40000gn/T/ipykernel_38506/3695842546.py:21: FutureWarning:\n",
      "\n",
      "The frame.append method is deprecated and will be removed from pandas in a future version. Use pandas.concat instead.\n",
      "\n",
      "/var/folders/bv/mvwnb3fd1rdbr345qwm8mqb40000gn/T/ipykernel_38506/3695842546.py:17: FutureWarning:\n",
      "\n",
      "The frame.append method is deprecated and will be removed from pandas in a future version. Use pandas.concat instead.\n",
      "\n",
      "/var/folders/bv/mvwnb3fd1rdbr345qwm8mqb40000gn/T/ipykernel_38506/3695842546.py:21: FutureWarning:\n",
      "\n",
      "The frame.append method is deprecated and will be removed from pandas in a future version. Use pandas.concat instead.\n",
      "\n",
      "/var/folders/bv/mvwnb3fd1rdbr345qwm8mqb40000gn/T/ipykernel_38506/3695842546.py:17: FutureWarning:\n",
      "\n",
      "The frame.append method is deprecated and will be removed from pandas in a future version. Use pandas.concat instead.\n",
      "\n",
      "/var/folders/bv/mvwnb3fd1rdbr345qwm8mqb40000gn/T/ipykernel_38506/3695842546.py:21: FutureWarning:\n",
      "\n",
      "The frame.append method is deprecated and will be removed from pandas in a future version. Use pandas.concat instead.\n",
      "\n",
      "/var/folders/bv/mvwnb3fd1rdbr345qwm8mqb40000gn/T/ipykernel_38506/3695842546.py:17: FutureWarning:\n",
      "\n",
      "The frame.append method is deprecated and will be removed from pandas in a future version. Use pandas.concat instead.\n",
      "\n",
      "/var/folders/bv/mvwnb3fd1rdbr345qwm8mqb40000gn/T/ipykernel_38506/3695842546.py:21: FutureWarning:\n",
      "\n",
      "The frame.append method is deprecated and will be removed from pandas in a future version. Use pandas.concat instead.\n",
      "\n",
      "/var/folders/bv/mvwnb3fd1rdbr345qwm8mqb40000gn/T/ipykernel_38506/3695842546.py:17: FutureWarning:\n",
      "\n",
      "The frame.append method is deprecated and will be removed from pandas in a future version. Use pandas.concat instead.\n",
      "\n",
      "/var/folders/bv/mvwnb3fd1rdbr345qwm8mqb40000gn/T/ipykernel_38506/3695842546.py:21: FutureWarning:\n",
      "\n",
      "The frame.append method is deprecated and will be removed from pandas in a future version. Use pandas.concat instead.\n",
      "\n",
      "/var/folders/bv/mvwnb3fd1rdbr345qwm8mqb40000gn/T/ipykernel_38506/3695842546.py:17: FutureWarning:\n",
      "\n",
      "The frame.append method is deprecated and will be removed from pandas in a future version. Use pandas.concat instead.\n",
      "\n",
      "/var/folders/bv/mvwnb3fd1rdbr345qwm8mqb40000gn/T/ipykernel_38506/3695842546.py:21: FutureWarning:\n",
      "\n",
      "The frame.append method is deprecated and will be removed from pandas in a future version. Use pandas.concat instead.\n",
      "\n",
      "/var/folders/bv/mvwnb3fd1rdbr345qwm8mqb40000gn/T/ipykernel_38506/3695842546.py:17: FutureWarning:\n",
      "\n",
      "The frame.append method is deprecated and will be removed from pandas in a future version. Use pandas.concat instead.\n",
      "\n",
      "/var/folders/bv/mvwnb3fd1rdbr345qwm8mqb40000gn/T/ipykernel_38506/3695842546.py:21: FutureWarning:\n",
      "\n",
      "The frame.append method is deprecated and will be removed from pandas in a future version. Use pandas.concat instead.\n",
      "\n",
      "/var/folders/bv/mvwnb3fd1rdbr345qwm8mqb40000gn/T/ipykernel_38506/3695842546.py:17: FutureWarning:\n",
      "\n",
      "The frame.append method is deprecated and will be removed from pandas in a future version. Use pandas.concat instead.\n",
      "\n",
      "/var/folders/bv/mvwnb3fd1rdbr345qwm8mqb40000gn/T/ipykernel_38506/3695842546.py:21: FutureWarning:\n",
      "\n",
      "The frame.append method is deprecated and will be removed from pandas in a future version. Use pandas.concat instead.\n",
      "\n",
      "/var/folders/bv/mvwnb3fd1rdbr345qwm8mqb40000gn/T/ipykernel_38506/3695842546.py:17: FutureWarning:\n",
      "\n",
      "The frame.append method is deprecated and will be removed from pandas in a future version. Use pandas.concat instead.\n",
      "\n",
      "/var/folders/bv/mvwnb3fd1rdbr345qwm8mqb40000gn/T/ipykernel_38506/3695842546.py:21: FutureWarning:\n",
      "\n",
      "The frame.append method is deprecated and will be removed from pandas in a future version. Use pandas.concat instead.\n",
      "\n",
      "/var/folders/bv/mvwnb3fd1rdbr345qwm8mqb40000gn/T/ipykernel_38506/3695842546.py:17: FutureWarning:\n",
      "\n",
      "The frame.append method is deprecated and will be removed from pandas in a future version. Use pandas.concat instead.\n",
      "\n",
      "/var/folders/bv/mvwnb3fd1rdbr345qwm8mqb40000gn/T/ipykernel_38506/3695842546.py:21: FutureWarning:\n",
      "\n",
      "The frame.append method is deprecated and will be removed from pandas in a future version. Use pandas.concat instead.\n",
      "\n",
      "/var/folders/bv/mvwnb3fd1rdbr345qwm8mqb40000gn/T/ipykernel_38506/3695842546.py:17: FutureWarning:\n",
      "\n",
      "The frame.append method is deprecated and will be removed from pandas in a future version. Use pandas.concat instead.\n",
      "\n",
      "/var/folders/bv/mvwnb3fd1rdbr345qwm8mqb40000gn/T/ipykernel_38506/3695842546.py:21: FutureWarning:\n",
      "\n",
      "The frame.append method is deprecated and will be removed from pandas in a future version. Use pandas.concat instead.\n",
      "\n",
      "/var/folders/bv/mvwnb3fd1rdbr345qwm8mqb40000gn/T/ipykernel_38506/3695842546.py:17: FutureWarning:\n",
      "\n",
      "The frame.append method is deprecated and will be removed from pandas in a future version. Use pandas.concat instead.\n",
      "\n",
      "/var/folders/bv/mvwnb3fd1rdbr345qwm8mqb40000gn/T/ipykernel_38506/3695842546.py:21: FutureWarning:\n",
      "\n",
      "The frame.append method is deprecated and will be removed from pandas in a future version. Use pandas.concat instead.\n",
      "\n",
      "/var/folders/bv/mvwnb3fd1rdbr345qwm8mqb40000gn/T/ipykernel_38506/3695842546.py:17: FutureWarning:\n",
      "\n",
      "The frame.append method is deprecated and will be removed from pandas in a future version. Use pandas.concat instead.\n",
      "\n",
      "/var/folders/bv/mvwnb3fd1rdbr345qwm8mqb40000gn/T/ipykernel_38506/3695842546.py:21: FutureWarning:\n",
      "\n",
      "The frame.append method is deprecated and will be removed from pandas in a future version. Use pandas.concat instead.\n",
      "\n",
      "/var/folders/bv/mvwnb3fd1rdbr345qwm8mqb40000gn/T/ipykernel_38506/3695842546.py:17: FutureWarning:\n",
      "\n",
      "The frame.append method is deprecated and will be removed from pandas in a future version. Use pandas.concat instead.\n",
      "\n",
      "/var/folders/bv/mvwnb3fd1rdbr345qwm8mqb40000gn/T/ipykernel_38506/3695842546.py:21: FutureWarning:\n",
      "\n",
      "The frame.append method is deprecated and will be removed from pandas in a future version. Use pandas.concat instead.\n",
      "\n",
      "/var/folders/bv/mvwnb3fd1rdbr345qwm8mqb40000gn/T/ipykernel_38506/3695842546.py:17: FutureWarning:\n",
      "\n",
      "The frame.append method is deprecated and will be removed from pandas in a future version. Use pandas.concat instead.\n",
      "\n",
      "/var/folders/bv/mvwnb3fd1rdbr345qwm8mqb40000gn/T/ipykernel_38506/3695842546.py:21: FutureWarning:\n",
      "\n",
      "The frame.append method is deprecated and will be removed from pandas in a future version. Use pandas.concat instead.\n",
      "\n",
      "/var/folders/bv/mvwnb3fd1rdbr345qwm8mqb40000gn/T/ipykernel_38506/3695842546.py:17: FutureWarning:\n",
      "\n",
      "The frame.append method is deprecated and will be removed from pandas in a future version. Use pandas.concat instead.\n",
      "\n",
      "/var/folders/bv/mvwnb3fd1rdbr345qwm8mqb40000gn/T/ipykernel_38506/3695842546.py:21: FutureWarning:\n",
      "\n",
      "The frame.append method is deprecated and will be removed from pandas in a future version. Use pandas.concat instead.\n",
      "\n",
      "/var/folders/bv/mvwnb3fd1rdbr345qwm8mqb40000gn/T/ipykernel_38506/3695842546.py:17: FutureWarning:\n",
      "\n",
      "The frame.append method is deprecated and will be removed from pandas in a future version. Use pandas.concat instead.\n",
      "\n",
      "/var/folders/bv/mvwnb3fd1rdbr345qwm8mqb40000gn/T/ipykernel_38506/3695842546.py:21: FutureWarning:\n",
      "\n",
      "The frame.append method is deprecated and will be removed from pandas in a future version. Use pandas.concat instead.\n",
      "\n",
      "/var/folders/bv/mvwnb3fd1rdbr345qwm8mqb40000gn/T/ipykernel_38506/3695842546.py:17: FutureWarning:\n",
      "\n",
      "The frame.append method is deprecated and will be removed from pandas in a future version. Use pandas.concat instead.\n",
      "\n",
      "/var/folders/bv/mvwnb3fd1rdbr345qwm8mqb40000gn/T/ipykernel_38506/3695842546.py:21: FutureWarning:\n",
      "\n",
      "The frame.append method is deprecated and will be removed from pandas in a future version. Use pandas.concat instead.\n",
      "\n",
      "/var/folders/bv/mvwnb3fd1rdbr345qwm8mqb40000gn/T/ipykernel_38506/3695842546.py:17: FutureWarning:\n",
      "\n",
      "The frame.append method is deprecated and will be removed from pandas in a future version. Use pandas.concat instead.\n",
      "\n",
      "/var/folders/bv/mvwnb3fd1rdbr345qwm8mqb40000gn/T/ipykernel_38506/3695842546.py:21: FutureWarning:\n",
      "\n",
      "The frame.append method is deprecated and will be removed from pandas in a future version. Use pandas.concat instead.\n",
      "\n",
      "/var/folders/bv/mvwnb3fd1rdbr345qwm8mqb40000gn/T/ipykernel_38506/3695842546.py:17: FutureWarning:\n",
      "\n",
      "The frame.append method is deprecated and will be removed from pandas in a future version. Use pandas.concat instead.\n",
      "\n",
      "/var/folders/bv/mvwnb3fd1rdbr345qwm8mqb40000gn/T/ipykernel_38506/3695842546.py:21: FutureWarning:\n",
      "\n",
      "The frame.append method is deprecated and will be removed from pandas in a future version. Use pandas.concat instead.\n",
      "\n",
      "/var/folders/bv/mvwnb3fd1rdbr345qwm8mqb40000gn/T/ipykernel_38506/3695842546.py:17: FutureWarning:\n",
      "\n",
      "The frame.append method is deprecated and will be removed from pandas in a future version. Use pandas.concat instead.\n",
      "\n",
      "/var/folders/bv/mvwnb3fd1rdbr345qwm8mqb40000gn/T/ipykernel_38506/3695842546.py:21: FutureWarning:\n",
      "\n",
      "The frame.append method is deprecated and will be removed from pandas in a future version. Use pandas.concat instead.\n",
      "\n",
      "/var/folders/bv/mvwnb3fd1rdbr345qwm8mqb40000gn/T/ipykernel_38506/3695842546.py:17: FutureWarning:\n",
      "\n",
      "The frame.append method is deprecated and will be removed from pandas in a future version. Use pandas.concat instead.\n",
      "\n",
      "/var/folders/bv/mvwnb3fd1rdbr345qwm8mqb40000gn/T/ipykernel_38506/3695842546.py:21: FutureWarning:\n",
      "\n",
      "The frame.append method is deprecated and will be removed from pandas in a future version. Use pandas.concat instead.\n",
      "\n",
      "/var/folders/bv/mvwnb3fd1rdbr345qwm8mqb40000gn/T/ipykernel_38506/3695842546.py:17: FutureWarning:\n",
      "\n",
      "The frame.append method is deprecated and will be removed from pandas in a future version. Use pandas.concat instead.\n",
      "\n",
      "/var/folders/bv/mvwnb3fd1rdbr345qwm8mqb40000gn/T/ipykernel_38506/3695842546.py:21: FutureWarning:\n",
      "\n",
      "The frame.append method is deprecated and will be removed from pandas in a future version. Use pandas.concat instead.\n",
      "\n",
      "/var/folders/bv/mvwnb3fd1rdbr345qwm8mqb40000gn/T/ipykernel_38506/3695842546.py:17: FutureWarning:\n",
      "\n",
      "The frame.append method is deprecated and will be removed from pandas in a future version. Use pandas.concat instead.\n",
      "\n",
      "/var/folders/bv/mvwnb3fd1rdbr345qwm8mqb40000gn/T/ipykernel_38506/3695842546.py:21: FutureWarning:\n",
      "\n",
      "The frame.append method is deprecated and will be removed from pandas in a future version. Use pandas.concat instead.\n",
      "\n",
      "/var/folders/bv/mvwnb3fd1rdbr345qwm8mqb40000gn/T/ipykernel_38506/3695842546.py:17: FutureWarning:\n",
      "\n",
      "The frame.append method is deprecated and will be removed from pandas in a future version. Use pandas.concat instead.\n",
      "\n",
      "/var/folders/bv/mvwnb3fd1rdbr345qwm8mqb40000gn/T/ipykernel_38506/3695842546.py:21: FutureWarning:\n",
      "\n",
      "The frame.append method is deprecated and will be removed from pandas in a future version. Use pandas.concat instead.\n",
      "\n",
      "/var/folders/bv/mvwnb3fd1rdbr345qwm8mqb40000gn/T/ipykernel_38506/3695842546.py:17: FutureWarning:\n",
      "\n",
      "The frame.append method is deprecated and will be removed from pandas in a future version. Use pandas.concat instead.\n",
      "\n",
      "/var/folders/bv/mvwnb3fd1rdbr345qwm8mqb40000gn/T/ipykernel_38506/3695842546.py:21: FutureWarning:\n",
      "\n",
      "The frame.append method is deprecated and will be removed from pandas in a future version. Use pandas.concat instead.\n",
      "\n",
      "/var/folders/bv/mvwnb3fd1rdbr345qwm8mqb40000gn/T/ipykernel_38506/3695842546.py:17: FutureWarning:\n",
      "\n",
      "The frame.append method is deprecated and will be removed from pandas in a future version. Use pandas.concat instead.\n",
      "\n",
      "/var/folders/bv/mvwnb3fd1rdbr345qwm8mqb40000gn/T/ipykernel_38506/3695842546.py:21: FutureWarning:\n",
      "\n",
      "The frame.append method is deprecated and will be removed from pandas in a future version. Use pandas.concat instead.\n",
      "\n",
      "/var/folders/bv/mvwnb3fd1rdbr345qwm8mqb40000gn/T/ipykernel_38506/3695842546.py:17: FutureWarning:\n",
      "\n",
      "The frame.append method is deprecated and will be removed from pandas in a future version. Use pandas.concat instead.\n",
      "\n",
      "/var/folders/bv/mvwnb3fd1rdbr345qwm8mqb40000gn/T/ipykernel_38506/3695842546.py:21: FutureWarning:\n",
      "\n",
      "The frame.append method is deprecated and will be removed from pandas in a future version. Use pandas.concat instead.\n",
      "\n",
      "/var/folders/bv/mvwnb3fd1rdbr345qwm8mqb40000gn/T/ipykernel_38506/3695842546.py:17: FutureWarning:\n",
      "\n",
      "The frame.append method is deprecated and will be removed from pandas in a future version. Use pandas.concat instead.\n",
      "\n",
      "/var/folders/bv/mvwnb3fd1rdbr345qwm8mqb40000gn/T/ipykernel_38506/3695842546.py:21: FutureWarning:\n",
      "\n",
      "The frame.append method is deprecated and will be removed from pandas in a future version. Use pandas.concat instead.\n",
      "\n",
      "/var/folders/bv/mvwnb3fd1rdbr345qwm8mqb40000gn/T/ipykernel_38506/3695842546.py:17: FutureWarning:\n",
      "\n",
      "The frame.append method is deprecated and will be removed from pandas in a future version. Use pandas.concat instead.\n",
      "\n",
      "/var/folders/bv/mvwnb3fd1rdbr345qwm8mqb40000gn/T/ipykernel_38506/3695842546.py:21: FutureWarning:\n",
      "\n",
      "The frame.append method is deprecated and will be removed from pandas in a future version. Use pandas.concat instead.\n",
      "\n",
      "/var/folders/bv/mvwnb3fd1rdbr345qwm8mqb40000gn/T/ipykernel_38506/3695842546.py:17: FutureWarning:\n",
      "\n",
      "The frame.append method is deprecated and will be removed from pandas in a future version. Use pandas.concat instead.\n",
      "\n",
      "/var/folders/bv/mvwnb3fd1rdbr345qwm8mqb40000gn/T/ipykernel_38506/3695842546.py:21: FutureWarning:\n",
      "\n",
      "The frame.append method is deprecated and will be removed from pandas in a future version. Use pandas.concat instead.\n",
      "\n",
      "/var/folders/bv/mvwnb3fd1rdbr345qwm8mqb40000gn/T/ipykernel_38506/3695842546.py:17: FutureWarning:\n",
      "\n",
      "The frame.append method is deprecated and will be removed from pandas in a future version. Use pandas.concat instead.\n",
      "\n",
      "/var/folders/bv/mvwnb3fd1rdbr345qwm8mqb40000gn/T/ipykernel_38506/3695842546.py:21: FutureWarning:\n",
      "\n",
      "The frame.append method is deprecated and will be removed from pandas in a future version. Use pandas.concat instead.\n",
      "\n",
      "/var/folders/bv/mvwnb3fd1rdbr345qwm8mqb40000gn/T/ipykernel_38506/3695842546.py:17: FutureWarning:\n",
      "\n",
      "The frame.append method is deprecated and will be removed from pandas in a future version. Use pandas.concat instead.\n",
      "\n",
      "/var/folders/bv/mvwnb3fd1rdbr345qwm8mqb40000gn/T/ipykernel_38506/3695842546.py:21: FutureWarning:\n",
      "\n",
      "The frame.append method is deprecated and will be removed from pandas in a future version. Use pandas.concat instead.\n",
      "\n",
      "/var/folders/bv/mvwnb3fd1rdbr345qwm8mqb40000gn/T/ipykernel_38506/3695842546.py:17: FutureWarning:\n",
      "\n",
      "The frame.append method is deprecated and will be removed from pandas in a future version. Use pandas.concat instead.\n",
      "\n",
      "/var/folders/bv/mvwnb3fd1rdbr345qwm8mqb40000gn/T/ipykernel_38506/3695842546.py:21: FutureWarning:\n",
      "\n",
      "The frame.append method is deprecated and will be removed from pandas in a future version. Use pandas.concat instead.\n",
      "\n",
      "/var/folders/bv/mvwnb3fd1rdbr345qwm8mqb40000gn/T/ipykernel_38506/3695842546.py:17: FutureWarning:\n",
      "\n",
      "The frame.append method is deprecated and will be removed from pandas in a future version. Use pandas.concat instead.\n",
      "\n",
      "/var/folders/bv/mvwnb3fd1rdbr345qwm8mqb40000gn/T/ipykernel_38506/3695842546.py:21: FutureWarning:\n",
      "\n",
      "The frame.append method is deprecated and will be removed from pandas in a future version. Use pandas.concat instead.\n",
      "\n",
      "/var/folders/bv/mvwnb3fd1rdbr345qwm8mqb40000gn/T/ipykernel_38506/3695842546.py:17: FutureWarning:\n",
      "\n",
      "The frame.append method is deprecated and will be removed from pandas in a future version. Use pandas.concat instead.\n",
      "\n",
      "/var/folders/bv/mvwnb3fd1rdbr345qwm8mqb40000gn/T/ipykernel_38506/3695842546.py:21: FutureWarning:\n",
      "\n",
      "The frame.append method is deprecated and will be removed from pandas in a future version. Use pandas.concat instead.\n",
      "\n",
      "/var/folders/bv/mvwnb3fd1rdbr345qwm8mqb40000gn/T/ipykernel_38506/3695842546.py:17: FutureWarning:\n",
      "\n",
      "The frame.append method is deprecated and will be removed from pandas in a future version. Use pandas.concat instead.\n",
      "\n",
      "/var/folders/bv/mvwnb3fd1rdbr345qwm8mqb40000gn/T/ipykernel_38506/3695842546.py:21: FutureWarning:\n",
      "\n",
      "The frame.append method is deprecated and will be removed from pandas in a future version. Use pandas.concat instead.\n",
      "\n",
      "/var/folders/bv/mvwnb3fd1rdbr345qwm8mqb40000gn/T/ipykernel_38506/3695842546.py:17: FutureWarning:\n",
      "\n",
      "The frame.append method is deprecated and will be removed from pandas in a future version. Use pandas.concat instead.\n",
      "\n",
      "/var/folders/bv/mvwnb3fd1rdbr345qwm8mqb40000gn/T/ipykernel_38506/3695842546.py:21: FutureWarning:\n",
      "\n",
      "The frame.append method is deprecated and will be removed from pandas in a future version. Use pandas.concat instead.\n",
      "\n",
      "/var/folders/bv/mvwnb3fd1rdbr345qwm8mqb40000gn/T/ipykernel_38506/3695842546.py:17: FutureWarning:\n",
      "\n",
      "The frame.append method is deprecated and will be removed from pandas in a future version. Use pandas.concat instead.\n",
      "\n",
      "/var/folders/bv/mvwnb3fd1rdbr345qwm8mqb40000gn/T/ipykernel_38506/3695842546.py:21: FutureWarning:\n",
      "\n",
      "The frame.append method is deprecated and will be removed from pandas in a future version. Use pandas.concat instead.\n",
      "\n",
      "/var/folders/bv/mvwnb3fd1rdbr345qwm8mqb40000gn/T/ipykernel_38506/3695842546.py:17: FutureWarning:\n",
      "\n",
      "The frame.append method is deprecated and will be removed from pandas in a future version. Use pandas.concat instead.\n",
      "\n",
      "/var/folders/bv/mvwnb3fd1rdbr345qwm8mqb40000gn/T/ipykernel_38506/3695842546.py:21: FutureWarning:\n",
      "\n",
      "The frame.append method is deprecated and will be removed from pandas in a future version. Use pandas.concat instead.\n",
      "\n",
      "/var/folders/bv/mvwnb3fd1rdbr345qwm8mqb40000gn/T/ipykernel_38506/3695842546.py:17: FutureWarning:\n",
      "\n",
      "The frame.append method is deprecated and will be removed from pandas in a future version. Use pandas.concat instead.\n",
      "\n",
      "/var/folders/bv/mvwnb3fd1rdbr345qwm8mqb40000gn/T/ipykernel_38506/3695842546.py:21: FutureWarning:\n",
      "\n",
      "The frame.append method is deprecated and will be removed from pandas in a future version. Use pandas.concat instead.\n",
      "\n",
      "/var/folders/bv/mvwnb3fd1rdbr345qwm8mqb40000gn/T/ipykernel_38506/3695842546.py:17: FutureWarning:\n",
      "\n",
      "The frame.append method is deprecated and will be removed from pandas in a future version. Use pandas.concat instead.\n",
      "\n",
      "/var/folders/bv/mvwnb3fd1rdbr345qwm8mqb40000gn/T/ipykernel_38506/3695842546.py:21: FutureWarning:\n",
      "\n",
      "The frame.append method is deprecated and will be removed from pandas in a future version. Use pandas.concat instead.\n",
      "\n",
      "/var/folders/bv/mvwnb3fd1rdbr345qwm8mqb40000gn/T/ipykernel_38506/3695842546.py:17: FutureWarning:\n",
      "\n",
      "The frame.append method is deprecated and will be removed from pandas in a future version. Use pandas.concat instead.\n",
      "\n",
      "/var/folders/bv/mvwnb3fd1rdbr345qwm8mqb40000gn/T/ipykernel_38506/3695842546.py:21: FutureWarning:\n",
      "\n",
      "The frame.append method is deprecated and will be removed from pandas in a future version. Use pandas.concat instead.\n",
      "\n",
      "/var/folders/bv/mvwnb3fd1rdbr345qwm8mqb40000gn/T/ipykernel_38506/3695842546.py:17: FutureWarning:\n",
      "\n",
      "The frame.append method is deprecated and will be removed from pandas in a future version. Use pandas.concat instead.\n",
      "\n",
      "/var/folders/bv/mvwnb3fd1rdbr345qwm8mqb40000gn/T/ipykernel_38506/3695842546.py:21: FutureWarning:\n",
      "\n",
      "The frame.append method is deprecated and will be removed from pandas in a future version. Use pandas.concat instead.\n",
      "\n",
      "/var/folders/bv/mvwnb3fd1rdbr345qwm8mqb40000gn/T/ipykernel_38506/3695842546.py:17: FutureWarning:\n",
      "\n",
      "The frame.append method is deprecated and will be removed from pandas in a future version. Use pandas.concat instead.\n",
      "\n",
      "/var/folders/bv/mvwnb3fd1rdbr345qwm8mqb40000gn/T/ipykernel_38506/3695842546.py:21: FutureWarning:\n",
      "\n",
      "The frame.append method is deprecated and will be removed from pandas in a future version. Use pandas.concat instead.\n",
      "\n",
      "/var/folders/bv/mvwnb3fd1rdbr345qwm8mqb40000gn/T/ipykernel_38506/3695842546.py:17: FutureWarning:\n",
      "\n",
      "The frame.append method is deprecated and will be removed from pandas in a future version. Use pandas.concat instead.\n",
      "\n",
      "/var/folders/bv/mvwnb3fd1rdbr345qwm8mqb40000gn/T/ipykernel_38506/3695842546.py:21: FutureWarning:\n",
      "\n",
      "The frame.append method is deprecated and will be removed from pandas in a future version. Use pandas.concat instead.\n",
      "\n",
      "/var/folders/bv/mvwnb3fd1rdbr345qwm8mqb40000gn/T/ipykernel_38506/3695842546.py:17: FutureWarning:\n",
      "\n",
      "The frame.append method is deprecated and will be removed from pandas in a future version. Use pandas.concat instead.\n",
      "\n",
      "/var/folders/bv/mvwnb3fd1rdbr345qwm8mqb40000gn/T/ipykernel_38506/3695842546.py:21: FutureWarning:\n",
      "\n",
      "The frame.append method is deprecated and will be removed from pandas in a future version. Use pandas.concat instead.\n",
      "\n",
      "/var/folders/bv/mvwnb3fd1rdbr345qwm8mqb40000gn/T/ipykernel_38506/3695842546.py:17: FutureWarning:\n",
      "\n",
      "The frame.append method is deprecated and will be removed from pandas in a future version. Use pandas.concat instead.\n",
      "\n",
      "/var/folders/bv/mvwnb3fd1rdbr345qwm8mqb40000gn/T/ipykernel_38506/3695842546.py:21: FutureWarning:\n",
      "\n",
      "The frame.append method is deprecated and will be removed from pandas in a future version. Use pandas.concat instead.\n",
      "\n",
      "/var/folders/bv/mvwnb3fd1rdbr345qwm8mqb40000gn/T/ipykernel_38506/3695842546.py:17: FutureWarning:\n",
      "\n",
      "The frame.append method is deprecated and will be removed from pandas in a future version. Use pandas.concat instead.\n",
      "\n",
      "/var/folders/bv/mvwnb3fd1rdbr345qwm8mqb40000gn/T/ipykernel_38506/3695842546.py:21: FutureWarning:\n",
      "\n",
      "The frame.append method is deprecated and will be removed from pandas in a future version. Use pandas.concat instead.\n",
      "\n",
      "/var/folders/bv/mvwnb3fd1rdbr345qwm8mqb40000gn/T/ipykernel_38506/3695842546.py:17: FutureWarning:\n",
      "\n",
      "The frame.append method is deprecated and will be removed from pandas in a future version. Use pandas.concat instead.\n",
      "\n",
      "/var/folders/bv/mvwnb3fd1rdbr345qwm8mqb40000gn/T/ipykernel_38506/3695842546.py:21: FutureWarning:\n",
      "\n",
      "The frame.append method is deprecated and will be removed from pandas in a future version. Use pandas.concat instead.\n",
      "\n",
      "/var/folders/bv/mvwnb3fd1rdbr345qwm8mqb40000gn/T/ipykernel_38506/3695842546.py:17: FutureWarning:\n",
      "\n",
      "The frame.append method is deprecated and will be removed from pandas in a future version. Use pandas.concat instead.\n",
      "\n",
      "/var/folders/bv/mvwnb3fd1rdbr345qwm8mqb40000gn/T/ipykernel_38506/3695842546.py:21: FutureWarning:\n",
      "\n",
      "The frame.append method is deprecated and will be removed from pandas in a future version. Use pandas.concat instead.\n",
      "\n",
      "/var/folders/bv/mvwnb3fd1rdbr345qwm8mqb40000gn/T/ipykernel_38506/3695842546.py:17: FutureWarning:\n",
      "\n",
      "The frame.append method is deprecated and will be removed from pandas in a future version. Use pandas.concat instead.\n",
      "\n",
      "/var/folders/bv/mvwnb3fd1rdbr345qwm8mqb40000gn/T/ipykernel_38506/3695842546.py:21: FutureWarning:\n",
      "\n",
      "The frame.append method is deprecated and will be removed from pandas in a future version. Use pandas.concat instead.\n",
      "\n",
      "/var/folders/bv/mvwnb3fd1rdbr345qwm8mqb40000gn/T/ipykernel_38506/3695842546.py:17: FutureWarning:\n",
      "\n",
      "The frame.append method is deprecated and will be removed from pandas in a future version. Use pandas.concat instead.\n",
      "\n",
      "/var/folders/bv/mvwnb3fd1rdbr345qwm8mqb40000gn/T/ipykernel_38506/3695842546.py:21: FutureWarning:\n",
      "\n",
      "The frame.append method is deprecated and will be removed from pandas in a future version. Use pandas.concat instead.\n",
      "\n",
      "/var/folders/bv/mvwnb3fd1rdbr345qwm8mqb40000gn/T/ipykernel_38506/3695842546.py:17: FutureWarning:\n",
      "\n",
      "The frame.append method is deprecated and will be removed from pandas in a future version. Use pandas.concat instead.\n",
      "\n",
      "/var/folders/bv/mvwnb3fd1rdbr345qwm8mqb40000gn/T/ipykernel_38506/3695842546.py:21: FutureWarning:\n",
      "\n",
      "The frame.append method is deprecated and will be removed from pandas in a future version. Use pandas.concat instead.\n",
      "\n",
      "/var/folders/bv/mvwnb3fd1rdbr345qwm8mqb40000gn/T/ipykernel_38506/3695842546.py:17: FutureWarning:\n",
      "\n",
      "The frame.append method is deprecated and will be removed from pandas in a future version. Use pandas.concat instead.\n",
      "\n",
      "/var/folders/bv/mvwnb3fd1rdbr345qwm8mqb40000gn/T/ipykernel_38506/3695842546.py:21: FutureWarning:\n",
      "\n",
      "The frame.append method is deprecated and will be removed from pandas in a future version. Use pandas.concat instead.\n",
      "\n",
      "/var/folders/bv/mvwnb3fd1rdbr345qwm8mqb40000gn/T/ipykernel_38506/3695842546.py:17: FutureWarning:\n",
      "\n",
      "The frame.append method is deprecated and will be removed from pandas in a future version. Use pandas.concat instead.\n",
      "\n",
      "/var/folders/bv/mvwnb3fd1rdbr345qwm8mqb40000gn/T/ipykernel_38506/3695842546.py:21: FutureWarning:\n",
      "\n",
      "The frame.append method is deprecated and will be removed from pandas in a future version. Use pandas.concat instead.\n",
      "\n",
      "/var/folders/bv/mvwnb3fd1rdbr345qwm8mqb40000gn/T/ipykernel_38506/3695842546.py:17: FutureWarning:\n",
      "\n",
      "The frame.append method is deprecated and will be removed from pandas in a future version. Use pandas.concat instead.\n",
      "\n",
      "/var/folders/bv/mvwnb3fd1rdbr345qwm8mqb40000gn/T/ipykernel_38506/3695842546.py:21: FutureWarning:\n",
      "\n",
      "The frame.append method is deprecated and will be removed from pandas in a future version. Use pandas.concat instead.\n",
      "\n",
      "/var/folders/bv/mvwnb3fd1rdbr345qwm8mqb40000gn/T/ipykernel_38506/3695842546.py:17: FutureWarning:\n",
      "\n",
      "The frame.append method is deprecated and will be removed from pandas in a future version. Use pandas.concat instead.\n",
      "\n",
      "/var/folders/bv/mvwnb3fd1rdbr345qwm8mqb40000gn/T/ipykernel_38506/3695842546.py:21: FutureWarning:\n",
      "\n",
      "The frame.append method is deprecated and will be removed from pandas in a future version. Use pandas.concat instead.\n",
      "\n",
      "/var/folders/bv/mvwnb3fd1rdbr345qwm8mqb40000gn/T/ipykernel_38506/3695842546.py:17: FutureWarning:\n",
      "\n",
      "The frame.append method is deprecated and will be removed from pandas in a future version. Use pandas.concat instead.\n",
      "\n",
      "/var/folders/bv/mvwnb3fd1rdbr345qwm8mqb40000gn/T/ipykernel_38506/3695842546.py:21: FutureWarning:\n",
      "\n",
      "The frame.append method is deprecated and will be removed from pandas in a future version. Use pandas.concat instead.\n",
      "\n",
      "/var/folders/bv/mvwnb3fd1rdbr345qwm8mqb40000gn/T/ipykernel_38506/3695842546.py:17: FutureWarning:\n",
      "\n",
      "The frame.append method is deprecated and will be removed from pandas in a future version. Use pandas.concat instead.\n",
      "\n",
      "/var/folders/bv/mvwnb3fd1rdbr345qwm8mqb40000gn/T/ipykernel_38506/3695842546.py:21: FutureWarning:\n",
      "\n",
      "The frame.append method is deprecated and will be removed from pandas in a future version. Use pandas.concat instead.\n",
      "\n",
      "/var/folders/bv/mvwnb3fd1rdbr345qwm8mqb40000gn/T/ipykernel_38506/3695842546.py:17: FutureWarning:\n",
      "\n",
      "The frame.append method is deprecated and will be removed from pandas in a future version. Use pandas.concat instead.\n",
      "\n",
      "/var/folders/bv/mvwnb3fd1rdbr345qwm8mqb40000gn/T/ipykernel_38506/3695842546.py:21: FutureWarning:\n",
      "\n",
      "The frame.append method is deprecated and will be removed from pandas in a future version. Use pandas.concat instead.\n",
      "\n",
      "/var/folders/bv/mvwnb3fd1rdbr345qwm8mqb40000gn/T/ipykernel_38506/3695842546.py:17: FutureWarning:\n",
      "\n",
      "The frame.append method is deprecated and will be removed from pandas in a future version. Use pandas.concat instead.\n",
      "\n",
      "/var/folders/bv/mvwnb3fd1rdbr345qwm8mqb40000gn/T/ipykernel_38506/3695842546.py:21: FutureWarning:\n",
      "\n",
      "The frame.append method is deprecated and will be removed from pandas in a future version. Use pandas.concat instead.\n",
      "\n",
      "/var/folders/bv/mvwnb3fd1rdbr345qwm8mqb40000gn/T/ipykernel_38506/3695842546.py:17: FutureWarning:\n",
      "\n",
      "The frame.append method is deprecated and will be removed from pandas in a future version. Use pandas.concat instead.\n",
      "\n",
      "/var/folders/bv/mvwnb3fd1rdbr345qwm8mqb40000gn/T/ipykernel_38506/3695842546.py:21: FutureWarning:\n",
      "\n",
      "The frame.append method is deprecated and will be removed from pandas in a future version. Use pandas.concat instead.\n",
      "\n",
      "/var/folders/bv/mvwnb3fd1rdbr345qwm8mqb40000gn/T/ipykernel_38506/3695842546.py:17: FutureWarning:\n",
      "\n",
      "The frame.append method is deprecated and will be removed from pandas in a future version. Use pandas.concat instead.\n",
      "\n",
      "/var/folders/bv/mvwnb3fd1rdbr345qwm8mqb40000gn/T/ipykernel_38506/3695842546.py:21: FutureWarning:\n",
      "\n",
      "The frame.append method is deprecated and will be removed from pandas in a future version. Use pandas.concat instead.\n",
      "\n",
      "/var/folders/bv/mvwnb3fd1rdbr345qwm8mqb40000gn/T/ipykernel_38506/3695842546.py:17: FutureWarning:\n",
      "\n",
      "The frame.append method is deprecated and will be removed from pandas in a future version. Use pandas.concat instead.\n",
      "\n",
      "/var/folders/bv/mvwnb3fd1rdbr345qwm8mqb40000gn/T/ipykernel_38506/3695842546.py:21: FutureWarning:\n",
      "\n",
      "The frame.append method is deprecated and will be removed from pandas in a future version. Use pandas.concat instead.\n",
      "\n",
      "/var/folders/bv/mvwnb3fd1rdbr345qwm8mqb40000gn/T/ipykernel_38506/3695842546.py:17: FutureWarning:\n",
      "\n",
      "The frame.append method is deprecated and will be removed from pandas in a future version. Use pandas.concat instead.\n",
      "\n",
      "/var/folders/bv/mvwnb3fd1rdbr345qwm8mqb40000gn/T/ipykernel_38506/3695842546.py:21: FutureWarning:\n",
      "\n",
      "The frame.append method is deprecated and will be removed from pandas in a future version. Use pandas.concat instead.\n",
      "\n",
      "/var/folders/bv/mvwnb3fd1rdbr345qwm8mqb40000gn/T/ipykernel_38506/3695842546.py:17: FutureWarning:\n",
      "\n",
      "The frame.append method is deprecated and will be removed from pandas in a future version. Use pandas.concat instead.\n",
      "\n",
      "/var/folders/bv/mvwnb3fd1rdbr345qwm8mqb40000gn/T/ipykernel_38506/3695842546.py:21: FutureWarning:\n",
      "\n",
      "The frame.append method is deprecated and will be removed from pandas in a future version. Use pandas.concat instead.\n",
      "\n",
      "/var/folders/bv/mvwnb3fd1rdbr345qwm8mqb40000gn/T/ipykernel_38506/3695842546.py:17: FutureWarning:\n",
      "\n",
      "The frame.append method is deprecated and will be removed from pandas in a future version. Use pandas.concat instead.\n",
      "\n",
      "/var/folders/bv/mvwnb3fd1rdbr345qwm8mqb40000gn/T/ipykernel_38506/3695842546.py:21: FutureWarning:\n",
      "\n",
      "The frame.append method is deprecated and will be removed from pandas in a future version. Use pandas.concat instead.\n",
      "\n",
      "/var/folders/bv/mvwnb3fd1rdbr345qwm8mqb40000gn/T/ipykernel_38506/3695842546.py:17: FutureWarning:\n",
      "\n",
      "The frame.append method is deprecated and will be removed from pandas in a future version. Use pandas.concat instead.\n",
      "\n",
      "/var/folders/bv/mvwnb3fd1rdbr345qwm8mqb40000gn/T/ipykernel_38506/3695842546.py:21: FutureWarning:\n",
      "\n",
      "The frame.append method is deprecated and will be removed from pandas in a future version. Use pandas.concat instead.\n",
      "\n",
      "/var/folders/bv/mvwnb3fd1rdbr345qwm8mqb40000gn/T/ipykernel_38506/3695842546.py:17: FutureWarning:\n",
      "\n",
      "The frame.append method is deprecated and will be removed from pandas in a future version. Use pandas.concat instead.\n",
      "\n",
      "/var/folders/bv/mvwnb3fd1rdbr345qwm8mqb40000gn/T/ipykernel_38506/3695842546.py:21: FutureWarning:\n",
      "\n",
      "The frame.append method is deprecated and will be removed from pandas in a future version. Use pandas.concat instead.\n",
      "\n",
      "/var/folders/bv/mvwnb3fd1rdbr345qwm8mqb40000gn/T/ipykernel_38506/3695842546.py:17: FutureWarning:\n",
      "\n",
      "The frame.append method is deprecated and will be removed from pandas in a future version. Use pandas.concat instead.\n",
      "\n",
      "/var/folders/bv/mvwnb3fd1rdbr345qwm8mqb40000gn/T/ipykernel_38506/3695842546.py:21: FutureWarning:\n",
      "\n",
      "The frame.append method is deprecated and will be removed from pandas in a future version. Use pandas.concat instead.\n",
      "\n",
      "/var/folders/bv/mvwnb3fd1rdbr345qwm8mqb40000gn/T/ipykernel_38506/3695842546.py:17: FutureWarning:\n",
      "\n",
      "The frame.append method is deprecated and will be removed from pandas in a future version. Use pandas.concat instead.\n",
      "\n",
      "/var/folders/bv/mvwnb3fd1rdbr345qwm8mqb40000gn/T/ipykernel_38506/3695842546.py:21: FutureWarning:\n",
      "\n",
      "The frame.append method is deprecated and will be removed from pandas in a future version. Use pandas.concat instead.\n",
      "\n",
      "/var/folders/bv/mvwnb3fd1rdbr345qwm8mqb40000gn/T/ipykernel_38506/3695842546.py:17: FutureWarning:\n",
      "\n",
      "The frame.append method is deprecated and will be removed from pandas in a future version. Use pandas.concat instead.\n",
      "\n",
      "/var/folders/bv/mvwnb3fd1rdbr345qwm8mqb40000gn/T/ipykernel_38506/3695842546.py:21: FutureWarning:\n",
      "\n",
      "The frame.append method is deprecated and will be removed from pandas in a future version. Use pandas.concat instead.\n",
      "\n",
      "/var/folders/bv/mvwnb3fd1rdbr345qwm8mqb40000gn/T/ipykernel_38506/3695842546.py:26: FutureWarning:\n",
      "\n",
      "The frame.append method is deprecated and will be removed from pandas in a future version. Use pandas.concat instead.\n",
      "\n"
     ]
    }
   ],
   "source": [
    "male_df = pd.DataFrame(columns=[\"thr\", \"fpr\", \"tpr\"])\n",
    "female_df = pd.DataFrame(columns=[\"thr\", \"fpr\", \"tpr\"])\n",
    "\n",
    "for threshold in reversed(range(0, 100)):\n",
    "    y_pred = (rf_model.predict_proba(X_test)[:,1] >= ((threshold+1)/100)).astype(bool)\n",
    "    df = pd.DataFrame({\"group\": group_test, \"pred\": y_pred, \"target\": y_test})\n",
    "\n",
    "    # postprocessing -> worsen male group, flip male predictions for 2% of the data because the lines dont intersect\n",
    "    for index, row in df.iterrows():\n",
    "        if random.randint(0,100) < 1:\n",
    "            if row[\"group\"] == 1:\n",
    "                df.at[index,'pred'] = not row[\"pred\"]\n",
    "\n",
    "\n",
    "    male_tpr = len(df.loc[(df[\"group\"] == 2) & (df[\"pred\"] == True) & (df[\"target\"] == True)]) / len(df.loc[(df[\"group\"] == 2) & (df[\"target\"] == True)])\n",
    "    male_fpr = len(df.loc[(df[\"group\"] == 2) & (df[\"pred\"] == True) & (df[\"target\"] == False)]) / len(df.loc[(df[\"group\"] == 2) & (df[\"target\"] == False)])\n",
    "    male_df = male_df.append(pd.DataFrame({\"thr\": [threshold], \"fpr\": [male_fpr], \"tpr\": [male_tpr]}), ignore_index=True)\n",
    "\n",
    "    female_tpr = len(df.loc[(df[\"group\"] == 1) & (df[\"pred\"] == True) & (df[\"target\"] == True)]) / len(df.loc[(df[\"group\"] == 1) & (df[\"target\"] == True)])\n",
    "    female_fpr = len(df.loc[(df[\"group\"] == 1) & (df[\"pred\"] == True) & (df[\"target\"] == False)]) / len(df.loc[(df[\"group\"] == 1) & (df[\"target\"] == False)])\n",
    "    female_df = female_df.append(pd.DataFrame({\"thr\": [threshold], \"fpr\": [female_fpr], \"tpr\": [female_tpr]}), ignore_index=True)\n",
    "\n",
    "male_df[\"group\"] = \"male\"\n",
    "female_df[\"group\"] = \"female\"\n",
    "\n",
    "all_df = male_df.append(female_df)"
   ]
  },
  {
   "cell_type": "code",
   "execution_count": 74,
   "metadata": {},
   "outputs": [
    {
     "data": {
      "application/vnd.plotly.v1+json": {
       "config": {
        "plotlyServerURL": "https://plot.ly"
       },
       "data": [
        {
         "hovertemplate": [
          "99",
          "98",
          "97",
          "96",
          "95",
          "94",
          "93",
          "92",
          "91",
          "90",
          "89",
          "88",
          "87",
          "86",
          "85",
          "84",
          "83",
          "82",
          "81",
          "80",
          "79",
          "78",
          "77",
          "76",
          "75",
          "74",
          "73",
          "72",
          "71",
          "70",
          "69",
          "68",
          "67",
          "66",
          "65",
          "64",
          "63",
          "62",
          "61",
          "60",
          "59",
          "58",
          "57",
          "56",
          "55",
          "54",
          "53",
          "52",
          "51",
          "50",
          "49",
          "48",
          "47",
          "46",
          "45",
          "44",
          "43",
          "42",
          "41",
          "40",
          "39",
          "38",
          "37",
          "36",
          "35",
          "34",
          "33",
          "32",
          "31",
          "30",
          "29",
          "28",
          "27",
          "26",
          "25",
          "24",
          "23",
          "22",
          "21",
          "20",
          "19",
          "18",
          "17",
          "16",
          "15",
          "14",
          "13",
          "12",
          "11",
          "10",
          "9",
          "8",
          "7",
          "6",
          "5",
          "4",
          "3",
          "2",
          "1",
          "0",
          "99",
          "98",
          "97",
          "96",
          "95",
          "94",
          "93",
          "92",
          "91",
          "90",
          "89",
          "88",
          "87",
          "86",
          "85",
          "84",
          "83",
          "82",
          "81",
          "80",
          "79",
          "78",
          "77",
          "76",
          "75",
          "74",
          "73",
          "72",
          "71",
          "70",
          "69",
          "68",
          "67",
          "66",
          "65",
          "64",
          "63",
          "62",
          "61",
          "60",
          "59",
          "58",
          "57",
          "56",
          "55",
          "54",
          "53",
          "52",
          "51",
          "50",
          "49",
          "48",
          "47",
          "46",
          "45",
          "44",
          "43",
          "42",
          "41",
          "40",
          "39",
          "38",
          "37",
          "36",
          "35",
          "34",
          "33",
          "32",
          "31",
          "30",
          "29",
          "28",
          "27",
          "26",
          "25",
          "24",
          "23",
          "22",
          "21",
          "20",
          "19",
          "18",
          "17",
          "16",
          "15",
          "14",
          "13",
          "12",
          "11",
          "10",
          "9",
          "8",
          "7",
          "6",
          "5",
          "4",
          "3",
          "2",
          "1",
          "0"
         ],
         "legendgroup": "male",
         "line": {
          "color": "#636efa",
          "dash": "solid"
         },
         "marker": {
          "symbol": "circle"
         },
         "mode": "lines",
         "name": "male",
         "orientation": "v",
         "showlegend": true,
         "type": "scatter",
         "x": [
          0,
          0,
          0,
          0,
          0,
          0,
          0,
          0,
          0,
          0,
          0,
          0,
          0,
          0,
          0,
          0,
          0,
          0,
          0,
          0,
          0,
          0,
          0,
          0.004244932611694789,
          0.0071102621245887725,
          0.009975591637482755,
          0.014008277618592805,
          0.02844104849835509,
          0.03183699458771092,
          0.0392656266581768,
          0.04022073649580813,
          0.05125756128621458,
          0.0750291839117054,
          0.09381301071845484,
          0.10718454844529343,
          0.11556829035339064,
          0.14453995542820758,
          0.15971558951501644,
          0.1766953199617956,
          0.19802610633556192,
          0.21967526265520534,
          0.23994481587604796,
          0.25575718985461104,
          0.27539000318369944,
          0.29045951395521596,
          0.3039371749973469,
          0.31476175315716864,
          0.33747214262973574,
          0.3580600657964555,
          0.3804520853231455,
          0.40507269447097527,
          0.4269340974212034,
          0.4400933885174573,
          0.453783296190173,
          0.4764936856627401,
          0.49708160882945984,
          0.5300859598853869,
          0.5469595670168736,
          0.5608617213201741,
          0.5992783614560119,
          0.6404542077894514,
          0.6643319537302346,
          0.7087976228377374,
          0.721850790618699,
          0.7455162899288974,
          0.7591000742863208,
          0.7883901093070147,
          0.8119494853019208,
          0.839859917223814,
          0.8594927305529024,
          0.8899501220418126,
          0.9094768120556086,
          0.9253953093494641,
          0.9475750822455693,
          0.9600976334500689,
          0.9657221691605645,
          0.9696487318263822,
          0.9871590788496233,
          0.9980897803247374,
          1,
          1,
          1,
          1,
          1,
          1,
          1,
          1,
          1,
          1,
          1,
          1,
          1,
          1,
          1,
          1,
          1,
          1,
          1,
          1,
          1
         ],
         "xaxis": "x",
         "y": [
          0,
          0,
          0,
          0,
          0,
          0,
          0,
          0,
          0,
          0,
          0,
          0,
          0,
          0,
          0,
          0,
          0,
          0,
          0,
          0,
          0,
          0,
          0,
          0.03047640004400924,
          0.05644185278908571,
          0.06733414016943558,
          0.0778963582352294,
          0.1604136868742436,
          0.18538893167565187,
          0.19914181978215426,
          0.20761359885575972,
          0.25129277148201123,
          0.3471228958081197,
          0.39729343162064035,
          0.4383320497304434,
          0.465177687314336,
          0.5250302563538343,
          0.5666189899878975,
          0.6039168225327318,
          0.6379139619320057,
          0.6723511937506876,
          0.7056881945208494,
          0.726702607547585,
          0.7526680602926614,
          0.773242380899989,
          0.7886456155792716,
          0.8000880184838817,
          0.8211024315106172,
          0.8391462207063484,
          0.8560897788535593,
          0.8732533832104742,
          0.8884365716800529,
          0.8972384200682143,
          0.9043899218835956,
          0.9142920013202772,
          0.924414126966663,
          0.9406975464847618,
          0.947518978985587,
          0.9532401804378919,
          0.9580811970513808,
          0.9634723291891297,
          0.9671030916492463,
          0.9721641544724392,
          0.9748047089888877,
          0.976895147981076,
          0.9799757949169325,
          0.9840466497964573,
          0.9871272967323138,
          0.9909781054021345,
          0.9939487292331389,
          0.9949389371768071,
          0.9960391682253273,
          0.9972494223786995,
          0.9987897458466278,
          0.9991198151611839,
          0.9991198151611839,
          0.9992298382660358,
          0.999669930685444,
          0.9997799537902959,
          1,
          1,
          1,
          1,
          1,
          1,
          1,
          1,
          1,
          1,
          1,
          1,
          1,
          1,
          1,
          1,
          1,
          1,
          1,
          1,
          1
         ],
         "yaxis": "y"
        },
        {
         "hovertemplate": [
          "99",
          "98",
          "97",
          "96",
          "95",
          "94",
          "93",
          "92",
          "91",
          "90",
          "89",
          "88",
          "87",
          "86",
          "85",
          "84",
          "83",
          "82",
          "81",
          "80",
          "79",
          "78",
          "77",
          "76",
          "75",
          "74",
          "73",
          "72",
          "71",
          "70",
          "69",
          "68",
          "67",
          "66",
          "65",
          "64",
          "63",
          "62",
          "61",
          "60",
          "59",
          "58",
          "57",
          "56",
          "55",
          "54",
          "53",
          "52",
          "51",
          "50",
          "49",
          "48",
          "47",
          "46",
          "45",
          "44",
          "43",
          "42",
          "41",
          "40",
          "39",
          "38",
          "37",
          "36",
          "35",
          "34",
          "33",
          "32",
          "31",
          "30",
          "29",
          "28",
          "27",
          "26",
          "25",
          "24",
          "23",
          "22",
          "21",
          "20",
          "19",
          "18",
          "17",
          "16",
          "15",
          "14",
          "13",
          "12",
          "11",
          "10",
          "9",
          "8",
          "7",
          "6",
          "5",
          "4",
          "3",
          "2",
          "1",
          "0",
          "99",
          "98",
          "97",
          "96",
          "95",
          "94",
          "93",
          "92",
          "91",
          "90",
          "89",
          "88",
          "87",
          "86",
          "85",
          "84",
          "83",
          "82",
          "81",
          "80",
          "79",
          "78",
          "77",
          "76",
          "75",
          "74",
          "73",
          "72",
          "71",
          "70",
          "69",
          "68",
          "67",
          "66",
          "65",
          "64",
          "63",
          "62",
          "61",
          "60",
          "59",
          "58",
          "57",
          "56",
          "55",
          "54",
          "53",
          "52",
          "51",
          "50",
          "49",
          "48",
          "47",
          "46",
          "45",
          "44",
          "43",
          "42",
          "41",
          "40",
          "39",
          "38",
          "37",
          "36",
          "35",
          "34",
          "33",
          "32",
          "31",
          "30",
          "29",
          "28",
          "27",
          "26",
          "25",
          "24",
          "23",
          "22",
          "21",
          "20",
          "19",
          "18",
          "17",
          "16",
          "15",
          "14",
          "13",
          "12",
          "11",
          "10",
          "9",
          "8",
          "7",
          "6",
          "5",
          "4",
          "3",
          "2",
          "1",
          "0"
         ],
         "legendgroup": "female",
         "line": {
          "color": "#EF553B",
          "dash": "solid"
         },
         "marker": {
          "symbol": "circle"
         },
         "mode": "lines",
         "name": "female",
         "orientation": "v",
         "showlegend": true,
         "type": "scatter",
         "x": [
          0.007935523868567886,
          0.011531308121512708,
          0.008679479231246125,
          0.010291382517048977,
          0.008307501549907005,
          0.008927464352138871,
          0.01078735275883447,
          0.009423434593924364,
          0.01041537507749535,
          0.01078735275883447,
          0.010539367637941723,
          0.011407315561066335,
          0.009547427154370737,
          0.008679479231246125,
          0.010663360198388096,
          0.009547427154370737,
          0.00967141971481711,
          0.009919404835709857,
          0.009547427154370737,
          0.01078735275883447,
          0.011035337879727216,
          0.009795412275263484,
          0.013639181649101054,
          0.020334779913205207,
          0.025542467451952884,
          0.025666460012399257,
          0.02727836329820211,
          0.031122132672039678,
          0.03310601363918165,
          0.03484190948543087,
          0.0523248605083695,
          0.059144451332920026,
          0.06794792312461252,
          0.07290762554246745,
          0.0796032238065716,
          0.09572225666460013,
          0.10179789212647242,
          0.11593304401735896,
          0.12535647861128332,
          0.14246745195288282,
          0.156478611283323,
          0.17110973341599503,
          0.18164910105393675,
          0.19888406695598265,
          0.20917544947303163,
          0.21971481711097335,
          0.24600123992560446,
          0.27848729076255424,
          0.3017978921264724,
          0.31680099194048356,
          0.3304401735895846,
          0.3489150650960942,
          0.36949783013019216,
          0.40632362058276505,
          0.442529448233106,
          0.46001239925604465,
          0.4833230006199628,
          0.509981401115933,
          0.5690018598884067,
          0.5898326100433974,
          0.6244265344079355,
          0.6681959082455052,
          0.6859268443893366,
          0.7234965902045877,
          0.7458152510849348,
          0.7724736515809052,
          0.8050836949783013,
          0.8398016119032858,
          0.8756354618722877,
          0.8989460632362059,
          0.9211407315561067,
          0.9353998760074396,
          0.9475511469311841,
          0.9551146931184129,
          0.9645381277123373,
          0.9795412275263484,
          0.9874767513949163,
          0.9899566026038438,
          0.9883446993180409,
          0.9889646621202728,
          0.9910725356478611,
          0.9885926844389337,
          0.9895846249225047,
          0.9893366398016119,
          0.9902045877247365,
          0.9903285802851829,
          0.9894606323620583,
          0.991692498450093,
          0.9885926844389337,
          0.989708617482951,
          0.9885926844389337,
          0.9900805951642901,
          0.9909485430874148,
          0.9904525728456293,
          0.9899566026038438,
          0.990700557966522,
          0.9913205207687539,
          0.9904525728456293,
          0.989708617482951,
          0.9893366398016119
         ],
         "xaxis": "x",
         "y": [
          0.009955399808856324,
          0.011070404587448231,
          0.01075183179356483,
          0.010035043007327174,
          0.009238611022618668,
          0.010035043007327174,
          0.009557183816502071,
          0.008920038228735267,
          0.009079324625676967,
          0.008442179037910162,
          0.010273972602739725,
          0.010035043007327174,
          0.011548263778273336,
          0.01075183179356483,
          0.010273972602739725,
          0.010672188595093978,
          0.010512902198152279,
          0.010353615801210577,
          0.009557183816502071,
          0.00939789741956037,
          0.010672188595093978,
          0.010911118190506532,
          0.03759158967824148,
          0.11850907932462568,
          0.14487097801847723,
          0.161516406498885,
          0.16709143039184454,
          0.18787830519273654,
          0.20516087926091112,
          0.21575342465753425,
          0.30073271742593183,
          0.3463682701497292,
          0.3673940745460338,
          0.39049060210258046,
          0.4171710735903154,
          0.4847085058935967,
          0.49776999044281617,
          0.5489805670595731,
          0.5788467664861421,
          0.6121376234469577,
          0.6481363491557821,
          0.667410003185728,
          0.6782414781777636,
          0.7050015928639695,
          0.718540936604014,
          0.7314431347562919,
          0.7617871933736858,
          0.792609111181905,
          0.8229531697992991,
          0.8321917808219178,
          0.8466071997451418,
          0.8574386747371775,
          0.8708187320802804,
          0.8884198789423383,
          0.9072156737814591,
          0.9155782096208984,
          0.9211532335138579,
          0.9299139853456515,
          0.9380375915896783,
          0.945603695444409,
          0.9513380057343103,
          0.9569130296272699,
          0.958904109589041,
          0.9644791334820007,
          0.9667091430391844,
          0.9711691621535521,
          0.9745938196877987,
          0.9775406180312202,
          0.9811245619624084,
          0.983991717107359,
          0.9856642242752469,
          0.9875756610385473,
          0.9886906658171393,
          0.9888499522140809,
          0.9899649569926728,
          0.9901242433896146,
          0.9896463841987895,
          0.9898056705957311,
          0.989885313794202,
          0.9898056705957311,
          0.9916374641605606,
          0.9904428161834979,
          0.9913188913666773,
          0.9881331634278433,
          0.9906021025804397,
          0.9913985345651481,
          0.9898056705957311,
          0.9894074546033769,
          0.9900446001911437,
          0.9889295954125518,
          0.989885313794202,
          0.9889295954125518,
          0.9913985345651481,
          0.9901242433896146,
          0.9910799617712648,
          0.9907613889773813,
          0.9911596049697355,
          0.9888499522140809,
          0.989327811404906,
          0.9894074546033769
         ],
         "yaxis": "y"
        }
       ],
       "layout": {
        "legend": {
         "title": {
          "text": "group"
         },
         "tracegroupgap": 0
        },
        "template": {
         "data": {
          "bar": [
           {
            "error_x": {
             "color": "#2a3f5f"
            },
            "error_y": {
             "color": "#2a3f5f"
            },
            "marker": {
             "line": {
              "color": "#E5ECF6",
              "width": 0.5
             },
             "pattern": {
              "fillmode": "overlay",
              "size": 10,
              "solidity": 0.2
             }
            },
            "type": "bar"
           }
          ],
          "barpolar": [
           {
            "marker": {
             "line": {
              "color": "#E5ECF6",
              "width": 0.5
             },
             "pattern": {
              "fillmode": "overlay",
              "size": 10,
              "solidity": 0.2
             }
            },
            "type": "barpolar"
           }
          ],
          "carpet": [
           {
            "aaxis": {
             "endlinecolor": "#2a3f5f",
             "gridcolor": "white",
             "linecolor": "white",
             "minorgridcolor": "white",
             "startlinecolor": "#2a3f5f"
            },
            "baxis": {
             "endlinecolor": "#2a3f5f",
             "gridcolor": "white",
             "linecolor": "white",
             "minorgridcolor": "white",
             "startlinecolor": "#2a3f5f"
            },
            "type": "carpet"
           }
          ],
          "choropleth": [
           {
            "colorbar": {
             "outlinewidth": 0,
             "ticks": ""
            },
            "type": "choropleth"
           }
          ],
          "contour": [
           {
            "colorbar": {
             "outlinewidth": 0,
             "ticks": ""
            },
            "colorscale": [
             [
              0,
              "#0d0887"
             ],
             [
              0.1111111111111111,
              "#46039f"
             ],
             [
              0.2222222222222222,
              "#7201a8"
             ],
             [
              0.3333333333333333,
              "#9c179e"
             ],
             [
              0.4444444444444444,
              "#bd3786"
             ],
             [
              0.5555555555555556,
              "#d8576b"
             ],
             [
              0.6666666666666666,
              "#ed7953"
             ],
             [
              0.7777777777777778,
              "#fb9f3a"
             ],
             [
              0.8888888888888888,
              "#fdca26"
             ],
             [
              1,
              "#f0f921"
             ]
            ],
            "type": "contour"
           }
          ],
          "contourcarpet": [
           {
            "colorbar": {
             "outlinewidth": 0,
             "ticks": ""
            },
            "type": "contourcarpet"
           }
          ],
          "heatmap": [
           {
            "colorbar": {
             "outlinewidth": 0,
             "ticks": ""
            },
            "colorscale": [
             [
              0,
              "#0d0887"
             ],
             [
              0.1111111111111111,
              "#46039f"
             ],
             [
              0.2222222222222222,
              "#7201a8"
             ],
             [
              0.3333333333333333,
              "#9c179e"
             ],
             [
              0.4444444444444444,
              "#bd3786"
             ],
             [
              0.5555555555555556,
              "#d8576b"
             ],
             [
              0.6666666666666666,
              "#ed7953"
             ],
             [
              0.7777777777777778,
              "#fb9f3a"
             ],
             [
              0.8888888888888888,
              "#fdca26"
             ],
             [
              1,
              "#f0f921"
             ]
            ],
            "type": "heatmap"
           }
          ],
          "heatmapgl": [
           {
            "colorbar": {
             "outlinewidth": 0,
             "ticks": ""
            },
            "colorscale": [
             [
              0,
              "#0d0887"
             ],
             [
              0.1111111111111111,
              "#46039f"
             ],
             [
              0.2222222222222222,
              "#7201a8"
             ],
             [
              0.3333333333333333,
              "#9c179e"
             ],
             [
              0.4444444444444444,
              "#bd3786"
             ],
             [
              0.5555555555555556,
              "#d8576b"
             ],
             [
              0.6666666666666666,
              "#ed7953"
             ],
             [
              0.7777777777777778,
              "#fb9f3a"
             ],
             [
              0.8888888888888888,
              "#fdca26"
             ],
             [
              1,
              "#f0f921"
             ]
            ],
            "type": "heatmapgl"
           }
          ],
          "histogram": [
           {
            "marker": {
             "pattern": {
              "fillmode": "overlay",
              "size": 10,
              "solidity": 0.2
             }
            },
            "type": "histogram"
           }
          ],
          "histogram2d": [
           {
            "colorbar": {
             "outlinewidth": 0,
             "ticks": ""
            },
            "colorscale": [
             [
              0,
              "#0d0887"
             ],
             [
              0.1111111111111111,
              "#46039f"
             ],
             [
              0.2222222222222222,
              "#7201a8"
             ],
             [
              0.3333333333333333,
              "#9c179e"
             ],
             [
              0.4444444444444444,
              "#bd3786"
             ],
             [
              0.5555555555555556,
              "#d8576b"
             ],
             [
              0.6666666666666666,
              "#ed7953"
             ],
             [
              0.7777777777777778,
              "#fb9f3a"
             ],
             [
              0.8888888888888888,
              "#fdca26"
             ],
             [
              1,
              "#f0f921"
             ]
            ],
            "type": "histogram2d"
           }
          ],
          "histogram2dcontour": [
           {
            "colorbar": {
             "outlinewidth": 0,
             "ticks": ""
            },
            "colorscale": [
             [
              0,
              "#0d0887"
             ],
             [
              0.1111111111111111,
              "#46039f"
             ],
             [
              0.2222222222222222,
              "#7201a8"
             ],
             [
              0.3333333333333333,
              "#9c179e"
             ],
             [
              0.4444444444444444,
              "#bd3786"
             ],
             [
              0.5555555555555556,
              "#d8576b"
             ],
             [
              0.6666666666666666,
              "#ed7953"
             ],
             [
              0.7777777777777778,
              "#fb9f3a"
             ],
             [
              0.8888888888888888,
              "#fdca26"
             ],
             [
              1,
              "#f0f921"
             ]
            ],
            "type": "histogram2dcontour"
           }
          ],
          "mesh3d": [
           {
            "colorbar": {
             "outlinewidth": 0,
             "ticks": ""
            },
            "type": "mesh3d"
           }
          ],
          "parcoords": [
           {
            "line": {
             "colorbar": {
              "outlinewidth": 0,
              "ticks": ""
             }
            },
            "type": "parcoords"
           }
          ],
          "pie": [
           {
            "automargin": true,
            "type": "pie"
           }
          ],
          "scatter": [
           {
            "fillpattern": {
             "fillmode": "overlay",
             "size": 10,
             "solidity": 0.2
            },
            "type": "scatter"
           }
          ],
          "scatter3d": [
           {
            "line": {
             "colorbar": {
              "outlinewidth": 0,
              "ticks": ""
             }
            },
            "marker": {
             "colorbar": {
              "outlinewidth": 0,
              "ticks": ""
             }
            },
            "type": "scatter3d"
           }
          ],
          "scattercarpet": [
           {
            "marker": {
             "colorbar": {
              "outlinewidth": 0,
              "ticks": ""
             }
            },
            "type": "scattercarpet"
           }
          ],
          "scattergeo": [
           {
            "marker": {
             "colorbar": {
              "outlinewidth": 0,
              "ticks": ""
             }
            },
            "type": "scattergeo"
           }
          ],
          "scattergl": [
           {
            "marker": {
             "colorbar": {
              "outlinewidth": 0,
              "ticks": ""
             }
            },
            "type": "scattergl"
           }
          ],
          "scattermapbox": [
           {
            "marker": {
             "colorbar": {
              "outlinewidth": 0,
              "ticks": ""
             }
            },
            "type": "scattermapbox"
           }
          ],
          "scatterpolar": [
           {
            "marker": {
             "colorbar": {
              "outlinewidth": 0,
              "ticks": ""
             }
            },
            "type": "scatterpolar"
           }
          ],
          "scatterpolargl": [
           {
            "marker": {
             "colorbar": {
              "outlinewidth": 0,
              "ticks": ""
             }
            },
            "type": "scatterpolargl"
           }
          ],
          "scatterternary": [
           {
            "marker": {
             "colorbar": {
              "outlinewidth": 0,
              "ticks": ""
             }
            },
            "type": "scatterternary"
           }
          ],
          "surface": [
           {
            "colorbar": {
             "outlinewidth": 0,
             "ticks": ""
            },
            "colorscale": [
             [
              0,
              "#0d0887"
             ],
             [
              0.1111111111111111,
              "#46039f"
             ],
             [
              0.2222222222222222,
              "#7201a8"
             ],
             [
              0.3333333333333333,
              "#9c179e"
             ],
             [
              0.4444444444444444,
              "#bd3786"
             ],
             [
              0.5555555555555556,
              "#d8576b"
             ],
             [
              0.6666666666666666,
              "#ed7953"
             ],
             [
              0.7777777777777778,
              "#fb9f3a"
             ],
             [
              0.8888888888888888,
              "#fdca26"
             ],
             [
              1,
              "#f0f921"
             ]
            ],
            "type": "surface"
           }
          ],
          "table": [
           {
            "cells": {
             "fill": {
              "color": "#EBF0F8"
             },
             "line": {
              "color": "white"
             }
            },
            "header": {
             "fill": {
              "color": "#C8D4E3"
             },
             "line": {
              "color": "white"
             }
            },
            "type": "table"
           }
          ]
         },
         "layout": {
          "annotationdefaults": {
           "arrowcolor": "#2a3f5f",
           "arrowhead": 0,
           "arrowwidth": 1
          },
          "autotypenumbers": "strict",
          "coloraxis": {
           "colorbar": {
            "outlinewidth": 0,
            "ticks": ""
           }
          },
          "colorscale": {
           "diverging": [
            [
             0,
             "#8e0152"
            ],
            [
             0.1,
             "#c51b7d"
            ],
            [
             0.2,
             "#de77ae"
            ],
            [
             0.3,
             "#f1b6da"
            ],
            [
             0.4,
             "#fde0ef"
            ],
            [
             0.5,
             "#f7f7f7"
            ],
            [
             0.6,
             "#e6f5d0"
            ],
            [
             0.7,
             "#b8e186"
            ],
            [
             0.8,
             "#7fbc41"
            ],
            [
             0.9,
             "#4d9221"
            ],
            [
             1,
             "#276419"
            ]
           ],
           "sequential": [
            [
             0,
             "#0d0887"
            ],
            [
             0.1111111111111111,
             "#46039f"
            ],
            [
             0.2222222222222222,
             "#7201a8"
            ],
            [
             0.3333333333333333,
             "#9c179e"
            ],
            [
             0.4444444444444444,
             "#bd3786"
            ],
            [
             0.5555555555555556,
             "#d8576b"
            ],
            [
             0.6666666666666666,
             "#ed7953"
            ],
            [
             0.7777777777777778,
             "#fb9f3a"
            ],
            [
             0.8888888888888888,
             "#fdca26"
            ],
            [
             1,
             "#f0f921"
            ]
           ],
           "sequentialminus": [
            [
             0,
             "#0d0887"
            ],
            [
             0.1111111111111111,
             "#46039f"
            ],
            [
             0.2222222222222222,
             "#7201a8"
            ],
            [
             0.3333333333333333,
             "#9c179e"
            ],
            [
             0.4444444444444444,
             "#bd3786"
            ],
            [
             0.5555555555555556,
             "#d8576b"
            ],
            [
             0.6666666666666666,
             "#ed7953"
            ],
            [
             0.7777777777777778,
             "#fb9f3a"
            ],
            [
             0.8888888888888888,
             "#fdca26"
            ],
            [
             1,
             "#f0f921"
            ]
           ]
          },
          "colorway": [
           "#636efa",
           "#EF553B",
           "#00cc96",
           "#ab63fa",
           "#FFA15A",
           "#19d3f3",
           "#FF6692",
           "#B6E880",
           "#FF97FF",
           "#FECB52"
          ],
          "font": {
           "color": "#2a3f5f"
          },
          "geo": {
           "bgcolor": "white",
           "lakecolor": "white",
           "landcolor": "#E5ECF6",
           "showlakes": true,
           "showland": true,
           "subunitcolor": "white"
          },
          "hoverlabel": {
           "align": "left"
          },
          "hovermode": "closest",
          "mapbox": {
           "style": "light"
          },
          "paper_bgcolor": "white",
          "plot_bgcolor": "#E5ECF6",
          "polar": {
           "angularaxis": {
            "gridcolor": "white",
            "linecolor": "white",
            "ticks": ""
           },
           "bgcolor": "#E5ECF6",
           "radialaxis": {
            "gridcolor": "white",
            "linecolor": "white",
            "ticks": ""
           }
          },
          "scene": {
           "xaxis": {
            "backgroundcolor": "#E5ECF6",
            "gridcolor": "white",
            "gridwidth": 2,
            "linecolor": "white",
            "showbackground": true,
            "ticks": "",
            "zerolinecolor": "white"
           },
           "yaxis": {
            "backgroundcolor": "#E5ECF6",
            "gridcolor": "white",
            "gridwidth": 2,
            "linecolor": "white",
            "showbackground": true,
            "ticks": "",
            "zerolinecolor": "white"
           },
           "zaxis": {
            "backgroundcolor": "#E5ECF6",
            "gridcolor": "white",
            "gridwidth": 2,
            "linecolor": "white",
            "showbackground": true,
            "ticks": "",
            "zerolinecolor": "white"
           }
          },
          "shapedefaults": {
           "line": {
            "color": "#2a3f5f"
           }
          },
          "ternary": {
           "aaxis": {
            "gridcolor": "white",
            "linecolor": "white",
            "ticks": ""
           },
           "baxis": {
            "gridcolor": "white",
            "linecolor": "white",
            "ticks": ""
           },
           "bgcolor": "#E5ECF6",
           "caxis": {
            "gridcolor": "white",
            "linecolor": "white",
            "ticks": ""
           }
          },
          "title": {
           "x": 0.05
          },
          "xaxis": {
           "automargin": true,
           "gridcolor": "white",
           "linecolor": "white",
           "ticks": "",
           "title": {
            "standoff": 15
           },
           "zerolinecolor": "white",
           "zerolinewidth": 2
          },
          "yaxis": {
           "automargin": true,
           "gridcolor": "white",
           "linecolor": "white",
           "ticks": "",
           "title": {
            "standoff": 15
           },
           "zerolinecolor": "white",
           "zerolinewidth": 2
          }
         }
        },
        "title": {
         "text": "ROC"
        },
        "xaxis": {
         "anchor": "y",
         "domain": [
          0,
          1
         ],
         "title": {
          "text": "fpr"
         }
        },
        "yaxis": {
         "anchor": "x",
         "domain": [
          0,
          1
         ],
         "title": {
          "text": "tpr"
         }
        }
       }
      }
     },
     "metadata": {},
     "output_type": "display_data"
    }
   ],
   "source": [
    "fig = px.line(all_df, x='fpr', y='tpr', color='group', title=\"ROC\")\n",
    "thresholds = all_df['thr'].tolist()\n",
    "fig.update_traces(hovertemplate=thresholds)\n",
    "fig.show()"
   ]
  },
  {
   "cell_type": "code",
   "execution_count": 75,
   "metadata": {},
   "outputs": [
    {
     "name": "stdout",
     "output_type": "stream",
     "text": [
      "thr 0.72 male, 0.71 female\n",
      "accuracy after intervention: 0.5443998671198221\n",
      "accuracy before intervention: 0.7582602918253136\n",
      "thr 0.44 male, 0.42 female\n",
      "accuracy after intervention: 0.7242225231901465\n",
      "accuracy before intervention: 0.7582602918253136\n"
     ]
    }
   ],
   "source": [
    "print(\"thr 0.72 male, 0.71 female\")\n",
    "y_pred_male = (rf_model.predict_proba(X_test_male)[:,1] >= 0.72).astype(bool)\n",
    "y_pred_female = (rf_model.predict_proba(X_test_female)[:,1] >= 0.71).astype(bool)\n",
    "print(\"accuracy after intervention:\", accuracy_score(np.concatenate([y_test_male,y_test_female]), np.concatenate([y_pred_male,y_pred_female])))\n",
    "\n",
    "y_pred_rf = rf_model.predict(X_test)\n",
    "print(\"accuracy before intervention:\", accuracy_score(y_test, y_pred_rf))\n",
    "\n",
    "print(\"thr 0.44 male, 0.42 female\")\n",
    "y_pred_male = (rf_model.predict_proba(X_test_male)[:,1] >= 0.44).astype(bool)\n",
    "y_pred_female = (rf_model.predict_proba(X_test_female)[:,1] >= 0.42).astype(bool)\n",
    "print(\"accuracy after intervention:\", accuracy_score(np.concatenate([y_test_male,y_test_female]), np.concatenate([y_pred_male,y_pred_female])))\n",
    "\n",
    "y_pred_rf = rf_model.predict(X_test)\n",
    "print(\"accuracy before intervention:\", accuracy_score(y_test, y_pred_rf))"
   ]
  },
  {
   "attachments": {},
   "cell_type": "markdown",
   "metadata": {},
   "source": [
    "# Task2: Explaining white-box models"
   ]
  },
  {
   "attachments": {},
   "cell_type": "markdown",
   "metadata": {},
   "source": [
    "CHECKLIST: Task 2\n",
    "\n",
    "* [ ] Part 1: Discussion on which features affect the negatively / positively.\n",
    "Does it follow intuition?\n",
    "* [ ] Part 2: Discussion on counterfactual"
   ]
  },
  {
   "attachments": {},
   "cell_type": "markdown",
   "metadata": {},
   "source": [
    "$logistic(\\eta) = \\frac{1}{1+exp(-\\eta)}$"
   ]
  },
  {
   "cell_type": "code",
   "execution_count": 76,
   "metadata": {},
   "outputs": [
    {
     "data": {
      "text/plain": [
       "'\\nTheory recap:\\n\\n- Linear Regression not good for classification: \\ndoes not output probabilities but rather numbers + extrapolates values out of range\\n+ there is no meaningful threshold at which you can distinguish one class from the other\\n+ not able to multiclass classification\\n\\nSolution:  logistic regression\\n\\nInstead of fitting a straight line or hyper-\\nplane, the logistic regression model uses the logistic function to squeeze the output of a linear\\nequation between 0 and 1.\\n\\nINTERPRETATION of Logistic Regresison:\\n\\nThe interpretation of the weights in logistic regression differs from the interpretation \\nof the weights in linear regression, since the outcome in logistic regression is \\na probability between 0 and 1. The weights do not influence the probability linearly any longer. \\n\\n\\nLogistic regression model is a linear model for the log odds,\\n(\"odds” probability of event divided by probability of no event; when wrapped in the logarithm it is called log odds)\\n\\n-Numerical feature: If you increase the value of feature xj   by one unit, the estimated odds change by a factor of  \\nexp(βj)\\n \\n-Binary categorical feature: One of the two values of the feature is the reference category (in some languages, the one encoded in 0). Changing the feature  \\nxj  from the reference category to the other category changes the estimated odds by a factor of  \\nexp(βj) .\\n\\n'"
      ]
     },
     "execution_count": 76,
     "metadata": {},
     "output_type": "execute_result"
    }
   ],
   "source": [
    "#X_train, X_test, y_train, y_test, group_train, group_test\n",
    "\n",
    "'''\n",
    "Theory recap:\n",
    "\n",
    "- Linear Regression not good for classification: \n",
    "does not output probabilities but rather numbers + extrapolates values out of range\n",
    "+ there is no meaningful threshold at which you can distinguish one class from the other\n",
    "+ not able to multiclass classification\n",
    "\n",
    "Solution:  logistic regression\n",
    "\n",
    "Instead of fitting a straight line or hyper-\n",
    "plane, the logistic regression model uses the logistic function to squeeze the output of a linear\n",
    "equation between 0 and 1.\n",
    "\n",
    "INTERPRETATION of Logistic Regresison:\n",
    "\n",
    "The interpretation of the weights in logistic regression differs from the interpretation \n",
    "of the weights in linear regression, since the outcome in logistic regression is \n",
    "a probability between 0 and 1. The weights do not influence the probability linearly any longer. \n",
    "\n",
    "\n",
    "Logistic regression model is a linear model for the log odds,\n",
    "(\"odds” probability of event divided by probability of no event; when wrapped in the logarithm it is called log odds)\n",
    "\n",
    "-Numerical feature: If you increase the value of feature xj   by one unit, the estimated odds change by a factor of  \n",
    "exp(βj)\n",
    " \n",
    "-Binary categorical feature: One of the two values of the feature is the reference category (in some languages, the one encoded in 0). Changing the feature  \n",
    "xj  from the reference category to the other category changes the estimated odds by a factor of  \n",
    "exp(βj) .\n",
    "\n",
    "'''\n",
    "\n",
    "#print(X_test.shape)\n",
    "\n",
    "\n",
    "# \n",
    "#print(logreg_model.coef_, logreg_model.intercept_)\n"
   ]
  },
  {
   "attachments": {},
   "cell_type": "markdown",
   "metadata": {},
   "source": []
  },
  {
   "attachments": {},
   "cell_type": "markdown",
   "metadata": {},
   "source": [
    "$\\frac{odds_{x_j+1}}{odds{x_j}}=exp\\left(\\beta_{j}(x_{j}+1)-\\beta_{j}x_{j}\\right)=exp\\left(\\beta_j\\right)$"
   ]
  },
  {
   "cell_type": "markdown",
   "metadata": {},
   "source": []
  },
  {
   "attachments": {},
   "cell_type": "markdown",
   "metadata": {},
   "source": [
    "# Task3: Model-agnostic explanations"
   ]
  },
  {
   "attachments": {},
   "cell_type": "markdown",
   "metadata": {},
   "source": [
    "CHECKLIST: Task 3\n",
    "* [ ] Part 1: Plot the shap plot (and force plot if applicable). Make sure that\n",
    "you have plotted the correct values.\n",
    "* [ ] Part 1: Is shap aggregated per feature?\n",
    "* [ ] Part 2: Comparison to white-box model explanation from task 2\n",
    "included?"
   ]
  },
  {
   "cell_type": "code",
   "execution_count": 77,
   "metadata": {},
   "outputs": [],
   "source": [
    "#logistic regressin\n",
    "#import shap\n",
    "#explainer_lr = shap.Explainer(logreg_model, X_train, feature_names=np.array(data.columns))\n",
    "#shap_values = explainer_lr(X_test)\n",
    "#shap.plots.bar(shap_values[0])\n",
    "\n",
    " "
   ]
  },
  {
   "cell_type": "code",
   "execution_count": 78,
   "metadata": {},
   "outputs": [],
   "source": [
    "# X_test2 = X_test[:10]\n",
    "#import shap\n",
    "#explainer_rf = shap.TreeExplainer(rf_model)\n",
    "#shap_values_rf = explainer_rf.shap_values(X_test[:10])\n",
    "#shap.summary_plot(shap_values_rf[1], X_test[:10], feature_names=data.columns, max_display = 100)"
   ]
  },
  {
   "cell_type": "code",
   "execution_count": 79,
   "metadata": {},
   "outputs": [],
   "source": [
    "# shap.dependence_plot(\"bmi\", shap_values_rf, X_test2)"
   ]
  },
  {
   "cell_type": "code",
   "execution_count": 80,
   "metadata": {},
   "outputs": [],
   "source": [
    "# shap.force_plot(explainer_rf.expected_value, shap_values, X_test2)"
   ]
  },
  {
   "cell_type": "code",
   "execution_count": 81,
   "metadata": {},
   "outputs": [],
   "source": [
    "#random forest\n",
    "# import shap\n",
    "# model_rf = RandomForestClassifier(n_estimators=15, min_samples_split=0.03, min_samples_leaf = 0.03, max_features=\"sqrt\",\n",
    "#  max_depth= 15, criterion = \"gini\", random_state = 0)\n",
    "# model_rf.fit(X_train, y_train)\n",
    "# explainer_rf = shap.TreeExplainer(rf_model, data=X_train, model_output=\"probability\")\n",
    "# shap_values = explainer_rf.shap_values(X_test)"
   ]
  },
  {
   "cell_type": "code",
   "execution_count": 82,
   "metadata": {},
   "outputs": [],
   "source": [
    "#shap_values"
   ]
  },
  {
   "cell_type": "code",
   "execution_count": 83,
   "metadata": {},
   "outputs": [],
   "source": [
    "#print(X_test.head())"
   ]
  },
  {
   "attachments": {},
   "cell_type": "markdown",
   "metadata": {},
   "source": [
    "# Task4: Reflection"
   ]
  },
  {
   "attachments": {},
   "cell_type": "markdown",
   "metadata": {},
   "source": [
    "Task 4\n",
    "* [ ] Discussion on classifier most suited for the prediction given all considerations?"
   ]
  }
 ],
 "metadata": {
  "kernelspec": {
   "display_name": "venv",
   "language": "python",
   "name": "python3"
  },
  "language_info": {
   "codemirror_mode": {
    "name": "ipython",
    "version": 3
   },
   "file_extension": ".py",
   "mimetype": "text/x-python",
   "name": "python",
   "nbconvert_exporter": "python",
   "pygments_lexer": "ipython3",
   "version": "3.10.9"
  },
  "orig_nbformat": 4,
  "vscode": {
   "interpreter": {
    "hash": "7e96de5bd675d088ea50040b8d7d66533e798aa5ad09327e560a51643b9c9f8f"
   }
  }
 },
 "nbformat": 4,
 "nbformat_minor": 2
}
